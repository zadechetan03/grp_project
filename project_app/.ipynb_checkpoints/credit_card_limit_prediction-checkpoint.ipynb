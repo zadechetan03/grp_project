{
 "cells": [
  {
   "cell_type": "code",
   "execution_count": 304,
   "id": "f25e06eb",
   "metadata": {},
   "outputs": [],
   "source": [
    "import pandas as pd\n",
    "import numpy as np\n",
    "\n",
    "import seaborn as sns\n",
    "import matplotlib.pyplot as plt\n",
    "\n",
    "from sklearn.linear_model import LogisticRegression\n",
    "from sklearn.model_selection import train_test_split, GridSearchCV, RandomizedSearchCV\n",
    "from sklearn.metrics import accuracy_score, classification_report, confusion_matrix, auc, roc_curve, ConfusionMatrixDisplay\n",
    "from sklearn.preprocessing import MinMaxScaler, StandardScaler\n",
    "\n",
    "from sklearn.neighbors import KNeighborsClassifier\n",
    "from sklearn.tree import DecisionTreeClassifier\n",
    "from sklearn.ensemble import RandomForestClassifier, AdaBoostClassifier\n",
    "\n",
    "import warnings\n",
    "warnings.filterwarnings(\"ignore\")"
   ]
  },
  {
   "cell_type": "code",
   "execution_count": 301,
   "id": "c9dee9a8",
   "metadata": {},
   "outputs": [],
   "source": [
    "model_details = []\n",
    "testing_accuracy_list = []\n",
    "training_accuracy_list = []"
   ]
  },
  {
   "cell_type": "code",
   "execution_count": 314,
   "id": "7ba89534",
   "metadata": {},
   "outputs": [],
   "source": [
    "# Function Definition\n",
    "\n",
    "def outlier_imputation(df):\n",
    "    q1 = df.quantile(0.25)\n",
    "    q3 = df.quantile(0.75)\n",
    "    \n",
    "    iqr = q3-q1\n",
    "    uppertail = q3 + 1.5*iqr\n",
    "    lowertail = q1 - 1.5*iqr\n",
    "    \n",
    "    median = df.loc[(df <= uppertail) & (df >= lowertail)].median()\n",
    "    df.loc[(df < lowertail) | (df > uppertail)] = median\n",
    "    \n",
    "    return sns.boxplot(y=df)\n",
    "\n",
    "def normalization(x_df):\n",
    "    normal_scaler = MinMaxScaler()\n",
    "    array = normal_scaler.fit_transform(x_df)\n",
    "\n",
    "    x_normal_df = pd.DataFrame(array,columns=x_df.columns)\n",
    "    return x_normal_df\n",
    "\n",
    "def adaboost_clf_training(x_train,y_train):\n",
    "    adaboost_clf = AdaBoostClassifier(random_state=39)\n",
    "    adaboost_clf.fit(x_train,y_train)\n",
    "    model_details.append(model_name)\n",
    "    return adaboost_clf\n",
    "\n",
    "def model_evaluation_testing(model,x_test,y_test):\n",
    "    y_pred_test = model.predict(x_test)\n",
    "    print(\"*\"*50,\"Testing Data\",\"*\"*50)\n",
    "    \n",
    "    cnf_matrix = confusion_matrix(y_test,y_pred_test)\n",
    "    print(\"The confusion Matrix is :\\n\",cnf_matrix)\n",
    "    cmd = ConfusionMatrixDisplay(cnf_matrix)\n",
    "    cmd.plot()\n",
    "    print(\"=\"*50)\n",
    "    \n",
    "    accuracy = accuracy_score(y_test,y_pred_test)\n",
    "    print(\"The Accuracy is : \",accuracy)\n",
    "    print(\"=\"*50)\n",
    "    \n",
    "    clf_report = classification_report(y_test,y_pred_test)\n",
    "    print(\"The Classification report is :\\n\",clf_report)\n",
    "    \n",
    "    testing_accuracy_list.append(accuracy)\n",
    "    \n",
    "    \n",
    "def model_evaluation_training(model,x_train,y_train):\n",
    "    y_pred_train = model.predict(x_train)\n",
    "    print(\"*\"*50,\"Training Data\",\"*\"*50)\n",
    "    \n",
    "    cnf_matrix = confusion_matrix(y_train,y_pred_train)\n",
    "    print(\"The confusion matrix is :\\n\",cnf_matrix)\n",
    "    cmd = ConfusionMatrixDisplay(cnf_matrix)\n",
    "    cmd.plot()\n",
    "    print(\"=\"*50)\n",
    "    \n",
    "    accuracy = accuracy_score(y_train,y_pred_train)\n",
    "    print(\"The accuracy is : \",accuracy)\n",
    "    print(\"=\"*50)\n",
    "    \n",
    "    clf_report = classification_report(y_train,y_pred_train)\n",
    "    print(\"The classification Report is :\\n\",clf_report)\n",
    "    \n",
    "    training_accuracy_list.append(accuracy)\n",
    "    \n",
    "def get_auc_roc_curve(model,x_train,y_train):\n",
    "    y_pred_prob = model.predict_proba(x_train)\n",
    "    pred_prob = y_pred_prob[:,1]\n",
    "    \n",
    "    fpr, tpr, thresh = roc_curve(y_train,pred_prob)\n",
    "    \n",
    "    plt.plot(fpr,tpr)\n",
    "    plt.xlabel(\"False Positive Rate (FPR)\")\n",
    "    plt.ylabel(\"True Positive Rate (TPR)\")\n",
    "    plt.title(\"Receiver Operating Characteristic Curve\")\n",
    "    \n",
    "    auc_value =auc(fpr,tpr)\n",
    "    print(\"The AUC is : \",auc_value)\n",
    "    \n",
    "def adb_gscv_best_estimator(x_tarin,y_train):\n",
    "    adb_clf = AdaBoostClassifier()\n",
    "    par_grid = {\"n_estimators\":np.arange(50,100),\n",
    "               \"learning_rate\":[1,2]}\n",
    "    \n",
    "    gscv_adb_clf = GridSearchCV(adb_clf,par_grid,cv=5)\n",
    "    gscv_adb_clf.fit(x_tarin,y_train)\n",
    "    \n",
    "    model_details.append(\"Hyperparameter Tunned GSCV model\")\n",
    "#     best_parameters.append(gscv_adb_clf.best_params_)\n",
    "    \n",
    "    return gscv_adb_clf.best_estimator_\n",
    "\n",
    "def adb_rscv_best_estimator(x_train,y_train):\n",
    "    adb_clf = AdaBoostClassifier()\n",
    "    par_grid = {\"n_estimators\":np.arange(50,100),\n",
    "               \"learning_rate\":[1,2]}\n",
    "    \n",
    "    rscv_adb_clf = RandomizedSearchCV(adb_clf,par_grid,cv=5)\n",
    "    rscv_adb_clf.fit(x_train,y_train)\n",
    "    \n",
    "    model_details.append(\"Hyperparameter Tunned RSCV model\")\n",
    "#     best_parameters.append(rscv_adb_clf.best_params_)\n",
    "    \n",
    "    return rscv_adb_clf.best_estimator_"
   ]
  },
  {
   "cell_type": "markdown",
   "id": "d4ceceb5",
   "metadata": {},
   "source": [
    "# Problem Statement"
   ]
  },
  {
   "cell_type": "code",
   "execution_count": 194,
   "id": "614e45a9",
   "metadata": {},
   "outputs": [],
   "source": [
    "\n",
    "# \"Predicting the Approval of Credit Card for customers using Classification Model:\n",
    "\n",
    "# Using a dataset of Credit Card of customers from csv file the goal of this project is to build a Classification Model by using supervised machine learning.that can accurately predict the medical_insurance based on various \n",
    "# factors such as age,sex,bmi,childrens,region.The model will be evaluated based on its ability to predict sales \n",
    "# revenue on a held-out test dataset, using metrics such as mean squared error and R-squared value.\""
   ]
  },
  {
   "cell_type": "markdown",
   "id": "83c4f946",
   "metadata": {},
   "source": [
    "# Data Gathering"
   ]
  },
  {
   "cell_type": "code",
   "execution_count": 195,
   "id": "5b8cc428",
   "metadata": {},
   "outputs": [
    {
     "data": {
      "text/html": [
       "<div>\n",
       "<style scoped>\n",
       "    .dataframe tbody tr th:only-of-type {\n",
       "        vertical-align: middle;\n",
       "    }\n",
       "\n",
       "    .dataframe tbody tr th {\n",
       "        vertical-align: top;\n",
       "    }\n",
       "\n",
       "    .dataframe thead th {\n",
       "        text-align: right;\n",
       "    }\n",
       "</style>\n",
       "<table border=\"1\" class=\"dataframe\">\n",
       "  <thead>\n",
       "    <tr style=\"text-align: right;\">\n",
       "      <th></th>\n",
       "      <th>Age</th>\n",
       "      <th>Gender</th>\n",
       "      <th>Income</th>\n",
       "      <th>Education</th>\n",
       "      <th>Marital Status</th>\n",
       "      <th>Number of Children</th>\n",
       "      <th>Home Ownership</th>\n",
       "      <th>Credit Score</th>\n",
       "      <th>Loan amount</th>\n",
       "      <th>EMI</th>\n",
       "      <th>Inhand Sallary</th>\n",
       "      <th>Eligibility</th>\n",
       "      <th>Credit card limit (T)</th>\n",
       "      <th>Range</th>\n",
       "    </tr>\n",
       "  </thead>\n",
       "  <tbody>\n",
       "    <tr>\n",
       "      <th>0</th>\n",
       "      <td>25</td>\n",
       "      <td>Female</td>\n",
       "      <td>50000</td>\n",
       "      <td>Bachelor's Degree</td>\n",
       "      <td>Single</td>\n",
       "      <td>0</td>\n",
       "      <td>Rented</td>\n",
       "      <td>High</td>\n",
       "      <td>6000000.0</td>\n",
       "      <td>16666.67</td>\n",
       "      <td>33333</td>\n",
       "      <td>Approved</td>\n",
       "      <td>125000</td>\n",
       "      <td>1 - 1.5</td>\n",
       "    </tr>\n",
       "    <tr>\n",
       "      <th>1</th>\n",
       "      <td>30</td>\n",
       "      <td>Male</td>\n",
       "      <td>100000</td>\n",
       "      <td>Master's Degree</td>\n",
       "      <td>Married</td>\n",
       "      <td>2</td>\n",
       "      <td>Owned</td>\n",
       "      <td>High</td>\n",
       "      <td>10000000.0</td>\n",
       "      <td>33333.33</td>\n",
       "      <td>66667</td>\n",
       "      <td>Approved</td>\n",
       "      <td>250000</td>\n",
       "      <td>1.5 - 3</td>\n",
       "    </tr>\n",
       "    <tr>\n",
       "      <th>2</th>\n",
       "      <td>35</td>\n",
       "      <td>Female</td>\n",
       "      <td>75000</td>\n",
       "      <td>Doctorate</td>\n",
       "      <td>Married</td>\n",
       "      <td>1</td>\n",
       "      <td>Owned</td>\n",
       "      <td>High</td>\n",
       "      <td>6000000.0</td>\n",
       "      <td>25000.00</td>\n",
       "      <td>50000</td>\n",
       "      <td>Approved</td>\n",
       "      <td>187500</td>\n",
       "      <td>1.5 - 3</td>\n",
       "    </tr>\n",
       "    <tr>\n",
       "      <th>3</th>\n",
       "      <td>40</td>\n",
       "      <td>Male</td>\n",
       "      <td>125000</td>\n",
       "      <td>High School Diploma</td>\n",
       "      <td>Single</td>\n",
       "      <td>0</td>\n",
       "      <td>Owned</td>\n",
       "      <td>High</td>\n",
       "      <td>7500000.0</td>\n",
       "      <td>41666.67</td>\n",
       "      <td>83333</td>\n",
       "      <td>Approved</td>\n",
       "      <td>312500</td>\n",
       "      <td>3 - 4.5</td>\n",
       "    </tr>\n",
       "    <tr>\n",
       "      <th>4</th>\n",
       "      <td>45</td>\n",
       "      <td>Female</td>\n",
       "      <td>100000</td>\n",
       "      <td>Bachelor's Degree</td>\n",
       "      <td>Married</td>\n",
       "      <td>3</td>\n",
       "      <td>Owned</td>\n",
       "      <td>High</td>\n",
       "      <td>4000000.0</td>\n",
       "      <td>33333.33</td>\n",
       "      <td>66667</td>\n",
       "      <td>Approved</td>\n",
       "      <td>250000</td>\n",
       "      <td>1.5 - 3</td>\n",
       "    </tr>\n",
       "    <tr>\n",
       "      <th>...</th>\n",
       "      <td>...</td>\n",
       "      <td>...</td>\n",
       "      <td>...</td>\n",
       "      <td>...</td>\n",
       "      <td>...</td>\n",
       "      <td>...</td>\n",
       "      <td>...</td>\n",
       "      <td>...</td>\n",
       "      <td>...</td>\n",
       "      <td>...</td>\n",
       "      <td>...</td>\n",
       "      <td>...</td>\n",
       "      <td>...</td>\n",
       "      <td>...</td>\n",
       "    </tr>\n",
       "    <tr>\n",
       "      <th>159</th>\n",
       "      <td>29</td>\n",
       "      <td>Female</td>\n",
       "      <td>27500</td>\n",
       "      <td>High School Diploma</td>\n",
       "      <td>Single</td>\n",
       "      <td>0</td>\n",
       "      <td>Rented</td>\n",
       "      <td>Low</td>\n",
       "      <td>NaN</td>\n",
       "      <td>NaN</td>\n",
       "      <td>27500</td>\n",
       "      <td>Rejected</td>\n",
       "      <td>0</td>\n",
       "      <td>0</td>\n",
       "    </tr>\n",
       "    <tr>\n",
       "      <th>160</th>\n",
       "      <td>34</td>\n",
       "      <td>Male</td>\n",
       "      <td>47500</td>\n",
       "      <td>Associate's Degree</td>\n",
       "      <td>Single</td>\n",
       "      <td>0</td>\n",
       "      <td>Rented</td>\n",
       "      <td>Average</td>\n",
       "      <td>3990000.0</td>\n",
       "      <td>15833.33</td>\n",
       "      <td>31667</td>\n",
       "      <td>Rejected</td>\n",
       "      <td>0</td>\n",
       "      <td>0</td>\n",
       "    </tr>\n",
       "    <tr>\n",
       "      <th>161</th>\n",
       "      <td>39</td>\n",
       "      <td>Female</td>\n",
       "      <td>62500</td>\n",
       "      <td>Bachelor's Degree</td>\n",
       "      <td>Married</td>\n",
       "      <td>2</td>\n",
       "      <td>Owned</td>\n",
       "      <td>High</td>\n",
       "      <td>4000000.0</td>\n",
       "      <td>20833.33</td>\n",
       "      <td>41667</td>\n",
       "      <td>Approved</td>\n",
       "      <td>156250</td>\n",
       "      <td>1.5 - 3</td>\n",
       "    </tr>\n",
       "    <tr>\n",
       "      <th>162</th>\n",
       "      <td>44</td>\n",
       "      <td>Male</td>\n",
       "      <td>87500</td>\n",
       "      <td>Master's Degree</td>\n",
       "      <td>Single</td>\n",
       "      <td>0</td>\n",
       "      <td>Owned</td>\n",
       "      <td>High</td>\n",
       "      <td>3850000.0</td>\n",
       "      <td>29166.67</td>\n",
       "      <td>58333</td>\n",
       "      <td>Approved</td>\n",
       "      <td>218750</td>\n",
       "      <td>1.5 - 3</td>\n",
       "    </tr>\n",
       "    <tr>\n",
       "      <th>163</th>\n",
       "      <td>49</td>\n",
       "      <td>Female</td>\n",
       "      <td>77500</td>\n",
       "      <td>Doctorate</td>\n",
       "      <td>Married</td>\n",
       "      <td>1</td>\n",
       "      <td>Owned</td>\n",
       "      <td>High</td>\n",
       "      <td>1860000.0</td>\n",
       "      <td>25833.33</td>\n",
       "      <td>51667</td>\n",
       "      <td>Approved</td>\n",
       "      <td>193750</td>\n",
       "      <td>1.5 - 3</td>\n",
       "    </tr>\n",
       "  </tbody>\n",
       "</table>\n",
       "<p>164 rows × 14 columns</p>\n",
       "</div>"
      ],
      "text/plain": [
       "     Age  Gender  Income            Education Marital Status  \\\n",
       "0     25  Female   50000    Bachelor's Degree         Single   \n",
       "1     30    Male  100000      Master's Degree        Married   \n",
       "2     35  Female   75000            Doctorate        Married   \n",
       "3     40    Male  125000  High School Diploma         Single   \n",
       "4     45  Female  100000    Bachelor's Degree        Married   \n",
       "..   ...     ...     ...                  ...            ...   \n",
       "159   29  Female   27500  High School Diploma         Single   \n",
       "160   34    Male   47500   Associate's Degree         Single   \n",
       "161   39  Female   62500    Bachelor's Degree        Married   \n",
       "162   44    Male   87500      Master's Degree         Single   \n",
       "163   49  Female   77500            Doctorate        Married   \n",
       "\n",
       "     Number of Children Home Ownership Credit Score  Loan amount       EMI  \\\n",
       "0                     0         Rented         High    6000000.0  16666.67   \n",
       "1                     2          Owned         High   10000000.0  33333.33   \n",
       "2                     1          Owned         High    6000000.0  25000.00   \n",
       "3                     0          Owned         High    7500000.0  41666.67   \n",
       "4                     3          Owned         High    4000000.0  33333.33   \n",
       "..                  ...            ...          ...          ...       ...   \n",
       "159                   0         Rented          Low          NaN       NaN   \n",
       "160                   0         Rented      Average    3990000.0  15833.33   \n",
       "161                   2          Owned         High    4000000.0  20833.33   \n",
       "162                   0          Owned         High    3850000.0  29166.67   \n",
       "163                   1          Owned         High    1860000.0  25833.33   \n",
       "\n",
       "     Inhand Sallary Eligibility  Credit card limit (T)    Range  \n",
       "0             33333    Approved                 125000  1 - 1.5  \n",
       "1             66667    Approved                 250000  1.5 - 3  \n",
       "2             50000    Approved                 187500  1.5 - 3  \n",
       "3             83333    Approved                 312500  3 - 4.5  \n",
       "4             66667    Approved                 250000  1.5 - 3  \n",
       "..              ...         ...                    ...      ...  \n",
       "159           27500    Rejected                      0        0  \n",
       "160           31667    Rejected                      0        0  \n",
       "161           41667    Approved                 156250  1.5 - 3  \n",
       "162           58333    Approved                 218750  1.5 - 3  \n",
       "163           51667    Approved                 193750  1.5 - 3  \n",
       "\n",
       "[164 rows x 14 columns]"
      ]
     },
     "execution_count": 195,
     "metadata": {},
     "output_type": "execute_result"
    }
   ],
   "source": [
    "df = pd.read_csv(\"Credit Score Classification Dataset - Credit Score Classification Dataset.csv\")\n",
    "df"
   ]
  },
  {
   "cell_type": "code",
   "execution_count": 196,
   "id": "6f6169b8",
   "metadata": {},
   "outputs": [],
   "source": [
    "# train test split\n",
    "\n",
    "x = df.drop([\"Eligibility\",\"Credit card limit (T)\",\"Range\"],axis = 1)\n",
    "y = df[\"Eligibility\"]\n",
    "\n",
    "x_train, x_test, y_train, y_test = train_test_split(x,y,test_size=0.25,random_state=13,stratify=y)\n"
   ]
  },
  {
   "cell_type": "markdown",
   "id": "14c65e98",
   "metadata": {},
   "source": [
    "# Exploratory Data Analysis"
   ]
  },
  {
   "cell_type": "code",
   "execution_count": 197,
   "id": "44d1ffbc",
   "metadata": {},
   "outputs": [
    {
     "name": "stdout",
     "output_type": "stream",
     "text": [
      "<class 'pandas.core.frame.DataFrame'>\n",
      "Int64Index: 123 entries, 11 to 29\n",
      "Data columns (total 11 columns):\n",
      " #   Column              Non-Null Count  Dtype  \n",
      "---  ------              --------------  -----  \n",
      " 0   Age                 123 non-null    int64  \n",
      " 1   Gender              123 non-null    object \n",
      " 2   Income              123 non-null    int64  \n",
      " 3   Education           123 non-null    object \n",
      " 4   Marital Status      113 non-null    object \n",
      " 5   Number of Children  123 non-null    int64  \n",
      " 6   Home Ownership      117 non-null    object \n",
      " 7   Credit Score        123 non-null    object \n",
      " 8   Loan amount         119 non-null    float64\n",
      " 9   EMI                 119 non-null    float64\n",
      " 10  Inhand Sallary      123 non-null    int64  \n",
      "dtypes: float64(2), int64(4), object(5)\n",
      "memory usage: 11.5+ KB\n",
      "None\n",
      "==================================================\n",
      "<class 'pandas.core.frame.DataFrame'>\n",
      "Int64Index: 41 entries, 28 to 163\n",
      "Data columns (total 11 columns):\n",
      " #   Column              Non-Null Count  Dtype  \n",
      "---  ------              --------------  -----  \n",
      " 0   Age                 41 non-null     int64  \n",
      " 1   Gender              41 non-null     object \n",
      " 2   Income              41 non-null     int64  \n",
      " 3   Education           41 non-null     object \n",
      " 4   Marital Status      38 non-null     object \n",
      " 5   Number of Children  41 non-null     int64  \n",
      " 6   Home Ownership      37 non-null     object \n",
      " 7   Credit Score        41 non-null     object \n",
      " 8   Loan amount         40 non-null     float64\n",
      " 9   EMI                 40 non-null     float64\n",
      " 10  Inhand Sallary      41 non-null     int64  \n",
      "dtypes: float64(2), int64(4), object(5)\n",
      "memory usage: 3.8+ KB\n",
      "None\n"
     ]
    }
   ],
   "source": [
    "print(x_train.info())\n",
    "print(\"=\"*50)\n",
    "print(x_test.info())"
   ]
  },
  {
   "cell_type": "code",
   "execution_count": 198,
   "id": "838d0f6c",
   "metadata": {},
   "outputs": [
    {
     "data": {
      "image/png": "[encoded data removed]",
      "text/plain": [
       "<Figure size 640x480 with 1 Axes>"
      ]
     },
     "metadata": {},
     "output_type": "display_data"
    }
   ],
   "source": [
    "x_train.boxplot()\n",
    "plt.show()"
   ]
  },
  {
   "cell_type": "markdown",
   "id": "2c9c90f3",
   "metadata": {},
   "source": [
    "# Feature Engineering"
   ]
  },
  {
   "cell_type": "markdown",
   "id": "1dd9553e",
   "metadata": {},
   "source": [
    "### Training Data"
   ]
  },
  {
   "cell_type": "code",
   "execution_count": 199,
   "id": "2efd2ede",
   "metadata": {},
   "outputs": [
    {
     "name": "stdout",
     "output_type": "stream",
     "text": [
      "<class 'pandas.core.frame.DataFrame'>\n",
      "Int64Index: 123 entries, 11 to 29\n",
      "Data columns (total 11 columns):\n",
      " #   Column              Non-Null Count  Dtype  \n",
      "---  ------              --------------  -----  \n",
      " 0   Age                 123 non-null    int64  \n",
      " 1   Gender              123 non-null    object \n",
      " 2   Income              123 non-null    int64  \n",
      " 3   Education           123 non-null    object \n",
      " 4   Marital Status      113 non-null    object \n",
      " 5   Number of Children  123 non-null    int64  \n",
      " 6   Home Ownership      117 non-null    object \n",
      " 7   Credit Score        123 non-null    object \n",
      " 8   Loan amount         119 non-null    float64\n",
      " 9   EMI                 119 non-null    float64\n",
      " 10  Inhand Sallary      123 non-null    int64  \n",
      "dtypes: float64(2), int64(4), object(5)\n",
      "memory usage: 11.5+ KB\n"
     ]
    }
   ],
   "source": [
    "x_train.info()"
   ]
  },
  {
   "cell_type": "code",
   "execution_count": 200,
   "id": "dbe7eef4",
   "metadata": {},
   "outputs": [
    {
     "data": {
      "text/plain": [
       "Female    62\n",
       "Male      61\n",
       "Name: Gender, dtype: int64"
      ]
     },
     "execution_count": 200,
     "metadata": {},
     "output_type": "execute_result"
    }
   ],
   "source": [
    "x_train[\"Gender\"].value_counts()"
   ]
  },
  {
   "cell_type": "code",
   "execution_count": 201,
   "id": "a1269ff9",
   "metadata": {},
   "outputs": [],
   "source": [
    "x_train[\"Gender\"].replace({\"Male\":0,\"Female\":1},inplace=True)\n",
    "Gender_values = {\"Male\":0,\"Female\":1}"
   ]
  },
  {
   "cell_type": "code",
   "execution_count": 202,
   "id": "9c7d8e3d",
   "metadata": {},
   "outputs": [
    {
     "name": "stdout",
     "output_type": "stream",
     "text": [
      "<class 'pandas.core.frame.DataFrame'>\n",
      "Int64Index: 123 entries, 11 to 29\n",
      "Data columns (total 11 columns):\n",
      " #   Column              Non-Null Count  Dtype  \n",
      "---  ------              --------------  -----  \n",
      " 0   Age                 123 non-null    int64  \n",
      " 1   Gender              123 non-null    int64  \n",
      " 2   Income              123 non-null    int64  \n",
      " 3   Education           123 non-null    object \n",
      " 4   Marital Status      113 non-null    object \n",
      " 5   Number of Children  123 non-null    int64  \n",
      " 6   Home Ownership      117 non-null    object \n",
      " 7   Credit Score        123 non-null    object \n",
      " 8   Loan amount         119 non-null    float64\n",
      " 9   EMI                 119 non-null    float64\n",
      " 10  Inhand Sallary      123 non-null    int64  \n",
      "dtypes: float64(2), int64(5), object(4)\n",
      "memory usage: 11.5+ KB\n"
     ]
    }
   ],
   "source": [
    "x_train.info()"
   ]
  },
  {
   "cell_type": "code",
   "execution_count": 203,
   "id": "4d1d7f03",
   "metadata": {},
   "outputs": [
    {
     "data": {
      "text/plain": [
       "{\"Bachelor's Degree\": 34,\n",
       " \"Master's Degree\": 27,\n",
       " 'High School Diploma': 25,\n",
       " 'Doctorate': 19,\n",
       " \"Associate's Degree\": 18}"
      ]
     },
     "execution_count": 203,
     "metadata": {},
     "output_type": "execute_result"
    }
   ],
   "source": [
    "x_train[\"Education\"].value_counts().to_dict()"
   ]
  },
  {
   "cell_type": "code",
   "execution_count": 204,
   "id": "9e8dd120",
   "metadata": {},
   "outputs": [],
   "source": [
    "x_train[\"Education\"].replace({\"Bachelor's Degree\": 2,\"Master's Degree\": 3,'High School Diploma': 0,\n",
    "                              'Doctorate': 4,\"Associate's Degree\": 1},inplace=True)\n",
    "\n",
    "Education_values = {\"Bachelor's Degree\": 2,\"Master's Degree\": 3,'High School Diploma': 0,\n",
    "                              'Doctorate': 4,\"Associate's Degree\": 1}"
   ]
  },
  {
   "cell_type": "code",
   "execution_count": 205,
   "id": "2a908b96",
   "metadata": {},
   "outputs": [
    {
     "name": "stdout",
     "output_type": "stream",
     "text": [
      "<class 'pandas.core.frame.DataFrame'>\n",
      "Int64Index: 123 entries, 11 to 29\n",
      "Data columns (total 11 columns):\n",
      " #   Column              Non-Null Count  Dtype  \n",
      "---  ------              --------------  -----  \n",
      " 0   Age                 123 non-null    int64  \n",
      " 1   Gender              123 non-null    int64  \n",
      " 2   Income              123 non-null    int64  \n",
      " 3   Education           123 non-null    int64  \n",
      " 4   Marital Status      113 non-null    object \n",
      " 5   Number of Children  123 non-null    int64  \n",
      " 6   Home Ownership      117 non-null    object \n",
      " 7   Credit Score        123 non-null    object \n",
      " 8   Loan amount         119 non-null    float64\n",
      " 9   EMI                 119 non-null    float64\n",
      " 10  Inhand Sallary      123 non-null    int64  \n",
      "dtypes: float64(2), int64(6), object(3)\n",
      "memory usage: 11.5+ KB\n"
     ]
    }
   ],
   "source": [
    "x_train.info()"
   ]
  },
  {
   "cell_type": "code",
   "execution_count": 206,
   "id": "a5182bac",
   "metadata": {
    "scrolled": true
   },
   "outputs": [
    {
     "data": {
      "text/plain": [
       "10"
      ]
     },
     "execution_count": 206,
     "metadata": {},
     "output_type": "execute_result"
    }
   ],
   "source": [
    "x_train[\"Marital Status\"].isna().sum()"
   ]
  },
  {
   "cell_type": "code",
   "execution_count": 207,
   "id": "a5475f0a",
   "metadata": {},
   "outputs": [
    {
     "data": {
      "text/plain": [
       "Married    57\n",
       "Single     56\n",
       "Name: Marital Status, dtype: int64"
      ]
     },
     "execution_count": 207,
     "metadata": {},
     "output_type": "execute_result"
    }
   ],
   "source": [
    "x_train[\"Marital Status\"].value_counts()"
   ]
  },
  {
   "cell_type": "code",
   "execution_count": 208,
   "id": "3e65f9df",
   "metadata": {},
   "outputs": [],
   "source": [
    "x_train[\"Marital Status\"].fillna(x_train[\"Marital Status\"].mode()[0],inplace=True)"
   ]
  },
  {
   "cell_type": "code",
   "execution_count": 209,
   "id": "709d32cd",
   "metadata": {},
   "outputs": [
    {
     "data": {
      "text/plain": [
       "0"
      ]
     },
     "execution_count": 209,
     "metadata": {},
     "output_type": "execute_result"
    }
   ],
   "source": [
    "x_train[\"Marital Status\"].isna().sum()"
   ]
  },
  {
   "cell_type": "code",
   "execution_count": 210,
   "id": "0901a1e3",
   "metadata": {},
   "outputs": [
    {
     "data": {
      "text/plain": [
       "Married    67\n",
       "Single     56\n",
       "Name: Marital Status, dtype: int64"
      ]
     },
     "execution_count": 210,
     "metadata": {},
     "output_type": "execute_result"
    }
   ],
   "source": [
    "x_train[\"Marital Status\"].value_counts()"
   ]
  },
  {
   "cell_type": "code",
   "execution_count": 211,
   "id": "e25aa156",
   "metadata": {},
   "outputs": [],
   "source": [
    "x_train[\"Marital Status\"].replace({\"Married\":1,\"Single\":0},inplace=True)\n",
    "Marital_Status_values = {\"Married\":1,\"Single\":0}"
   ]
  },
  {
   "cell_type": "code",
   "execution_count": 212,
   "id": "e0db2f11",
   "metadata": {},
   "outputs": [
    {
     "data": {
      "text/plain": [
       "6"
      ]
     },
     "execution_count": 212,
     "metadata": {},
     "output_type": "execute_result"
    }
   ],
   "source": [
    "x_train[\"Home Ownership\"].isna().sum()"
   ]
  },
  {
   "cell_type": "code",
   "execution_count": 213,
   "id": "a83c9f12",
   "metadata": {},
   "outputs": [
    {
     "data": {
      "text/plain": [
       "Owned     79\n",
       "Rented    38\n",
       "Name: Home Ownership, dtype: int64"
      ]
     },
     "execution_count": 213,
     "metadata": {},
     "output_type": "execute_result"
    }
   ],
   "source": [
    "x_train[\"Home Ownership\"].value_counts()"
   ]
  },
  {
   "cell_type": "code",
   "execution_count": 214,
   "id": "49eaa4c6",
   "metadata": {},
   "outputs": [],
   "source": [
    "x_train[\"Home Ownership\"].fillna(x_train[\"Home Ownership\"].mode()[0],inplace=True)"
   ]
  },
  {
   "cell_type": "code",
   "execution_count": 215,
   "id": "be94ecfd",
   "metadata": {},
   "outputs": [
    {
     "data": {
      "text/plain": [
       "Owned     85\n",
       "Rented    38\n",
       "Name: Home Ownership, dtype: int64"
      ]
     },
     "execution_count": 215,
     "metadata": {},
     "output_type": "execute_result"
    }
   ],
   "source": [
    "x_train[\"Home Ownership\"].value_counts()"
   ]
  },
  {
   "cell_type": "code",
   "execution_count": 216,
   "id": "9f0388d0",
   "metadata": {},
   "outputs": [],
   "source": [
    "x_train[\"Home Ownership\"].replace({\"Owned\":1,\"Rented\":0},inplace=True)\n",
    "Home_Owneship_values = {\"Owned\":1,\"Rented\":0}"
   ]
  },
  {
   "cell_type": "code",
   "execution_count": 217,
   "id": "de5343c2",
   "metadata": {},
   "outputs": [
    {
     "data": {
      "text/plain": [
       "High       85\n",
       "Average    27\n",
       "Low        11\n",
       "Name: Credit Score, dtype: int64"
      ]
     },
     "execution_count": 217,
     "metadata": {},
     "output_type": "execute_result"
    }
   ],
   "source": [
    "x_train[\"Credit Score\"].value_counts()"
   ]
  },
  {
   "cell_type": "code",
   "execution_count": 218,
   "id": "56670f32",
   "metadata": {},
   "outputs": [],
   "source": [
    "x_train[\"Credit Score\"].replace({'High': 2, 'Average': 1, 'Low': 0},inplace=True)\n",
    "Credit_Score_values = {'High': 2, 'Average': 1, 'Low': 0}"
   ]
  },
  {
   "cell_type": "code",
   "execution_count": 219,
   "id": "b713cded",
   "metadata": {},
   "outputs": [
    {
     "data": {
      "text/plain": [
       "4"
      ]
     },
     "execution_count": 219,
     "metadata": {},
     "output_type": "execute_result"
    }
   ],
   "source": [
    "x_train[\"Loan amount\"].isna().sum()"
   ]
  },
  {
   "cell_type": "code",
   "execution_count": 220,
   "id": "597f00eb",
   "metadata": {},
   "outputs": [],
   "source": [
    "x_train[\"Loan amount\"].fillna(x_train[\"Loan amount\"].mean(),inplace=True)"
   ]
  },
  {
   "cell_type": "code",
   "execution_count": 221,
   "id": "5e7eba34",
   "metadata": {},
   "outputs": [
    {
     "data": {
      "text/plain": [
       "0"
      ]
     },
     "execution_count": 221,
     "metadata": {},
     "output_type": "execute_result"
    }
   ],
   "source": [
    "x_train[\"Loan amount\"].isna().sum()"
   ]
  },
  {
   "cell_type": "code",
   "execution_count": 222,
   "id": "737577a8",
   "metadata": {},
   "outputs": [
    {
     "data": {
      "text/plain": [
       "4"
      ]
     },
     "execution_count": 222,
     "metadata": {},
     "output_type": "execute_result"
    }
   ],
   "source": [
    "x_train[\"EMI\"].isna().sum()"
   ]
  },
  {
   "cell_type": "code",
   "execution_count": 223,
   "id": "894ca3b1",
   "metadata": {},
   "outputs": [],
   "source": [
    "x_train[\"EMI\"].fillna(x_train[\"EMI\"].mean(),inplace=True)"
   ]
  },
  {
   "cell_type": "code",
   "execution_count": 224,
   "id": "7aa106d5",
   "metadata": {
    "scrolled": true
   },
   "outputs": [
    {
     "data": {
      "text/plain": [
       "0"
      ]
     },
     "execution_count": 224,
     "metadata": {},
     "output_type": "execute_result"
    }
   ],
   "source": [
    "x_train[\"EMI\"].isna().sum()"
   ]
  },
  {
   "cell_type": "code",
   "execution_count": 225,
   "id": "c2858f2f",
   "metadata": {},
   "outputs": [
    {
     "name": "stdout",
     "output_type": "stream",
     "text": [
      "<class 'pandas.core.frame.DataFrame'>\n",
      "Int64Index: 123 entries, 11 to 29\n",
      "Data columns (total 11 columns):\n",
      " #   Column              Non-Null Count  Dtype  \n",
      "---  ------              --------------  -----  \n",
      " 0   Age                 123 non-null    int64  \n",
      " 1   Gender              123 non-null    int64  \n",
      " 2   Income              123 non-null    int64  \n",
      " 3   Education           123 non-null    int64  \n",
      " 4   Marital Status      123 non-null    int64  \n",
      " 5   Number of Children  123 non-null    int64  \n",
      " 6   Home Ownership      123 non-null    int64  \n",
      " 7   Credit Score        123 non-null    int64  \n",
      " 8   Loan amount         123 non-null    float64\n",
      " 9   EMI                 123 non-null    float64\n",
      " 10  Inhand Sallary      123 non-null    int64  \n",
      "dtypes: float64(2), int64(9)\n",
      "memory usage: 11.5 KB\n"
     ]
    }
   ],
   "source": [
    "x_train.info()"
   ]
  },
  {
   "cell_type": "code",
   "execution_count": 226,
   "id": "f455c194",
   "metadata": {},
   "outputs": [
    {
     "data": {
      "image/png": "[encoded data removed]",
      "text/plain": [
       "<Figure size 2000x1000 with 1 Axes>"
      ]
     },
     "metadata": {},
     "output_type": "display_data"
    }
   ],
   "source": [
    "plt.figure(figsize=(20,10))\n",
    "x_train.boxplot()\n",
    "plt.show()"
   ]
  },
  {
   "cell_type": "code",
   "execution_count": 227,
   "id": "1d886212",
   "metadata": {},
   "outputs": [
    {
     "data": {
      "image/png": "[encoded data removed]",
      "text/plain": [
       "<Figure size 640x480 with 1 Axes>"
      ]
     },
     "metadata": {},
     "output_type": "display_data"
    }
   ],
   "source": [
    "outlier_imputation(x_train[\"Number of Children\"])\n",
    "plt.show()"
   ]
  },
  {
   "cell_type": "code",
   "execution_count": 228,
   "id": "e691d180",
   "metadata": {},
   "outputs": [
    {
     "data": {
      "image/png": "[encoded data removed]",
      "text/plain": [
       "<Figure size 640x480 with 1 Axes>"
      ]
     },
     "metadata": {},
     "output_type": "display_data"
    }
   ],
   "source": [
    "outlier_imputation(x_train[\"Loan amount\"])\n",
    "plt.show()"
   ]
  },
  {
   "cell_type": "code",
   "execution_count": 308,
   "id": "4134bd73",
   "metadata": {},
   "outputs": [],
   "source": [
    "y_train.replace({\"Approved\":1,\"Rejected\":0},inplace=True)"
   ]
  },
  {
   "cell_type": "markdown",
   "id": "229c1222",
   "metadata": {},
   "source": [
    "### Testing Data"
   ]
  },
  {
   "cell_type": "code",
   "execution_count": 229,
   "id": "13f6c247",
   "metadata": {},
   "outputs": [
    {
     "name": "stdout",
     "output_type": "stream",
     "text": [
      "<class 'pandas.core.frame.DataFrame'>\n",
      "Int64Index: 41 entries, 28 to 163\n",
      "Data columns (total 11 columns):\n",
      " #   Column              Non-Null Count  Dtype  \n",
      "---  ------              --------------  -----  \n",
      " 0   Age                 41 non-null     int64  \n",
      " 1   Gender              41 non-null     object \n",
      " 2   Income              41 non-null     int64  \n",
      " 3   Education           41 non-null     object \n",
      " 4   Marital Status      38 non-null     object \n",
      " 5   Number of Children  41 non-null     int64  \n",
      " 6   Home Ownership      37 non-null     object \n",
      " 7   Credit Score        41 non-null     object \n",
      " 8   Loan amount         40 non-null     float64\n",
      " 9   EMI                 40 non-null     float64\n",
      " 10  Inhand Sallary      41 non-null     int64  \n",
      "dtypes: float64(2), int64(4), object(5)\n",
      "memory usage: 3.8+ KB\n"
     ]
    }
   ],
   "source": [
    "x_test.info()"
   ]
  },
  {
   "cell_type": "code",
   "execution_count": 230,
   "id": "9a3ad9de",
   "metadata": {},
   "outputs": [
    {
     "data": {
      "text/plain": [
       "Female    24\n",
       "Male      17\n",
       "Name: Gender, dtype: int64"
      ]
     },
     "execution_count": 230,
     "metadata": {},
     "output_type": "execute_result"
    }
   ],
   "source": [
    "x_test[\"Gender\"].value_counts()"
   ]
  },
  {
   "cell_type": "code",
   "execution_count": 231,
   "id": "23278355",
   "metadata": {},
   "outputs": [],
   "source": [
    "x_test[\"Gender\"].replace({\"Male\":0,\"Female\":1},inplace=True)\n",
    "Gender_values = {\"Male\":0,\"Female\":1}"
   ]
  },
  {
   "cell_type": "code",
   "execution_count": 232,
   "id": "84922de7",
   "metadata": {},
   "outputs": [
    {
     "data": {
      "text/plain": [
       "{'Doctorate': 12,\n",
       " \"Master's Degree\": 9,\n",
       " \"Bachelor's Degree\": 8,\n",
       " \"Associate's Degree\": 7,\n",
       " 'High School Diploma': 5}"
      ]
     },
     "execution_count": 232,
     "metadata": {},
     "output_type": "execute_result"
    }
   ],
   "source": [
    "x_test[\"Education\"].value_counts().to_dict()"
   ]
  },
  {
   "cell_type": "code",
   "execution_count": 233,
   "id": "06694ed0",
   "metadata": {},
   "outputs": [],
   "source": [
    "x_test[\"Education\"].replace({\"Bachelor's Degree\": 2,\"Master's Degree\": 3,'High School Diploma': 0,\n",
    "                              'Doctorate': 4,\"Associate's Degree\": 1},inplace=True)\n",
    "\n",
    "Education_values = {\"Bachelor's Degree\": 2,\"Master's Degree\": 3,'High School Diploma': 0,\n",
    "                              'Doctorate': 4,\"Associate's Degree\": 1}"
   ]
  },
  {
   "cell_type": "code",
   "execution_count": 234,
   "id": "4ce42430",
   "metadata": {},
   "outputs": [
    {
     "name": "stdout",
     "output_type": "stream",
     "text": [
      "<class 'pandas.core.frame.DataFrame'>\n",
      "Int64Index: 41 entries, 28 to 163\n",
      "Data columns (total 11 columns):\n",
      " #   Column              Non-Null Count  Dtype  \n",
      "---  ------              --------------  -----  \n",
      " 0   Age                 41 non-null     int64  \n",
      " 1   Gender              41 non-null     int64  \n",
      " 2   Income              41 non-null     int64  \n",
      " 3   Education           41 non-null     int64  \n",
      " 4   Marital Status      38 non-null     object \n",
      " 5   Number of Children  41 non-null     int64  \n",
      " 6   Home Ownership      37 non-null     object \n",
      " 7   Credit Score        41 non-null     object \n",
      " 8   Loan amount         40 non-null     float64\n",
      " 9   EMI                 40 non-null     float64\n",
      " 10  Inhand Sallary      41 non-null     int64  \n",
      "dtypes: float64(2), int64(6), object(3)\n",
      "memory usage: 3.8+ KB\n"
     ]
    }
   ],
   "source": [
    "x_test.info()"
   ]
  },
  {
   "cell_type": "code",
   "execution_count": 235,
   "id": "9c0428e1",
   "metadata": {
    "scrolled": true
   },
   "outputs": [
    {
     "data": {
      "text/plain": [
       "3"
      ]
     },
     "execution_count": 235,
     "metadata": {},
     "output_type": "execute_result"
    }
   ],
   "source": [
    "x_test[\"Marital Status\"].isna().sum()"
   ]
  },
  {
   "cell_type": "code",
   "execution_count": 236,
   "id": "358c750e",
   "metadata": {},
   "outputs": [
    {
     "data": {
      "text/plain": [
       "Married    22\n",
       "Single     16\n",
       "Name: Marital Status, dtype: int64"
      ]
     },
     "execution_count": 236,
     "metadata": {},
     "output_type": "execute_result"
    }
   ],
   "source": [
    "x_test[\"Marital Status\"].value_counts()"
   ]
  },
  {
   "cell_type": "code",
   "execution_count": 237,
   "id": "9c248f6c",
   "metadata": {},
   "outputs": [],
   "source": [
    "x_test[\"Marital Status\"].fillna(x_test[\"Marital Status\"].mode()[0],inplace=True)"
   ]
  },
  {
   "cell_type": "code",
   "execution_count": 238,
   "id": "7c737c9d",
   "metadata": {},
   "outputs": [
    {
     "data": {
      "text/plain": [
       "0"
      ]
     },
     "execution_count": 238,
     "metadata": {},
     "output_type": "execute_result"
    }
   ],
   "source": [
    "x_test[\"Marital Status\"].isna().sum()"
   ]
  },
  {
   "cell_type": "code",
   "execution_count": 239,
   "id": "06f15485",
   "metadata": {},
   "outputs": [
    {
     "data": {
      "text/plain": [
       "Married    25\n",
       "Single     16\n",
       "Name: Marital Status, dtype: int64"
      ]
     },
     "execution_count": 239,
     "metadata": {},
     "output_type": "execute_result"
    }
   ],
   "source": [
    "x_test[\"Marital Status\"].value_counts()"
   ]
  },
  {
   "cell_type": "code",
   "execution_count": 240,
   "id": "b6d8b42f",
   "metadata": {},
   "outputs": [],
   "source": [
    "x_test[\"Marital Status\"].replace({\"Married\":1,\"Single\":0},inplace=True)\n",
    "Marital_Status_values = {\"Married\":1,\"Single\":0}"
   ]
  },
  {
   "cell_type": "code",
   "execution_count": 241,
   "id": "8e3f0de3",
   "metadata": {},
   "outputs": [
    {
     "data": {
      "text/plain": [
       "4"
      ]
     },
     "execution_count": 241,
     "metadata": {},
     "output_type": "execute_result"
    }
   ],
   "source": [
    "x_test[\"Home Ownership\"].isna().sum()"
   ]
  },
  {
   "cell_type": "code",
   "execution_count": 242,
   "id": "b3a1e027",
   "metadata": {},
   "outputs": [
    {
     "data": {
      "text/plain": [
       "Owned     26\n",
       "Rented    11\n",
       "Name: Home Ownership, dtype: int64"
      ]
     },
     "execution_count": 242,
     "metadata": {},
     "output_type": "execute_result"
    }
   ],
   "source": [
    "x_test[\"Home Ownership\"].value_counts()"
   ]
  },
  {
   "cell_type": "code",
   "execution_count": 243,
   "id": "08f2a111",
   "metadata": {},
   "outputs": [],
   "source": [
    "x_test[\"Home Ownership\"].fillna(x_test[\"Home Ownership\"].mode()[0],inplace=True)"
   ]
  },
  {
   "cell_type": "code",
   "execution_count": 244,
   "id": "b83095b2",
   "metadata": {},
   "outputs": [
    {
     "data": {
      "text/plain": [
       "Owned     30\n",
       "Rented    11\n",
       "Name: Home Ownership, dtype: int64"
      ]
     },
     "execution_count": 244,
     "metadata": {},
     "output_type": "execute_result"
    }
   ],
   "source": [
    "x_test[\"Home Ownership\"].value_counts()"
   ]
  },
  {
   "cell_type": "code",
   "execution_count": 245,
   "id": "f6534f36",
   "metadata": {},
   "outputs": [],
   "source": [
    "x_test[\"Home Ownership\"].replace({\"Owned\":1,\"Rented\":0},inplace=True)\n",
    "Home_Owneship_values = {\"Owned\":1,\"Rented\":0}"
   ]
  },
  {
   "cell_type": "code",
   "execution_count": 246,
   "id": "c4bb9384",
   "metadata": {},
   "outputs": [
    {
     "data": {
      "text/plain": [
       "High       28\n",
       "Average     9\n",
       "Low         4\n",
       "Name: Credit Score, dtype: int64"
      ]
     },
     "execution_count": 246,
     "metadata": {},
     "output_type": "execute_result"
    }
   ],
   "source": [
    "x_test[\"Credit Score\"].value_counts()"
   ]
  },
  {
   "cell_type": "code",
   "execution_count": 247,
   "id": "ac57bb60",
   "metadata": {},
   "outputs": [],
   "source": [
    "x_test[\"Credit Score\"].replace({'High': 2, 'Average': 1, 'Low': 0},inplace=True)\n",
    "Credit_Score_values = {'High': 2, 'Average': 1, 'Low': 0}"
   ]
  },
  {
   "cell_type": "code",
   "execution_count": 248,
   "id": "29d280eb",
   "metadata": {},
   "outputs": [
    {
     "data": {
      "text/plain": [
       "1"
      ]
     },
     "execution_count": 248,
     "metadata": {},
     "output_type": "execute_result"
    }
   ],
   "source": [
    "x_test[\"Loan amount\"].isna().sum()"
   ]
  },
  {
   "cell_type": "code",
   "execution_count": 249,
   "id": "93a215a4",
   "metadata": {},
   "outputs": [],
   "source": [
    "x_test[\"Loan amount\"].fillna(x_test[\"Loan amount\"].mean(),inplace=True)"
   ]
  },
  {
   "cell_type": "code",
   "execution_count": 250,
   "id": "47ae7424",
   "metadata": {},
   "outputs": [
    {
     "data": {
      "text/plain": [
       "0"
      ]
     },
     "execution_count": 250,
     "metadata": {},
     "output_type": "execute_result"
    }
   ],
   "source": [
    "x_test[\"Loan amount\"].isna().sum()"
   ]
  },
  {
   "cell_type": "code",
   "execution_count": 251,
   "id": "4f26e511",
   "metadata": {},
   "outputs": [
    {
     "data": {
      "text/plain": [
       "1"
      ]
     },
     "execution_count": 251,
     "metadata": {},
     "output_type": "execute_result"
    }
   ],
   "source": [
    "x_test[\"EMI\"].isna().sum()"
   ]
  },
  {
   "cell_type": "code",
   "execution_count": 252,
   "id": "edddffeb",
   "metadata": {},
   "outputs": [],
   "source": [
    "x_test[\"EMI\"].fillna(x_test[\"EMI\"].mean(),inplace=True)"
   ]
  },
  {
   "cell_type": "code",
   "execution_count": 253,
   "id": "e84493e7",
   "metadata": {},
   "outputs": [
    {
     "data": {
      "text/plain": [
       "0"
      ]
     },
     "execution_count": 253,
     "metadata": {},
     "output_type": "execute_result"
    }
   ],
   "source": [
    "x_test[\"EMI\"].isna().sum()"
   ]
  },
  {
   "cell_type": "code",
   "execution_count": 254,
   "id": "5592cb69",
   "metadata": {},
   "outputs": [
    {
     "name": "stdout",
     "output_type": "stream",
     "text": [
      "<class 'pandas.core.frame.DataFrame'>\n",
      "Int64Index: 41 entries, 28 to 163\n",
      "Data columns (total 11 columns):\n",
      " #   Column              Non-Null Count  Dtype  \n",
      "---  ------              --------------  -----  \n",
      " 0   Age                 41 non-null     int64  \n",
      " 1   Gender              41 non-null     int64  \n",
      " 2   Income              41 non-null     int64  \n",
      " 3   Education           41 non-null     int64  \n",
      " 4   Marital Status      41 non-null     int64  \n",
      " 5   Number of Children  41 non-null     int64  \n",
      " 6   Home Ownership      41 non-null     int64  \n",
      " 7   Credit Score        41 non-null     int64  \n",
      " 8   Loan amount         41 non-null     float64\n",
      " 9   EMI                 41 non-null     float64\n",
      " 10  Inhand Sallary      41 non-null     int64  \n",
      "dtypes: float64(2), int64(9)\n",
      "memory usage: 3.8 KB\n"
     ]
    }
   ],
   "source": [
    "x_test.info()"
   ]
  },
  {
   "cell_type": "code",
   "execution_count": 255,
   "id": "429cbe19",
   "metadata": {},
   "outputs": [
    {
     "data": {
      "image/png": "[encoded data removed]",
      "text/plain": [
       "<Figure size 2000x1000 with 1 Axes>"
      ]
     },
     "metadata": {},
     "output_type": "display_data"
    }
   ],
   "source": [
    "plt.figure(figsize=(20,10))\n",
    "x_test.boxplot()\n",
    "plt.show()"
   ]
  },
  {
   "cell_type": "code",
   "execution_count": 256,
   "id": "8f512f42",
   "metadata": {},
   "outputs": [
    {
     "data": {
      "image/png": "[encoded data removed]",
      "text/plain": [
       "<Figure size 640x480 with 1 Axes>"
      ]
     },
     "metadata": {},
     "output_type": "display_data"
    }
   ],
   "source": [
    "outlier_imputation(x_test[\"Income\"])\n",
    "plt.show()"
   ]
  },
  {
   "cell_type": "code",
   "execution_count": 257,
   "id": "cc976c92",
   "metadata": {},
   "outputs": [
    {
     "data": {
      "image/png": "[encoded data removed]",
      "text/plain": [
       "<Figure size 640x480 with 1 Axes>"
      ]
     },
     "metadata": {},
     "output_type": "display_data"
    }
   ],
   "source": [
    "outlier_imputation(x_test[\"Loan amount\"])\n",
    "plt.show()"
   ]
  },
  {
   "cell_type": "code",
   "execution_count": 258,
   "id": "e6f05d07",
   "metadata": {},
   "outputs": [
    {
     "data": {
      "image/png": "[encoded data removed]",
      "text/plain": [
       "<Figure size 640x480 with 1 Axes>"
      ]
     },
     "metadata": {},
     "output_type": "display_data"
    }
   ],
   "source": [
    "outlier_imputation(x_test[\"Loan amount\"])\n",
    "plt.show()"
   ]
  },
  {
   "cell_type": "code",
   "execution_count": 259,
   "id": "1e9f6c25",
   "metadata": {},
   "outputs": [
    {
     "data": {
      "image/png": "[encoded data removed]",
      "text/plain": [
       "<Figure size 640x480 with 1 Axes>"
      ]
     },
     "metadata": {},
     "output_type": "display_data"
    }
   ],
   "source": [
    "outlier_imputation(x_test[\"EMI\"])\n",
    "plt.show()"
   ]
  },
  {
   "cell_type": "code",
   "execution_count": 260,
   "id": "98164077",
   "metadata": {},
   "outputs": [
    {
     "data": {
      "image/png": "[encoded data removed]",
      "text/plain": [
       "<Figure size 640x480 with 1 Axes>"
      ]
     },
     "metadata": {},
     "output_type": "display_data"
    }
   ],
   "source": [
    "outlier_imputation(x_test[\"Inhand Sallary\"])\n",
    "plt.show()"
   ]
  },
  {
   "cell_type": "code",
   "execution_count": 309,
   "id": "992e0d74",
   "metadata": {},
   "outputs": [],
   "source": [
    "y_test.replace({\"Approved\":1,\"Rejected\":0},inplace=True)"
   ]
  },
  {
   "cell_type": "markdown",
   "id": "478f71db",
   "metadata": {},
   "source": [
    "# Feature Selection"
   ]
  },
  {
   "cell_type": "markdown",
   "id": "33c4fdb0",
   "metadata": {},
   "source": [
    "#### 1.kendall coc"
   ]
  },
  {
   "cell_type": "code",
   "execution_count": 276,
   "id": "f0fb4f34",
   "metadata": {},
   "outputs": [
    {
     "data": {
      "text/html": [
       "<div>\n",
       "<style scoped>\n",
       "    .dataframe tbody tr th:only-of-type {\n",
       "        vertical-align: middle;\n",
       "    }\n",
       "\n",
       "    .dataframe tbody tr th {\n",
       "        vertical-align: top;\n",
       "    }\n",
       "\n",
       "    .dataframe thead th {\n",
       "        text-align: right;\n",
       "    }\n",
       "</style>\n",
       "<table border=\"1\" class=\"dataframe\">\n",
       "  <thead>\n",
       "    <tr style=\"text-align: right;\">\n",
       "      <th></th>\n",
       "      <th>Age</th>\n",
       "      <th>Gender</th>\n",
       "      <th>Income</th>\n",
       "      <th>Education</th>\n",
       "      <th>Marital Status</th>\n",
       "      <th>Number of Children</th>\n",
       "      <th>Home Ownership</th>\n",
       "      <th>Credit Score</th>\n",
       "      <th>Loan amount</th>\n",
       "      <th>EMI</th>\n",
       "      <th>Inhand Sallary</th>\n",
       "      <th>Eligibility</th>\n",
       "    </tr>\n",
       "  </thead>\n",
       "  <tbody>\n",
       "    <tr>\n",
       "      <th>Eligibility</th>\n",
       "      <td>0.389405</td>\n",
       "      <td>-0.216751</td>\n",
       "      <td>0.528354</td>\n",
       "      <td>0.411866</td>\n",
       "      <td>0.305022</td>\n",
       "      <td>0.28903</td>\n",
       "      <td>0.563676</td>\n",
       "      <td>0.704141</td>\n",
       "      <td>0.180751</td>\n",
       "      <td>0.435961</td>\n",
       "      <td>0.524618</td>\n",
       "      <td>1.0</td>\n",
       "    </tr>\n",
       "  </tbody>\n",
       "</table>\n",
       "</div>"
      ],
      "text/plain": [
       "                  Age    Gender    Income  Education  Marital Status  \\\n",
       "Eligibility  0.389405 -0.216751  0.528354   0.411866        0.305022   \n",
       "\n",
       "             Number of Children  Home Ownership  Credit Score  Loan amount  \\\n",
       "Eligibility             0.28903        0.563676      0.704141     0.180751   \n",
       "\n",
       "                  EMI  Inhand Sallary  Eligibility  \n",
       "Eligibility  0.435961        0.524618          1.0  "
      ]
     },
     "execution_count": 276,
     "metadata": {},
     "output_type": "execute_result"
    }
   ],
   "source": [
    "cor_df = x_train.copy()\n",
    "cor_df[\"Eligibility\"] = y\n",
    "\n",
    "cor_df[\"Eligibility\"].replace({\"Approved\":1,\"Rejected\":0},inplace=True)\n",
    "cor_df.corr('kendall').tail(1)"
   ]
  },
  {
   "cell_type": "code",
   "execution_count": 277,
   "id": "97773b0d",
   "metadata": {},
   "outputs": [
    {
     "data": {
      "image/png": "[encoded data removed]",
      "text/plain": [
       "<Figure size 1000x100 with 2 Axes>"
      ]
     },
     "metadata": {},
     "output_type": "display_data"
    }
   ],
   "source": [
    "plt.figure(figsize=(10,1))\n",
    "sns.heatmap(cor_df.corr('kendall').tail(1),annot=True)\n",
    "plt.show()"
   ]
  },
  {
   "cell_type": "markdown",
   "id": "b14cc5ae",
   "metadata": {},
   "source": [
    "#### 2. ANOVA Test"
   ]
  },
  {
   "cell_type": "code",
   "execution_count": 279,
   "id": "a9790e71",
   "metadata": {},
   "outputs": [],
   "source": [
    "from sklearn.feature_selection import f_classif\n",
    "\n",
    "f_val,p_val = f_classif(x_train,y_train)"
   ]
  },
  {
   "cell_type": "code",
   "execution_count": 280,
   "id": "ef8c0b1c",
   "metadata": {},
   "outputs": [
    {
     "data": {
      "text/html": [
       "<div>\n",
       "<style scoped>\n",
       "    .dataframe tbody tr th:only-of-type {\n",
       "        vertical-align: middle;\n",
       "    }\n",
       "\n",
       "    .dataframe tbody tr th {\n",
       "        vertical-align: top;\n",
       "    }\n",
       "\n",
       "    .dataframe thead th {\n",
       "        text-align: right;\n",
       "    }\n",
       "</style>\n",
       "<table border=\"1\" class=\"dataframe\">\n",
       "  <thead>\n",
       "    <tr style=\"text-align: right;\">\n",
       "      <th></th>\n",
       "      <th>f_val</th>\n",
       "      <th>p_val</th>\n",
       "    </tr>\n",
       "  </thead>\n",
       "  <tbody>\n",
       "    <tr>\n",
       "      <th>Age</th>\n",
       "      <td>34.474090</td>\n",
       "      <td>0.00000</td>\n",
       "    </tr>\n",
       "    <tr>\n",
       "      <th>Gender</th>\n",
       "      <td>5.964936</td>\n",
       "      <td>0.01604</td>\n",
       "    </tr>\n",
       "    <tr>\n",
       "      <th>Income</th>\n",
       "      <td>81.068341</td>\n",
       "      <td>0.00000</td>\n",
       "    </tr>\n",
       "    <tr>\n",
       "      <th>Education</th>\n",
       "      <td>31.118797</td>\n",
       "      <td>0.00000</td>\n",
       "    </tr>\n",
       "    <tr>\n",
       "      <th>Marital Status</th>\n",
       "      <td>12.412466</td>\n",
       "      <td>0.00060</td>\n",
       "    </tr>\n",
       "    <tr>\n",
       "      <th>Number of Children</th>\n",
       "      <td>10.520425</td>\n",
       "      <td>0.00153</td>\n",
       "    </tr>\n",
       "    <tr>\n",
       "      <th>Home Ownership</th>\n",
       "      <td>56.349304</td>\n",
       "      <td>0.00000</td>\n",
       "    </tr>\n",
       "    <tr>\n",
       "      <th>Credit Score</th>\n",
       "      <td>193.528611</td>\n",
       "      <td>0.00000</td>\n",
       "    </tr>\n",
       "    <tr>\n",
       "      <th>Loan amount</th>\n",
       "      <td>7.435931</td>\n",
       "      <td>0.00734</td>\n",
       "    </tr>\n",
       "    <tr>\n",
       "      <th>EMI</th>\n",
       "      <td>47.685918</td>\n",
       "      <td>0.00000</td>\n",
       "    </tr>\n",
       "    <tr>\n",
       "      <th>Inhand Sallary</th>\n",
       "      <td>72.657440</td>\n",
       "      <td>0.00000</td>\n",
       "    </tr>\n",
       "  </tbody>\n",
       "</table>\n",
       "</div>"
      ],
      "text/plain": [
       "                         f_val    p_val\n",
       "Age                  34.474090  0.00000\n",
       "Gender                5.964936  0.01604\n",
       "Income               81.068341  0.00000\n",
       "Education            31.118797  0.00000\n",
       "Marital Status       12.412466  0.00060\n",
       "Number of Children   10.520425  0.00153\n",
       "Home Ownership       56.349304  0.00000\n",
       "Credit Score        193.528611  0.00000\n",
       "Loan amount           7.435931  0.00734\n",
       "EMI                  47.685918  0.00000\n",
       "Inhand Sallary       72.657440  0.00000"
      ]
     },
     "execution_count": 280,
     "metadata": {},
     "output_type": "execute_result"
    }
   ],
   "source": [
    "df4 = pd.DataFrame({\"f_val\":f_val, \"p_val\":np.around(p_val,5)}, index=x_train.columns)\n",
    "df4"
   ]
  },
  {
   "cell_type": "markdown",
   "id": "cf8d2877",
   "metadata": {},
   "source": [
    "#### Feature Scaling"
   ]
  },
  {
   "cell_type": "code",
   "execution_count": 291,
   "id": "bfa8a9fb",
   "metadata": {},
   "outputs": [
    {
     "data": {
      "text/html": [
       "<div>\n",
       "<style scoped>\n",
       "    .dataframe tbody tr th:only-of-type {\n",
       "        vertical-align: middle;\n",
       "    }\n",
       "\n",
       "    .dataframe tbody tr th {\n",
       "        vertical-align: top;\n",
       "    }\n",
       "\n",
       "    .dataframe thead th {\n",
       "        text-align: right;\n",
       "    }\n",
       "</style>\n",
       "<table border=\"1\" class=\"dataframe\">\n",
       "  <thead>\n",
       "    <tr style=\"text-align: right;\">\n",
       "      <th></th>\n",
       "      <th>Age</th>\n",
       "      <th>Gender</th>\n",
       "      <th>Income</th>\n",
       "      <th>Education</th>\n",
       "      <th>Marital Status</th>\n",
       "      <th>Number of Children</th>\n",
       "      <th>Home Ownership</th>\n",
       "      <th>Credit Score</th>\n",
       "      <th>Loan amount</th>\n",
       "      <th>EMI</th>\n",
       "      <th>Inhand Sallary</th>\n",
       "    </tr>\n",
       "  </thead>\n",
       "  <tbody>\n",
       "    <tr>\n",
       "      <th>0</th>\n",
       "      <td>0.928571</td>\n",
       "      <td>0.0</td>\n",
       "      <td>0.800000</td>\n",
       "      <td>0.50</td>\n",
       "      <td>1.0</td>\n",
       "      <td>0.0</td>\n",
       "      <td>1.0</td>\n",
       "      <td>1.0</td>\n",
       "      <td>0.141643</td>\n",
       "      <td>0.796296</td>\n",
       "      <td>0.796300</td>\n",
       "    </tr>\n",
       "    <tr>\n",
       "      <th>1</th>\n",
       "      <td>0.500000</td>\n",
       "      <td>1.0</td>\n",
       "      <td>0.272727</td>\n",
       "      <td>0.50</td>\n",
       "      <td>1.0</td>\n",
       "      <td>1.0</td>\n",
       "      <td>1.0</td>\n",
       "      <td>1.0</td>\n",
       "      <td>0.315392</td>\n",
       "      <td>0.259259</td>\n",
       "      <td>0.259267</td>\n",
       "    </tr>\n",
       "    <tr>\n",
       "      <th>2</th>\n",
       "      <td>0.750000</td>\n",
       "      <td>1.0</td>\n",
       "      <td>0.509091</td>\n",
       "      <td>0.00</td>\n",
       "      <td>1.0</td>\n",
       "      <td>0.5</td>\n",
       "      <td>1.0</td>\n",
       "      <td>1.0</td>\n",
       "      <td>0.260623</td>\n",
       "      <td>0.500000</td>\n",
       "      <td>0.500000</td>\n",
       "    </tr>\n",
       "    <tr>\n",
       "      <th>3</th>\n",
       "      <td>0.821429</td>\n",
       "      <td>1.0</td>\n",
       "      <td>0.454545</td>\n",
       "      <td>1.00</td>\n",
       "      <td>1.0</td>\n",
       "      <td>0.5</td>\n",
       "      <td>1.0</td>\n",
       "      <td>1.0</td>\n",
       "      <td>0.169027</td>\n",
       "      <td>0.444444</td>\n",
       "      <td>0.444444</td>\n",
       "    </tr>\n",
       "    <tr>\n",
       "      <th>4</th>\n",
       "      <td>0.357143</td>\n",
       "      <td>1.0</td>\n",
       "      <td>0.472727</td>\n",
       "      <td>1.00</td>\n",
       "      <td>1.0</td>\n",
       "      <td>0.5</td>\n",
       "      <td>1.0</td>\n",
       "      <td>1.0</td>\n",
       "      <td>0.617564</td>\n",
       "      <td>0.462963</td>\n",
       "      <td>0.462967</td>\n",
       "    </tr>\n",
       "    <tr>\n",
       "      <th>...</th>\n",
       "      <td>...</td>\n",
       "      <td>...</td>\n",
       "      <td>...</td>\n",
       "      <td>...</td>\n",
       "      <td>...</td>\n",
       "      <td>...</td>\n",
       "      <td>...</td>\n",
       "      <td>...</td>\n",
       "      <td>...</td>\n",
       "      <td>...</td>\n",
       "      <td>...</td>\n",
       "    </tr>\n",
       "    <tr>\n",
       "      <th>118</th>\n",
       "      <td>0.750000</td>\n",
       "      <td>1.0</td>\n",
       "      <td>0.509091</td>\n",
       "      <td>0.00</td>\n",
       "      <td>1.0</td>\n",
       "      <td>0.5</td>\n",
       "      <td>1.0</td>\n",
       "      <td>1.0</td>\n",
       "      <td>0.260623</td>\n",
       "      <td>0.500000</td>\n",
       "      <td>0.500000</td>\n",
       "    </tr>\n",
       "    <tr>\n",
       "      <th>119</th>\n",
       "      <td>0.785714</td>\n",
       "      <td>1.0</td>\n",
       "      <td>0.472727</td>\n",
       "      <td>1.00</td>\n",
       "      <td>1.0</td>\n",
       "      <td>0.5</td>\n",
       "      <td>1.0</td>\n",
       "      <td>1.0</td>\n",
       "      <td>0.209632</td>\n",
       "      <td>0.462963</td>\n",
       "      <td>0.462967</td>\n",
       "    </tr>\n",
       "    <tr>\n",
       "      <th>120</th>\n",
       "      <td>0.857143</td>\n",
       "      <td>1.0</td>\n",
       "      <td>0.381818</td>\n",
       "      <td>1.00</td>\n",
       "      <td>1.0</td>\n",
       "      <td>0.5</td>\n",
       "      <td>1.0</td>\n",
       "      <td>1.0</td>\n",
       "      <td>0.113314</td>\n",
       "      <td>0.370370</td>\n",
       "      <td>0.370378</td>\n",
       "    </tr>\n",
       "    <tr>\n",
       "      <th>121</th>\n",
       "      <td>0.892857</td>\n",
       "      <td>0.0</td>\n",
       "      <td>0.981818</td>\n",
       "      <td>0.75</td>\n",
       "      <td>1.0</td>\n",
       "      <td>0.0</td>\n",
       "      <td>1.0</td>\n",
       "      <td>1.0</td>\n",
       "      <td>0.239849</td>\n",
       "      <td>0.981481</td>\n",
       "      <td>0.981489</td>\n",
       "    </tr>\n",
       "    <tr>\n",
       "      <th>122</th>\n",
       "      <td>0.000000</td>\n",
       "      <td>1.0</td>\n",
       "      <td>0.218182</td>\n",
       "      <td>0.50</td>\n",
       "      <td>0.0</td>\n",
       "      <td>0.0</td>\n",
       "      <td>0.0</td>\n",
       "      <td>0.5</td>\n",
       "      <td>0.560907</td>\n",
       "      <td>0.203704</td>\n",
       "      <td>0.203711</td>\n",
       "    </tr>\n",
       "  </tbody>\n",
       "</table>\n",
       "<p>123 rows × 11 columns</p>\n",
       "</div>"
      ],
      "text/plain": [
       "          Age  Gender    Income  Education  Marital Status  \\\n",
       "0    0.928571     0.0  0.800000       0.50             1.0   \n",
       "1    0.500000     1.0  0.272727       0.50             1.0   \n",
       "2    0.750000     1.0  0.509091       0.00             1.0   \n",
       "3    0.821429     1.0  0.454545       1.00             1.0   \n",
       "4    0.357143     1.0  0.472727       1.00             1.0   \n",
       "..        ...     ...       ...        ...             ...   \n",
       "118  0.750000     1.0  0.509091       0.00             1.0   \n",
       "119  0.785714     1.0  0.472727       1.00             1.0   \n",
       "120  0.857143     1.0  0.381818       1.00             1.0   \n",
       "121  0.892857     0.0  0.981818       0.75             1.0   \n",
       "122  0.000000     1.0  0.218182       0.50             0.0   \n",
       "\n",
       "     Number of Children  Home Ownership  Credit Score  Loan amount       EMI  \\\n",
       "0                   0.0             1.0           1.0     0.141643  0.796296   \n",
       "1                   1.0             1.0           1.0     0.315392  0.259259   \n",
       "2                   0.5             1.0           1.0     0.260623  0.500000   \n",
       "3                   0.5             1.0           1.0     0.169027  0.444444   \n",
       "4                   0.5             1.0           1.0     0.617564  0.462963   \n",
       "..                  ...             ...           ...          ...       ...   \n",
       "118                 0.5             1.0           1.0     0.260623  0.500000   \n",
       "119                 0.5             1.0           1.0     0.209632  0.462963   \n",
       "120                 0.5             1.0           1.0     0.113314  0.370370   \n",
       "121                 0.0             1.0           1.0     0.239849  0.981481   \n",
       "122                 0.0             0.0           0.5     0.560907  0.203704   \n",
       "\n",
       "     Inhand Sallary  \n",
       "0          0.796300  \n",
       "1          0.259267  \n",
       "2          0.500000  \n",
       "3          0.444444  \n",
       "4          0.462967  \n",
       "..              ...  \n",
       "118        0.500000  \n",
       "119        0.462967  \n",
       "120        0.370378  \n",
       "121        0.981489  \n",
       "122        0.203711  \n",
       "\n",
       "[123 rows x 11 columns]"
      ]
     },
     "execution_count": 291,
     "metadata": {},
     "output_type": "execute_result"
    }
   ],
   "source": [
    "x_train_normal = normalization(x_train)\n",
    "x_train_normal"
   ]
  },
  {
   "cell_type": "code",
   "execution_count": 293,
   "id": "a4f2432e",
   "metadata": {
    "scrolled": true
   },
   "outputs": [
    {
     "data": {
      "text/html": [
       "<div>\n",
       "<style scoped>\n",
       "    .dataframe tbody tr th:only-of-type {\n",
       "        vertical-align: middle;\n",
       "    }\n",
       "\n",
       "    .dataframe tbody tr th {\n",
       "        vertical-align: top;\n",
       "    }\n",
       "\n",
       "    .dataframe thead th {\n",
       "        text-align: right;\n",
       "    }\n",
       "</style>\n",
       "<table border=\"1\" class=\"dataframe\">\n",
       "  <thead>\n",
       "    <tr style=\"text-align: right;\">\n",
       "      <th></th>\n",
       "      <th>Age</th>\n",
       "      <th>Gender</th>\n",
       "      <th>Income</th>\n",
       "      <th>Education</th>\n",
       "      <th>Marital Status</th>\n",
       "      <th>Number of Children</th>\n",
       "      <th>Home Ownership</th>\n",
       "      <th>Credit Score</th>\n",
       "      <th>Loan amount</th>\n",
       "      <th>EMI</th>\n",
       "      <th>Inhand Sallary</th>\n",
       "    </tr>\n",
       "  </thead>\n",
       "  <tbody>\n",
       "    <tr>\n",
       "      <th>0</th>\n",
       "      <td>0.96</td>\n",
       "      <td>1.0</td>\n",
       "      <td>0.405405</td>\n",
       "      <td>1.00</td>\n",
       "      <td>1.0</td>\n",
       "      <td>0.5</td>\n",
       "      <td>1.0</td>\n",
       "      <td>1.0</td>\n",
       "      <td>0.103339</td>\n",
       "      <td>0.371429</td>\n",
       "      <td>0.371419</td>\n",
       "    </tr>\n",
       "    <tr>\n",
       "      <th>1</th>\n",
       "      <td>0.40</td>\n",
       "      <td>1.0</td>\n",
       "      <td>0.513514</td>\n",
       "      <td>1.00</td>\n",
       "      <td>1.0</td>\n",
       "      <td>0.5</td>\n",
       "      <td>1.0</td>\n",
       "      <td>1.0</td>\n",
       "      <td>0.809221</td>\n",
       "      <td>0.485714</td>\n",
       "      <td>0.485711</td>\n",
       "    </tr>\n",
       "    <tr>\n",
       "      <th>2</th>\n",
       "      <td>0.76</td>\n",
       "      <td>0.0</td>\n",
       "      <td>0.648649</td>\n",
       "      <td>0.75</td>\n",
       "      <td>0.0</td>\n",
       "      <td>0.0</td>\n",
       "      <td>1.0</td>\n",
       "      <td>1.0</td>\n",
       "      <td>0.467409</td>\n",
       "      <td>0.628572</td>\n",
       "      <td>0.628564</td>\n",
       "    </tr>\n",
       "    <tr>\n",
       "      <th>3</th>\n",
       "      <td>0.64</td>\n",
       "      <td>0.0</td>\n",
       "      <td>1.000000</td>\n",
       "      <td>1.00</td>\n",
       "      <td>0.0</td>\n",
       "      <td>0.0</td>\n",
       "      <td>1.0</td>\n",
       "      <td>1.0</td>\n",
       "      <td>0.923688</td>\n",
       "      <td>1.000000</td>\n",
       "      <td>1.000000</td>\n",
       "    </tr>\n",
       "    <tr>\n",
       "      <th>4</th>\n",
       "      <td>0.28</td>\n",
       "      <td>0.0</td>\n",
       "      <td>0.324324</td>\n",
       "      <td>0.25</td>\n",
       "      <td>0.0</td>\n",
       "      <td>0.0</td>\n",
       "      <td>0.0</td>\n",
       "      <td>0.5</td>\n",
       "      <td>0.696343</td>\n",
       "      <td>0.285714</td>\n",
       "      <td>0.285704</td>\n",
       "    </tr>\n",
       "    <tr>\n",
       "      <th>5</th>\n",
       "      <td>0.40</td>\n",
       "      <td>1.0</td>\n",
       "      <td>0.675676</td>\n",
       "      <td>1.00</td>\n",
       "      <td>1.0</td>\n",
       "      <td>0.5</td>\n",
       "      <td>1.0</td>\n",
       "      <td>1.0</td>\n",
       "      <td>1.000000</td>\n",
       "      <td>0.657143</td>\n",
       "      <td>0.657141</td>\n",
       "    </tr>\n",
       "    <tr>\n",
       "      <th>6</th>\n",
       "      <td>0.64</td>\n",
       "      <td>0.0</td>\n",
       "      <td>0.945946</td>\n",
       "      <td>1.00</td>\n",
       "      <td>0.0</td>\n",
       "      <td>0.0</td>\n",
       "      <td>1.0</td>\n",
       "      <td>1.0</td>\n",
       "      <td>0.879173</td>\n",
       "      <td>0.942857</td>\n",
       "      <td>0.942863</td>\n",
       "    </tr>\n",
       "    <tr>\n",
       "      <th>7</th>\n",
       "      <td>0.24</td>\n",
       "      <td>0.0</td>\n",
       "      <td>0.351351</td>\n",
       "      <td>0.50</td>\n",
       "      <td>0.0</td>\n",
       "      <td>0.0</td>\n",
       "      <td>0.0</td>\n",
       "      <td>0.5</td>\n",
       "      <td>0.771065</td>\n",
       "      <td>0.314286</td>\n",
       "      <td>0.314282</td>\n",
       "    </tr>\n",
       "    <tr>\n",
       "      <th>8</th>\n",
       "      <td>0.40</td>\n",
       "      <td>1.0</td>\n",
       "      <td>0.621622</td>\n",
       "      <td>1.00</td>\n",
       "      <td>1.0</td>\n",
       "      <td>0.5</td>\n",
       "      <td>1.0</td>\n",
       "      <td>1.0</td>\n",
       "      <td>0.936407</td>\n",
       "      <td>0.600000</td>\n",
       "      <td>0.600003</td>\n",
       "    </tr>\n",
       "    <tr>\n",
       "      <th>9</th>\n",
       "      <td>0.76</td>\n",
       "      <td>0.0</td>\n",
       "      <td>0.648649</td>\n",
       "      <td>0.75</td>\n",
       "      <td>0.0</td>\n",
       "      <td>0.0</td>\n",
       "      <td>1.0</td>\n",
       "      <td>1.0</td>\n",
       "      <td>0.467409</td>\n",
       "      <td>0.628572</td>\n",
       "      <td>0.628564</td>\n",
       "    </tr>\n",
       "    <tr>\n",
       "      <th>10</th>\n",
       "      <td>0.52</td>\n",
       "      <td>1.0</td>\n",
       "      <td>0.432432</td>\n",
       "      <td>0.50</td>\n",
       "      <td>1.0</td>\n",
       "      <td>1.0</td>\n",
       "      <td>1.0</td>\n",
       "      <td>1.0</td>\n",
       "      <td>0.585056</td>\n",
       "      <td>0.400000</td>\n",
       "      <td>0.399997</td>\n",
       "    </tr>\n",
       "    <tr>\n",
       "      <th>11</th>\n",
       "      <td>0.84</td>\n",
       "      <td>1.0</td>\n",
       "      <td>0.810811</td>\n",
       "      <td>0.00</td>\n",
       "      <td>1.0</td>\n",
       "      <td>0.5</td>\n",
       "      <td>1.0</td>\n",
       "      <td>1.0</td>\n",
       "      <td>0.441971</td>\n",
       "      <td>0.800000</td>\n",
       "      <td>0.799993</td>\n",
       "    </tr>\n",
       "    <tr>\n",
       "      <th>12</th>\n",
       "      <td>0.32</td>\n",
       "      <td>0.0</td>\n",
       "      <td>0.270270</td>\n",
       "      <td>0.00</td>\n",
       "      <td>0.0</td>\n",
       "      <td>0.0</td>\n",
       "      <td>0.0</td>\n",
       "      <td>0.5</td>\n",
       "      <td>0.589825</td>\n",
       "      <td>0.228572</td>\n",
       "      <td>0.228567</td>\n",
       "    </tr>\n",
       "    <tr>\n",
       "      <th>13</th>\n",
       "      <td>0.16</td>\n",
       "      <td>1.0</td>\n",
       "      <td>0.000000</td>\n",
       "      <td>0.00</td>\n",
       "      <td>0.0</td>\n",
       "      <td>0.0</td>\n",
       "      <td>0.0</td>\n",
       "      <td>0.0</td>\n",
       "      <td>0.672536</td>\n",
       "      <td>0.521429</td>\n",
       "      <td>0.099995</td>\n",
       "    </tr>\n",
       "    <tr>\n",
       "      <th>14</th>\n",
       "      <td>0.48</td>\n",
       "      <td>1.0</td>\n",
       "      <td>0.486486</td>\n",
       "      <td>0.50</td>\n",
       "      <td>1.0</td>\n",
       "      <td>1.0</td>\n",
       "      <td>1.0</td>\n",
       "      <td>1.0</td>\n",
       "      <td>0.685215</td>\n",
       "      <td>0.457143</td>\n",
       "      <td>0.457134</td>\n",
       "    </tr>\n",
       "    <tr>\n",
       "      <th>15</th>\n",
       "      <td>0.96</td>\n",
       "      <td>1.0</td>\n",
       "      <td>0.540541</td>\n",
       "      <td>1.00</td>\n",
       "      <td>1.0</td>\n",
       "      <td>0.5</td>\n",
       "      <td>1.0</td>\n",
       "      <td>1.0</td>\n",
       "      <td>0.151033</td>\n",
       "      <td>0.514286</td>\n",
       "      <td>0.514289</td>\n",
       "    </tr>\n",
       "    <tr>\n",
       "      <th>16</th>\n",
       "      <td>0.08</td>\n",
       "      <td>1.0</td>\n",
       "      <td>0.108108</td>\n",
       "      <td>0.00</td>\n",
       "      <td>0.0</td>\n",
       "      <td>0.0</td>\n",
       "      <td>0.0</td>\n",
       "      <td>0.0</td>\n",
       "      <td>0.046105</td>\n",
       "      <td>0.057143</td>\n",
       "      <td>0.057137</td>\n",
       "    </tr>\n",
       "    <tr>\n",
       "      <th>17</th>\n",
       "      <td>0.40</td>\n",
       "      <td>1.0</td>\n",
       "      <td>0.675676</td>\n",
       "      <td>1.00</td>\n",
       "      <td>1.0</td>\n",
       "      <td>0.5</td>\n",
       "      <td>1.0</td>\n",
       "      <td>1.0</td>\n",
       "      <td>1.000000</td>\n",
       "      <td>0.657143</td>\n",
       "      <td>0.657141</td>\n",
       "    </tr>\n",
       "    <tr>\n",
       "      <th>18</th>\n",
       "      <td>0.20</td>\n",
       "      <td>0.0</td>\n",
       "      <td>0.972973</td>\n",
       "      <td>0.75</td>\n",
       "      <td>1.0</td>\n",
       "      <td>1.0</td>\n",
       "      <td>1.0</td>\n",
       "      <td>1.0</td>\n",
       "      <td>0.659777</td>\n",
       "      <td>0.971429</td>\n",
       "      <td>0.971423</td>\n",
       "    </tr>\n",
       "    <tr>\n",
       "      <th>19</th>\n",
       "      <td>0.52</td>\n",
       "      <td>1.0</td>\n",
       "      <td>0.432432</td>\n",
       "      <td>0.50</td>\n",
       "      <td>1.0</td>\n",
       "      <td>1.0</td>\n",
       "      <td>1.0</td>\n",
       "      <td>1.0</td>\n",
       "      <td>0.585056</td>\n",
       "      <td>0.400000</td>\n",
       "      <td>0.399997</td>\n",
       "    </tr>\n",
       "    <tr>\n",
       "      <th>20</th>\n",
       "      <td>0.56</td>\n",
       "      <td>1.0</td>\n",
       "      <td>0.378378</td>\n",
       "      <td>0.50</td>\n",
       "      <td>1.0</td>\n",
       "      <td>1.0</td>\n",
       "      <td>1.0</td>\n",
       "      <td>1.0</td>\n",
       "      <td>0.491256</td>\n",
       "      <td>0.342857</td>\n",
       "      <td>0.342859</td>\n",
       "    </tr>\n",
       "    <tr>\n",
       "      <th>21</th>\n",
       "      <td>1.00</td>\n",
       "      <td>0.0</td>\n",
       "      <td>0.459459</td>\n",
       "      <td>0.75</td>\n",
       "      <td>1.0</td>\n",
       "      <td>0.0</td>\n",
       "      <td>1.0</td>\n",
       "      <td>1.0</td>\n",
       "      <td>0.348172</td>\n",
       "      <td>0.457143</td>\n",
       "      <td>0.428574</td>\n",
       "    </tr>\n",
       "    <tr>\n",
       "      <th>22</th>\n",
       "      <td>0.40</td>\n",
       "      <td>1.0</td>\n",
       "      <td>0.621622</td>\n",
       "      <td>1.00</td>\n",
       "      <td>1.0</td>\n",
       "      <td>0.5</td>\n",
       "      <td>1.0</td>\n",
       "      <td>1.0</td>\n",
       "      <td>0.936407</td>\n",
       "      <td>0.600000</td>\n",
       "      <td>0.600003</td>\n",
       "    </tr>\n",
       "    <tr>\n",
       "      <th>23</th>\n",
       "      <td>0.04</td>\n",
       "      <td>1.0</td>\n",
       "      <td>0.189189</td>\n",
       "      <td>0.25</td>\n",
       "      <td>0.0</td>\n",
       "      <td>0.0</td>\n",
       "      <td>0.0</td>\n",
       "      <td>0.5</td>\n",
       "      <td>0.685215</td>\n",
       "      <td>0.142857</td>\n",
       "      <td>0.142852</td>\n",
       "    </tr>\n",
       "    <tr>\n",
       "      <th>24</th>\n",
       "      <td>1.00</td>\n",
       "      <td>0.0</td>\n",
       "      <td>0.459459</td>\n",
       "      <td>0.75</td>\n",
       "      <td>1.0</td>\n",
       "      <td>0.0</td>\n",
       "      <td>1.0</td>\n",
       "      <td>1.0</td>\n",
       "      <td>0.332273</td>\n",
       "      <td>0.457143</td>\n",
       "      <td>0.428574</td>\n",
       "    </tr>\n",
       "    <tr>\n",
       "      <th>25</th>\n",
       "      <td>0.92</td>\n",
       "      <td>1.0</td>\n",
       "      <td>0.459459</td>\n",
       "      <td>1.00</td>\n",
       "      <td>1.0</td>\n",
       "      <td>0.5</td>\n",
       "      <td>1.0</td>\n",
       "      <td>1.0</td>\n",
       "      <td>0.166932</td>\n",
       "      <td>0.428571</td>\n",
       "      <td>0.428574</td>\n",
       "    </tr>\n",
       "    <tr>\n",
       "      <th>26</th>\n",
       "      <td>0.08</td>\n",
       "      <td>1.0</td>\n",
       "      <td>0.108108</td>\n",
       "      <td>0.00</td>\n",
       "      <td>0.0</td>\n",
       "      <td>0.0</td>\n",
       "      <td>1.0</td>\n",
       "      <td>0.0</td>\n",
       "      <td>0.046105</td>\n",
       "      <td>0.057143</td>\n",
       "      <td>0.057137</td>\n",
       "    </tr>\n",
       "    <tr>\n",
       "      <th>27</th>\n",
       "      <td>0.20</td>\n",
       "      <td>0.0</td>\n",
       "      <td>0.783784</td>\n",
       "      <td>0.75</td>\n",
       "      <td>1.0</td>\n",
       "      <td>1.0</td>\n",
       "      <td>1.0</td>\n",
       "      <td>1.0</td>\n",
       "      <td>0.659777</td>\n",
       "      <td>0.771428</td>\n",
       "      <td>0.771433</td>\n",
       "    </tr>\n",
       "    <tr>\n",
       "      <th>28</th>\n",
       "      <td>0.12</td>\n",
       "      <td>1.0</td>\n",
       "      <td>0.054054</td>\n",
       "      <td>0.25</td>\n",
       "      <td>1.0</td>\n",
       "      <td>0.0</td>\n",
       "      <td>1.0</td>\n",
       "      <td>0.0</td>\n",
       "      <td>0.000000</td>\n",
       "      <td>0.000000</td>\n",
       "      <td>0.000000</td>\n",
       "    </tr>\n",
       "    <tr>\n",
       "      <th>29</th>\n",
       "      <td>0.20</td>\n",
       "      <td>0.0</td>\n",
       "      <td>0.918919</td>\n",
       "      <td>0.75</td>\n",
       "      <td>1.0</td>\n",
       "      <td>1.0</td>\n",
       "      <td>1.0</td>\n",
       "      <td>1.0</td>\n",
       "      <td>0.659777</td>\n",
       "      <td>0.914286</td>\n",
       "      <td>0.914285</td>\n",
       "    </tr>\n",
       "    <tr>\n",
       "      <th>30</th>\n",
       "      <td>0.40</td>\n",
       "      <td>1.0</td>\n",
       "      <td>0.621622</td>\n",
       "      <td>1.00</td>\n",
       "      <td>1.0</td>\n",
       "      <td>0.5</td>\n",
       "      <td>1.0</td>\n",
       "      <td>1.0</td>\n",
       "      <td>0.936407</td>\n",
       "      <td>0.600000</td>\n",
       "      <td>0.600003</td>\n",
       "    </tr>\n",
       "    <tr>\n",
       "      <th>31</th>\n",
       "      <td>0.56</td>\n",
       "      <td>1.0</td>\n",
       "      <td>0.378378</td>\n",
       "      <td>0.50</td>\n",
       "      <td>1.0</td>\n",
       "      <td>1.0</td>\n",
       "      <td>1.0</td>\n",
       "      <td>1.0</td>\n",
       "      <td>0.491256</td>\n",
       "      <td>0.342857</td>\n",
       "      <td>0.342859</td>\n",
       "    </tr>\n",
       "    <tr>\n",
       "      <th>32</th>\n",
       "      <td>0.28</td>\n",
       "      <td>0.0</td>\n",
       "      <td>0.324324</td>\n",
       "      <td>0.25</td>\n",
       "      <td>0.0</td>\n",
       "      <td>0.0</td>\n",
       "      <td>0.0</td>\n",
       "      <td>0.5</td>\n",
       "      <td>0.696343</td>\n",
       "      <td>0.285714</td>\n",
       "      <td>0.285704</td>\n",
       "    </tr>\n",
       "    <tr>\n",
       "      <th>33</th>\n",
       "      <td>0.20</td>\n",
       "      <td>0.0</td>\n",
       "      <td>0.837838</td>\n",
       "      <td>0.75</td>\n",
       "      <td>1.0</td>\n",
       "      <td>1.0</td>\n",
       "      <td>1.0</td>\n",
       "      <td>1.0</td>\n",
       "      <td>0.659777</td>\n",
       "      <td>0.828571</td>\n",
       "      <td>0.828570</td>\n",
       "    </tr>\n",
       "    <tr>\n",
       "      <th>34</th>\n",
       "      <td>0.28</td>\n",
       "      <td>0.0</td>\n",
       "      <td>0.297297</td>\n",
       "      <td>0.25</td>\n",
       "      <td>0.0</td>\n",
       "      <td>0.0</td>\n",
       "      <td>0.0</td>\n",
       "      <td>0.5</td>\n",
       "      <td>0.659777</td>\n",
       "      <td>0.257143</td>\n",
       "      <td>0.257144</td>\n",
       "    </tr>\n",
       "    <tr>\n",
       "      <th>35</th>\n",
       "      <td>0.00</td>\n",
       "      <td>1.0</td>\n",
       "      <td>0.324324</td>\n",
       "      <td>0.50</td>\n",
       "      <td>0.0</td>\n",
       "      <td>0.0</td>\n",
       "      <td>0.0</td>\n",
       "      <td>0.5</td>\n",
       "      <td>0.952305</td>\n",
       "      <td>0.285714</td>\n",
       "      <td>0.285704</td>\n",
       "    </tr>\n",
       "    <tr>\n",
       "      <th>36</th>\n",
       "      <td>0.44</td>\n",
       "      <td>1.0</td>\n",
       "      <td>0.567568</td>\n",
       "      <td>0.75</td>\n",
       "      <td>1.0</td>\n",
       "      <td>1.0</td>\n",
       "      <td>1.0</td>\n",
       "      <td>1.0</td>\n",
       "      <td>0.821940</td>\n",
       "      <td>0.542857</td>\n",
       "      <td>0.542849</td>\n",
       "    </tr>\n",
       "    <tr>\n",
       "      <th>37</th>\n",
       "      <td>0.28</td>\n",
       "      <td>0.0</td>\n",
       "      <td>0.324324</td>\n",
       "      <td>0.25</td>\n",
       "      <td>0.0</td>\n",
       "      <td>0.0</td>\n",
       "      <td>0.0</td>\n",
       "      <td>0.5</td>\n",
       "      <td>0.696343</td>\n",
       "      <td>0.285714</td>\n",
       "      <td>0.285704</td>\n",
       "    </tr>\n",
       "    <tr>\n",
       "      <th>38</th>\n",
       "      <td>0.52</td>\n",
       "      <td>1.0</td>\n",
       "      <td>0.405405</td>\n",
       "      <td>0.50</td>\n",
       "      <td>1.0</td>\n",
       "      <td>1.0</td>\n",
       "      <td>1.0</td>\n",
       "      <td>1.0</td>\n",
       "      <td>0.558029</td>\n",
       "      <td>0.371429</td>\n",
       "      <td>0.371419</td>\n",
       "    </tr>\n",
       "    <tr>\n",
       "      <th>39</th>\n",
       "      <td>0.36</td>\n",
       "      <td>0.0</td>\n",
       "      <td>0.189189</td>\n",
       "      <td>0.25</td>\n",
       "      <td>0.0</td>\n",
       "      <td>0.0</td>\n",
       "      <td>0.0</td>\n",
       "      <td>0.5</td>\n",
       "      <td>0.456280</td>\n",
       "      <td>0.142857</td>\n",
       "      <td>0.142852</td>\n",
       "    </tr>\n",
       "    <tr>\n",
       "      <th>40</th>\n",
       "      <td>0.96</td>\n",
       "      <td>1.0</td>\n",
       "      <td>0.540541</td>\n",
       "      <td>1.00</td>\n",
       "      <td>1.0</td>\n",
       "      <td>0.5</td>\n",
       "      <td>1.0</td>\n",
       "      <td>1.0</td>\n",
       "      <td>0.151033</td>\n",
       "      <td>0.514286</td>\n",
       "      <td>0.514289</td>\n",
       "    </tr>\n",
       "  </tbody>\n",
       "</table>\n",
       "</div>"
      ],
      "text/plain": [
       "     Age  Gender    Income  Education  Marital Status  Number of Children  \\\n",
       "0   0.96     1.0  0.405405       1.00             1.0                 0.5   \n",
       "1   0.40     1.0  0.513514       1.00             1.0                 0.5   \n",
       "2   0.76     0.0  0.648649       0.75             0.0                 0.0   \n",
       "3   0.64     0.0  1.000000       1.00             0.0                 0.0   \n",
       "4   0.28     0.0  0.324324       0.25             0.0                 0.0   \n",
       "5   0.40     1.0  0.675676       1.00             1.0                 0.5   \n",
       "6   0.64     0.0  0.945946       1.00             0.0                 0.0   \n",
       "7   0.24     0.0  0.351351       0.50             0.0                 0.0   \n",
       "8   0.40     1.0  0.621622       1.00             1.0                 0.5   \n",
       "9   0.76     0.0  0.648649       0.75             0.0                 0.0   \n",
       "10  0.52     1.0  0.432432       0.50             1.0                 1.0   \n",
       "11  0.84     1.0  0.810811       0.00             1.0                 0.5   \n",
       "12  0.32     0.0  0.270270       0.00             0.0                 0.0   \n",
       "13  0.16     1.0  0.000000       0.00             0.0                 0.0   \n",
       "14  0.48     1.0  0.486486       0.50             1.0                 1.0   \n",
       "15  0.96     1.0  0.540541       1.00             1.0                 0.5   \n",
       "16  0.08     1.0  0.108108       0.00             0.0                 0.0   \n",
       "17  0.40     1.0  0.675676       1.00             1.0                 0.5   \n",
       "18  0.20     0.0  0.972973       0.75             1.0                 1.0   \n",
       "19  0.52     1.0  0.432432       0.50             1.0                 1.0   \n",
       "20  0.56     1.0  0.378378       0.50             1.0                 1.0   \n",
       "21  1.00     0.0  0.459459       0.75             1.0                 0.0   \n",
       "22  0.40     1.0  0.621622       1.00             1.0                 0.5   \n",
       "23  0.04     1.0  0.189189       0.25             0.0                 0.0   \n",
       "24  1.00     0.0  0.459459       0.75             1.0                 0.0   \n",
       "25  0.92     1.0  0.459459       1.00             1.0                 0.5   \n",
       "26  0.08     1.0  0.108108       0.00             0.0                 0.0   \n",
       "27  0.20     0.0  0.783784       0.75             1.0                 1.0   \n",
       "28  0.12     1.0  0.054054       0.25             1.0                 0.0   \n",
       "29  0.20     0.0  0.918919       0.75             1.0                 1.0   \n",
       "30  0.40     1.0  0.621622       1.00             1.0                 0.5   \n",
       "31  0.56     1.0  0.378378       0.50             1.0                 1.0   \n",
       "32  0.28     0.0  0.324324       0.25             0.0                 0.0   \n",
       "33  0.20     0.0  0.837838       0.75             1.0                 1.0   \n",
       "34  0.28     0.0  0.297297       0.25             0.0                 0.0   \n",
       "35  0.00     1.0  0.324324       0.50             0.0                 0.0   \n",
       "36  0.44     1.0  0.567568       0.75             1.0                 1.0   \n",
       "37  0.28     0.0  0.324324       0.25             0.0                 0.0   \n",
       "38  0.52     1.0  0.405405       0.50             1.0                 1.0   \n",
       "39  0.36     0.0  0.189189       0.25             0.0                 0.0   \n",
       "40  0.96     1.0  0.540541       1.00             1.0                 0.5   \n",
       "\n",
       "    Home Ownership  Credit Score  Loan amount       EMI  Inhand Sallary  \n",
       "0              1.0           1.0     0.103339  0.371429        0.371419  \n",
       "1              1.0           1.0     0.809221  0.485714        0.485711  \n",
       "2              1.0           1.0     0.467409  0.628572        0.628564  \n",
       "3              1.0           1.0     0.923688  1.000000        1.000000  \n",
       "4              0.0           0.5     0.696343  0.285714        0.285704  \n",
       "5              1.0           1.0     1.000000  0.657143        0.657141  \n",
       "6              1.0           1.0     0.879173  0.942857        0.942863  \n",
       "7              0.0           0.5     0.771065  0.314286        0.314282  \n",
       "8              1.0           1.0     0.936407  0.600000        0.600003  \n",
       "9              1.0           1.0     0.467409  0.628572        0.628564  \n",
       "10             1.0           1.0     0.585056  0.400000        0.399997  \n",
       "11             1.0           1.0     0.441971  0.800000        0.799993  \n",
       "12             0.0           0.5     0.589825  0.228572        0.228567  \n",
       "13             0.0           0.0     0.672536  0.521429        0.099995  \n",
       "14             1.0           1.0     0.685215  0.457143        0.457134  \n",
       "15             1.0           1.0     0.151033  0.514286        0.514289  \n",
       "16             0.0           0.0     0.046105  0.057143        0.057137  \n",
       "17             1.0           1.0     1.000000  0.657143        0.657141  \n",
       "18             1.0           1.0     0.659777  0.971429        0.971423  \n",
       "19             1.0           1.0     0.585056  0.400000        0.399997  \n",
       "20             1.0           1.0     0.491256  0.342857        0.342859  \n",
       "21             1.0           1.0     0.348172  0.457143        0.428574  \n",
       "22             1.0           1.0     0.936407  0.600000        0.600003  \n",
       "23             0.0           0.5     0.685215  0.142857        0.142852  \n",
       "24             1.0           1.0     0.332273  0.457143        0.428574  \n",
       "25             1.0           1.0     0.166932  0.428571        0.428574  \n",
       "26             1.0           0.0     0.046105  0.057143        0.057137  \n",
       "27             1.0           1.0     0.659777  0.771428        0.771433  \n",
       "28             1.0           0.0     0.000000  0.000000        0.000000  \n",
       "29             1.0           1.0     0.659777  0.914286        0.914285  \n",
       "30             1.0           1.0     0.936407  0.600000        0.600003  \n",
       "31             1.0           1.0     0.491256  0.342857        0.342859  \n",
       "32             0.0           0.5     0.696343  0.285714        0.285704  \n",
       "33             1.0           1.0     0.659777  0.828571        0.828570  \n",
       "34             0.0           0.5     0.659777  0.257143        0.257144  \n",
       "35             0.0           0.5     0.952305  0.285714        0.285704  \n",
       "36             1.0           1.0     0.821940  0.542857        0.542849  \n",
       "37             0.0           0.5     0.696343  0.285714        0.285704  \n",
       "38             1.0           1.0     0.558029  0.371429        0.371419  \n",
       "39             0.0           0.5     0.456280  0.142857        0.142852  \n",
       "40             1.0           1.0     0.151033  0.514286        0.514289  "
      ]
     },
     "execution_count": 293,
     "metadata": {},
     "output_type": "execute_result"
    }
   ],
   "source": [
    "x_test_normal = normalization(x_test)\n",
    "x_test_normal"
   ]
  },
  {
   "cell_type": "markdown",
   "id": "41c337b9",
   "metadata": {},
   "source": [
    "# Model Building"
   ]
  },
  {
   "cell_type": "markdown",
   "id": "73a61d83",
   "metadata": {},
   "source": [
    "### Adaptive Boosting Classifier"
   ]
  },
  {
   "cell_type": "code",
   "execution_count": 297,
   "id": "c6b89ed5",
   "metadata": {},
   "outputs": [
    {
     "data": {
      "text/html": [
       "<style>#sk-container-id-1 {color: black;background-color: white;}#sk-container-id-1 pre{padding: 0;}#sk-container-id-1 div.sk-toggleable {background-color: white;}#sk-container-id-1 label.sk-toggleable__label {cursor: pointer;display: block;width: 100%;margin-bottom: 0;padding: 0.3em;box-sizing: border-box;text-align: center;}#sk-container-id-1 label.sk-toggleable__label-arrow:before {content: \"▸\";float: left;margin-right: 0.25em;color: #696969;}#sk-container-id-1 label.sk-toggleable__label-arrow:hover:before {color: black;}#sk-container-id-1 div.sk-estimator:hover label.sk-toggleable__label-arrow:before {color: black;}#sk-container-id-1 div.sk-toggleable__content {max-height: 0;max-width: 0;overflow: hidden;text-align: left;background-color: #f0f8ff;}#sk-container-id-1 div.sk-toggleable__content pre {margin: 0.2em;color: black;border-radius: 0.25em;background-color: #f0f8ff;}#sk-container-id-1 input.sk-toggleable__control:checked~div.sk-toggleable__content {max-height: 200px;max-width: 100%;overflow: auto;}#sk-container-id-1 input.sk-toggleable__control:checked~label.sk-toggleable__label-arrow:before {content: \"▾\";}#sk-container-id-1 div.sk-estimator input.sk-toggleable__control:checked~label.sk-toggleable__label {background-color: #d4ebff;}#sk-container-id-1 div.sk-label input.sk-toggleable__control:checked~label.sk-toggleable__label {background-color: #d4ebff;}#sk-container-id-1 input.sk-hidden--visually {border: 0;clip: rect(1px 1px 1px 1px);clip: rect(1px, 1px, 1px, 1px);height: 1px;margin: -1px;overflow: hidden;padding: 0;position: absolute;width: 1px;}#sk-container-id-1 div.sk-estimator {font-family: monospace;background-color: #f0f8ff;border: 1px dotted black;border-radius: 0.25em;box-sizing: border-box;margin-bottom: 0.5em;}#sk-container-id-1 div.sk-estimator:hover {background-color: #d4ebff;}#sk-container-id-1 div.sk-parallel-item::after {content: \"\";width: 100%;border-bottom: 1px solid gray;flex-grow: 1;}#sk-container-id-1 div.sk-label:hover label.sk-toggleable__label {background-color: #d4ebff;}#sk-container-id-1 div.sk-serial::before {content: \"\";position: absolute;border-left: 1px solid gray;box-sizing: border-box;top: 0;bottom: 0;left: 50%;z-index: 0;}#sk-container-id-1 div.sk-serial {display: flex;flex-direction: column;align-items: center;background-color: white;padding-right: 0.2em;padding-left: 0.2em;position: relative;}#sk-container-id-1 div.sk-item {position: relative;z-index: 1;}#sk-container-id-1 div.sk-parallel {display: flex;align-items: stretch;justify-content: center;background-color: white;position: relative;}#sk-container-id-1 div.sk-item::before, #sk-container-id-1 div.sk-parallel-item::before {content: \"\";position: absolute;border-left: 1px solid gray;box-sizing: border-box;top: 0;bottom: 0;left: 50%;z-index: -1;}#sk-container-id-1 div.sk-parallel-item {display: flex;flex-direction: column;z-index: 1;position: relative;background-color: white;}#sk-container-id-1 div.sk-parallel-item:first-child::after {align-self: flex-end;width: 50%;}#sk-container-id-1 div.sk-parallel-item:last-child::after {align-self: flex-start;width: 50%;}#sk-container-id-1 div.sk-parallel-item:only-child::after {width: 0;}#sk-container-id-1 div.sk-dashed-wrapped {border: 1px dashed gray;margin: 0 0.4em 0.5em 0.4em;box-sizing: border-box;padding-bottom: 0.4em;background-color: white;}#sk-container-id-1 div.sk-label label {font-family: monospace;font-weight: bold;display: inline-block;line-height: 1.2em;}#sk-container-id-1 div.sk-label-container {text-align: center;}#sk-container-id-1 div.sk-container {/* jupyter's `normalize.less` sets `[hidden] { display: none; }` but bootstrap.min.css set `[hidden] { display: none !important; }` so we also need the `!important` here to be able to override the default hidden behavior on the sphinx rendered scikit-learn.org. See: https://github.com/scikit-learn/scikit-learn/issues/21755 */display: inline-block !important;position: relative;}#sk-container-id-1 div.sk-text-repr-fallback {display: none;}</style><div id=\"sk-container-id-1\" class=\"sk-top-container\"><div class=\"sk-text-repr-fallback\"><pre>AdaBoostClassifier(random_state=39)</pre><b>In a Jupyter environment, please rerun this cell to show the HTML representation or trust the notebook. <br />On GitHub, the HTML representation is unable to render, please try loading this page with nbviewer.org.</b></div><div class=\"sk-container\" hidden><div class=\"sk-item\"><div class=\"sk-estimator sk-toggleable\"><input class=\"sk-toggleable__control sk-hidden--visually\" id=\"sk-estimator-id-1\" type=\"checkbox\" checked><label for=\"sk-estimator-id-1\" class=\"sk-toggleable__label sk-toggleable__label-arrow\">AdaBoostClassifier</label><div class=\"sk-toggleable__content\"><pre>AdaBoostClassifier(random_state=39)</pre></div></div></div></div></div>"
      ],
      "text/plain": [
       "AdaBoostClassifier(random_state=39)"
      ]
     },
     "execution_count": 297,
     "metadata": {},
     "output_type": "execute_result"
    }
   ],
   "source": [
    "model_name = 'Adaptive Boosting Classifier'\n",
    "adb_clf = adaboost_clf_training(x_train_normal,y_train)\n",
    "adb_clf"
   ]
  },
  {
   "cell_type": "markdown",
   "id": "f918c1e1",
   "metadata": {},
   "source": [
    "# Model Evaluation"
   ]
  },
  {
   "cell_type": "code",
   "execution_count": 305,
   "id": "879c93ff",
   "metadata": {},
   "outputs": [
    {
     "name": "stdout",
     "output_type": "stream",
     "text": [
      "************************************************** Testing Data **************************************************\n",
      "The confusion Matrix is :\n",
      " [[35  0]\n",
      " [ 0  6]]\n",
      "==================================================\n",
      "The Accuracy is :  1.0\n",
      "==================================================\n",
      "The Classification report is :\n",
      "               precision    recall  f1-score   support\n",
      "\n",
      "    Approved       1.00      1.00      1.00        35\n",
      "    Rejected       1.00      1.00      1.00         6\n",
      "\n",
      "    accuracy                           1.00        41\n",
      "   macro avg       1.00      1.00      1.00        41\n",
      "weighted avg       1.00      1.00      1.00        41\n",
      "\n",
      "************************************************** Training Data **************************************************\n",
      "The confusion matrix is :\n",
      " [[103   0]\n",
      " [  0  20]]\n",
      "==================================================\n",
      "The accuracy is :  1.0\n",
      "==================================================\n",
      "The classification Report is :\n",
      "               precision    recall  f1-score   support\n",
      "\n",
      "    Approved       1.00      1.00      1.00       103\n",
      "    Rejected       1.00      1.00      1.00        20\n",
      "\n",
      "    accuracy                           1.00       123\n",
      "   macro avg       1.00      1.00      1.00       123\n",
      "weighted avg       1.00      1.00      1.00       123\n",
      "\n"
     ]
    }
   ],
   "source": [
    "# evaluation for testing data\n",
    "\n",
    "model_evaluation_testing(adb_clf,x_test_normal,y_test)\n",
    "\n",
    "# evaluation for training data\n",
    "\n",
    "model_evaluation_training(adb_clf,x_train_normal,y_train)"
   ]
  },
  {
   "cell_type": "code",
   "execution_count": 310,
   "id": "16ca8ddf",
   "metadata": {},
   "outputs": [
    {
     "name": "stdout",
     "output_type": "stream",
     "text": [
      "The AUC is :  0.0\n"
     ]
    }
   ],
   "source": [
    "get_auc_roc_curve(adb_clf,x_train_normal,y_train)"
   ]
  },
  {
   "cell_type": "markdown",
   "id": "9270cad8",
   "metadata": {},
   "source": [
    "# Hyper-parameter Tunning"
   ]
  },
  {
   "cell_type": "code",
   "execution_count": 315,
   "id": "8c1c0d28",
   "metadata": {},
   "outputs": [
    {
     "data": {
      "text/html": [
       "<style>#sk-container-id-2 {color: black;background-color: white;}#sk-container-id-2 pre{padding: 0;}#sk-container-id-2 div.sk-toggleable {background-color: white;}#sk-container-id-2 label.sk-toggleable__label {cursor: pointer;display: block;width: 100%;margin-bottom: 0;padding: 0.3em;box-sizing: border-box;text-align: center;}#sk-container-id-2 label.sk-toggleable__label-arrow:before {content: \"▸\";float: left;margin-right: 0.25em;color: #696969;}#sk-container-id-2 label.sk-toggleable__label-arrow:hover:before {color: black;}#sk-container-id-2 div.sk-estimator:hover label.sk-toggleable__label-arrow:before {color: black;}#sk-container-id-2 div.sk-toggleable__content {max-height: 0;max-width: 0;overflow: hidden;text-align: left;background-color: #f0f8ff;}#sk-container-id-2 div.sk-toggleable__content pre {margin: 0.2em;color: black;border-radius: 0.25em;background-color: #f0f8ff;}#sk-container-id-2 input.sk-toggleable__control:checked~div.sk-toggleable__content {max-height: 200px;max-width: 100%;overflow: auto;}#sk-container-id-2 input.sk-toggleable__control:checked~label.sk-toggleable__label-arrow:before {content: \"▾\";}#sk-container-id-2 div.sk-estimator input.sk-toggleable__control:checked~label.sk-toggleable__label {background-color: #d4ebff;}#sk-container-id-2 div.sk-label input.sk-toggleable__control:checked~label.sk-toggleable__label {background-color: #d4ebff;}#sk-container-id-2 input.sk-hidden--visually {border: 0;clip: rect(1px 1px 1px 1px);clip: rect(1px, 1px, 1px, 1px);height: 1px;margin: -1px;overflow: hidden;padding: 0;position: absolute;width: 1px;}#sk-container-id-2 div.sk-estimator {font-family: monospace;background-color: #f0f8ff;border: 1px dotted black;border-radius: 0.25em;box-sizing: border-box;margin-bottom: 0.5em;}#sk-container-id-2 div.sk-estimator:hover {background-color: #d4ebff;}#sk-container-id-2 div.sk-parallel-item::after {content: \"\";width: 100%;border-bottom: 1px solid gray;flex-grow: 1;}#sk-container-id-2 div.sk-label:hover label.sk-toggleable__label {background-color: #d4ebff;}#sk-container-id-2 div.sk-serial::before {content: \"\";position: absolute;border-left: 1px solid gray;box-sizing: border-box;top: 0;bottom: 0;left: 50%;z-index: 0;}#sk-container-id-2 div.sk-serial {display: flex;flex-direction: column;align-items: center;background-color: white;padding-right: 0.2em;padding-left: 0.2em;position: relative;}#sk-container-id-2 div.sk-item {position: relative;z-index: 1;}#sk-container-id-2 div.sk-parallel {display: flex;align-items: stretch;justify-content: center;background-color: white;position: relative;}#sk-container-id-2 div.sk-item::before, #sk-container-id-2 div.sk-parallel-item::before {content: \"\";position: absolute;border-left: 1px solid gray;box-sizing: border-box;top: 0;bottom: 0;left: 50%;z-index: -1;}#sk-container-id-2 div.sk-parallel-item {display: flex;flex-direction: column;z-index: 1;position: relative;background-color: white;}#sk-container-id-2 div.sk-parallel-item:first-child::after {align-self: flex-end;width: 50%;}#sk-container-id-2 div.sk-parallel-item:last-child::after {align-self: flex-start;width: 50%;}#sk-container-id-2 div.sk-parallel-item:only-child::after {width: 0;}#sk-container-id-2 div.sk-dashed-wrapped {border: 1px dashed gray;margin: 0 0.4em 0.5em 0.4em;box-sizing: border-box;padding-bottom: 0.4em;background-color: white;}#sk-container-id-2 div.sk-label label {font-family: monospace;font-weight: bold;display: inline-block;line-height: 1.2em;}#sk-container-id-2 div.sk-label-container {text-align: center;}#sk-container-id-2 div.sk-container {/* jupyter's `normalize.less` sets `[hidden] { display: none; }` but bootstrap.min.css set `[hidden] { display: none !important; }` so we also need the `!important` here to be able to override the default hidden behavior on the sphinx rendered scikit-learn.org. See: https://github.com/scikit-learn/scikit-learn/issues/21755 */display: inline-block !important;position: relative;}#sk-container-id-2 div.sk-text-repr-fallback {display: none;}</style><div id=\"sk-container-id-2\" class=\"sk-top-container\"><div class=\"sk-text-repr-fallback\"><pre>AdaBoostClassifier(learning_rate=1)</pre><b>In a Jupyter environment, please rerun this cell to show the HTML representation or trust the notebook. <br />On GitHub, the HTML representation is unable to render, please try loading this page with nbviewer.org.</b></div><div class=\"sk-container\" hidden><div class=\"sk-item\"><div class=\"sk-estimator sk-toggleable\"><input class=\"sk-toggleable__control sk-hidden--visually\" id=\"sk-estimator-id-2\" type=\"checkbox\" checked><label for=\"sk-estimator-id-2\" class=\"sk-toggleable__label sk-toggleable__label-arrow\">AdaBoostClassifier</label><div class=\"sk-toggleable__content\"><pre>AdaBoostClassifier(learning_rate=1)</pre></div></div></div></div></div>"
      ],
      "text/plain": [
       "AdaBoostClassifier(learning_rate=1)"
      ]
     },
     "execution_count": 315,
     "metadata": {},
     "output_type": "execute_result"
    }
   ],
   "source": [
    "gscv_adb_clf = adb_gscv_best_estimator(x_train_normal,y_train)\n",
    "gscv_adb_clf"
   ]
  },
  {
   "cell_type": "code",
   "execution_count": 316,
   "id": "e6e611d6",
   "metadata": {},
   "outputs": [
    {
     "name": "stdout",
     "output_type": "stream",
     "text": [
      "************************************************** Testing Data **************************************************\n",
      "The confusion Matrix is :\n",
      " [[ 6  0]\n",
      " [ 0 35]]\n",
      "==================================================\n",
      "The Accuracy is :  1.0\n",
      "==================================================\n",
      "The Classification report is :\n",
      "               precision    recall  f1-score   support\n",
      "\n",
      "           0       1.00      1.00      1.00         6\n",
      "           1       1.00      1.00      1.00        35\n",
      "\n",
      "    accuracy                           1.00        41\n",
      "   macro avg       1.00      1.00      1.00        41\n",
      "weighted avg       1.00      1.00      1.00        41\n",
      "\n",
      "************************************************** Training Data **************************************************\n",
      "The confusion matrix is :\n",
      " [[ 20   0]\n",
      " [  0 103]]\n",
      "==================================================\n",
      "The accuracy is :  1.0\n",
      "==================================================\n",
      "The classification Report is :\n",
      "               precision    recall  f1-score   support\n",
      "\n",
      "           0       1.00      1.00      1.00        20\n",
      "           1       1.00      1.00      1.00       103\n",
      "\n",
      "    accuracy                           1.00       123\n",
      "   macro avg       1.00      1.00      1.00       123\n",
      "weighted avg       1.00      1.00      1.00       123\n",
      "\n"
     ]
    }
   ],
   "source": [
    "# evaluation for testing data\n",
    "\n",
    "model_evaluation_testing(gscv_adb_clf,x_test_normal,y_test)\n",
    "\n",
    "# evaluation for training data\n",
    "\n",
    "model_evaluation_training(gscv_adb_clf,x_train_normal,y_train)"
   ]
  },
  {
   "cell_type": "code",
   "execution_count": 317,
   "id": "11f8550d",
   "metadata": {},
   "outputs": [
    {
     "data": {
      "text/html": [
       "<style>#sk-container-id-3 {color: black;background-color: white;}#sk-container-id-3 pre{padding: 0;}#sk-container-id-3 div.sk-toggleable {background-color: white;}#sk-container-id-3 label.sk-toggleable__label {cursor: pointer;display: block;width: 100%;margin-bottom: 0;padding: 0.3em;box-sizing: border-box;text-align: center;}#sk-container-id-3 label.sk-toggleable__label-arrow:before {content: \"▸\";float: left;margin-right: 0.25em;color: #696969;}#sk-container-id-3 label.sk-toggleable__label-arrow:hover:before {color: black;}#sk-container-id-3 div.sk-estimator:hover label.sk-toggleable__label-arrow:before {color: black;}#sk-container-id-3 div.sk-toggleable__content {max-height: 0;max-width: 0;overflow: hidden;text-align: left;background-color: #f0f8ff;}#sk-container-id-3 div.sk-toggleable__content pre {margin: 0.2em;color: black;border-radius: 0.25em;background-color: #f0f8ff;}#sk-container-id-3 input.sk-toggleable__control:checked~div.sk-toggleable__content {max-height: 200px;max-width: 100%;overflow: auto;}#sk-container-id-3 input.sk-toggleable__control:checked~label.sk-toggleable__label-arrow:before {content: \"▾\";}#sk-container-id-3 div.sk-estimator input.sk-toggleable__control:checked~label.sk-toggleable__label {background-color: #d4ebff;}#sk-container-id-3 div.sk-label input.sk-toggleable__control:checked~label.sk-toggleable__label {background-color: #d4ebff;}#sk-container-id-3 input.sk-hidden--visually {border: 0;clip: rect(1px 1px 1px 1px);clip: rect(1px, 1px, 1px, 1px);height: 1px;margin: -1px;overflow: hidden;padding: 0;position: absolute;width: 1px;}#sk-container-id-3 div.sk-estimator {font-family: monospace;background-color: #f0f8ff;border: 1px dotted black;border-radius: 0.25em;box-sizing: border-box;margin-bottom: 0.5em;}#sk-container-id-3 div.sk-estimator:hover {background-color: #d4ebff;}#sk-container-id-3 div.sk-parallel-item::after {content: \"\";width: 100%;border-bottom: 1px solid gray;flex-grow: 1;}#sk-container-id-3 div.sk-label:hover label.sk-toggleable__label {background-color: #d4ebff;}#sk-container-id-3 div.sk-serial::before {content: \"\";position: absolute;border-left: 1px solid gray;box-sizing: border-box;top: 0;bottom: 0;left: 50%;z-index: 0;}#sk-container-id-3 div.sk-serial {display: flex;flex-direction: column;align-items: center;background-color: white;padding-right: 0.2em;padding-left: 0.2em;position: relative;}#sk-container-id-3 div.sk-item {position: relative;z-index: 1;}#sk-container-id-3 div.sk-parallel {display: flex;align-items: stretch;justify-content: center;background-color: white;position: relative;}#sk-container-id-3 div.sk-item::before, #sk-container-id-3 div.sk-parallel-item::before {content: \"\";position: absolute;border-left: 1px solid gray;box-sizing: border-box;top: 0;bottom: 0;left: 50%;z-index: -1;}#sk-container-id-3 div.sk-parallel-item {display: flex;flex-direction: column;z-index: 1;position: relative;background-color: white;}#sk-container-id-3 div.sk-parallel-item:first-child::after {align-self: flex-end;width: 50%;}#sk-container-id-3 div.sk-parallel-item:last-child::after {align-self: flex-start;width: 50%;}#sk-container-id-3 div.sk-parallel-item:only-child::after {width: 0;}#sk-container-id-3 div.sk-dashed-wrapped {border: 1px dashed gray;margin: 0 0.4em 0.5em 0.4em;box-sizing: border-box;padding-bottom: 0.4em;background-color: white;}#sk-container-id-3 div.sk-label label {font-family: monospace;font-weight: bold;display: inline-block;line-height: 1.2em;}#sk-container-id-3 div.sk-label-container {text-align: center;}#sk-container-id-3 div.sk-container {/* jupyter's `normalize.less` sets `[hidden] { display: none; }` but bootstrap.min.css set `[hidden] { display: none !important; }` so we also need the `!important` here to be able to override the default hidden behavior on the sphinx rendered scikit-learn.org. See: https://github.com/scikit-learn/scikit-learn/issues/21755 */display: inline-block !important;position: relative;}#sk-container-id-3 div.sk-text-repr-fallback {display: none;}</style><div id=\"sk-container-id-3\" class=\"sk-top-container\"><div class=\"sk-text-repr-fallback\"><pre>AdaBoostClassifier(learning_rate=1, n_estimators=64)</pre><b>In a Jupyter environment, please rerun this cell to show the HTML representation or trust the notebook. <br />On GitHub, the HTML representation is unable to render, please try loading this page with nbviewer.org.</b></div><div class=\"sk-container\" hidden><div class=\"sk-item\"><div class=\"sk-estimator sk-toggleable\"><input class=\"sk-toggleable__control sk-hidden--visually\" id=\"sk-estimator-id-3\" type=\"checkbox\" checked><label for=\"sk-estimator-id-3\" class=\"sk-toggleable__label sk-toggleable__label-arrow\">AdaBoostClassifier</label><div class=\"sk-toggleable__content\"><pre>AdaBoostClassifier(learning_rate=1, n_estimators=64)</pre></div></div></div></div></div>"
      ],
      "text/plain": [
       "AdaBoostClassifier(learning_rate=1, n_estimators=64)"
      ]
     },
     "execution_count": 317,
     "metadata": {},
     "output_type": "execute_result"
    }
   ],
   "source": [
    "rscv_adb_clf = adb_rscv_best_estimator(x_train_normal,y_train)\n",
    "rscv_adb_clf"
   ]
  },
  {
   "cell_type": "code",
   "execution_count": 318,
   "id": "96d0efe8",
   "metadata": {},
   "outputs": [
    {
     "name": "stdout",
     "output_type": "stream",
     "text": [
      "************************************************** Testing Data **************************************************\n",
      "The confusion Matrix is :\n",
      " [[ 6  0]\n",
      " [ 0 35]]\n",
      "==================================================\n",
      "The Accuracy is :  1.0\n",
      "==================================================\n",
      "The Classification report is :\n",
      "               precision    recall  f1-score   support\n",
      "\n",
      "           0       1.00      1.00      1.00         6\n",
      "           1       1.00      1.00      1.00        35\n",
      "\n",
      "    accuracy                           1.00        41\n",
      "   macro avg       1.00      1.00      1.00        41\n",
      "weighted avg       1.00      1.00      1.00        41\n",
      "\n",
      "************************************************** Training Data **************************************************\n",
      "The confusion matrix is :\n",
      " [[ 20   0]\n",
      " [  0 103]]\n",
      "==================================================\n",
      "The accuracy is :  1.0\n",
      "==================================================\n",
      "The classification Report is :\n",
      "               precision    recall  f1-score   support\n",
      "\n",
      "           0       1.00      1.00      1.00        20\n",
      "           1       1.00      1.00      1.00       103\n",
      "\n",
      "    accuracy                           1.00       123\n",
      "   macro avg       1.00      1.00      1.00       123\n",
      "weighted avg       1.00      1.00      1.00       123\n",
      "\n"
     ]
    }
   ],
   "source": [
    "# evaluation for testing data\n",
    "\n",
    "model_evaluation_testing(rscv_adb_clf,x_test_normal,y_test)\n",
    "\n",
    "# evaluation for training data\n",
    "\n",
    "model_evaluation_training(rscv_adb_clf,x_train_normal,y_train)"
   ]
  }
 ],
 "metadata": {
  "kernelspec": {
   "display_name": "Python 3 (ipykernel)",
   "language": "python",
   "name": "python3"
  },
  "language_info": {
   "codemirror_mode": {
    "name": "ipython",
    "version": 3
   },
   "file_extension": ".py",
   "mimetype": "text/x-python",
   "name": "python",
   "nbconvert_exporter": "python",
   "pygments_lexer": "ipython3",
   "version": "3.11.1"
  }
 },
 "nbformat": 4,
 "nbformat_minor": 5
}
