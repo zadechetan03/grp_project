{
 "cells": [
  {
   "cell_type": "code",
   "execution_count": 1,
   "id": "bdb85476",
   "metadata": {},
   "outputs": [],
   "source": [
    "import pandas as pd\n",
    "import numpy as np\n",
    "\n",
    "import seaborn as sns\n",
    "import matplotlib.pyplot as plt\n",
    "\n",
    "from imblearn.over_sampling import SMOTE,SMOTEN\n",
    "\n",
    "from sklearn.linear_model import LogisticRegression\n",
    "from sklearn.model_selection import train_test_split, GridSearchCV, RandomizedSearchCV\n",
    "from sklearn.metrics import accuracy_score, classification_report, confusion_matrix, auc, roc_curve, ConfusionMatrixDisplay\n",
    "from sklearn.preprocessing import MinMaxScaler, StandardScaler\n",
    "\n",
    "from sklearn.neighbors import KNeighborsClassifier\n",
    "from sklearn.tree import DecisionTreeClassifier\n",
    "from sklearn.ensemble import RandomForestClassifier, AdaBoostClassifier\n",
    "\n",
    "import warnings\n",
    "warnings.filterwarnings(\"ignore\")"
   ]
  },
  {
   "cell_type": "code",
   "execution_count": 527,
   "id": "30dd80cb",
   "metadata": {},
   "outputs": [],
   "source": [
    "model_details = []\n",
    "testing_accuracy_list = []\n",
    "training_accuracy_list = []"
   ]
  },
  {
   "cell_type": "code",
   "execution_count": 634,
   "id": "0ced7fbe",
   "metadata": {},
   "outputs": [],
   "source": [
    "# Function Definition\n",
    "\n",
    "def outlier_imputation(df):\n",
    "    q1 = df.quantile(0.25)\n",
    "    q3 = df.quantile(0.75)\n",
    "    \n",
    "    iqr = q3-q1\n",
    "    uppertail = q3 + 1.5*iqr\n",
    "    lowertail = q1 - 1.5*iqr\n",
    "    \n",
    "    median = df.loc[(df <= uppertail) & (df >= lowertail)].median()\n",
    "    df.loc[(df < lowertail) | (df > uppertail)] = median\n",
    "    \n",
    "    return sns.boxplot(y=df)\n",
    "\n",
    "def normalization(x_df):\n",
    "    normal_scaler = MinMaxScaler()\n",
    "    array = normal_scaler.fit_transform(x_df)\n",
    "\n",
    "    x_normal_df = pd.DataFrame(array,columns=x_df.columns)\n",
    "    return x_normal_df\n",
    "\n",
    "def adaboost_clf_training(x_train,y_train):\n",
    "    adaboost_clf = AdaBoostClassifier(estimator=LogisticRegression(),random_state=39)\n",
    "    adaboost_clf.fit(x_train,y_train)\n",
    "    model_details.append(model_name)\n",
    "    return adaboost_clf\n",
    "\n",
    "def dt_clf_training(x_train,y_train):\n",
    "    dt_clf = DecisionTreeClassifier(random_state=18)\n",
    "    dt_clf.fit(x_train,y_train)\n",
    "    model_details.append(model_name)\n",
    "    return dt_clf\n",
    "\n",
    "def model_evaluation_testing(model,x_test,y_test):\n",
    "    y_pred_test = model.predict(x_test)\n",
    "    print(\"*\"*50,\"Testing Data\",\"*\"*50)\n",
    "    \n",
    "    cnf_matrix = confusion_matrix(y_test,y_pred_test)\n",
    "    print(\"The confusion Matrix is :\\n\",cnf_matrix)\n",
    "    cmd = ConfusionMatrixDisplay(cnf_matrix)\n",
    "    cmd.plot()\n",
    "    plt.show()\n",
    "    print(\"=\"*50)\n",
    "    \n",
    "    accuracy = accuracy_score(y_test,y_pred_test)\n",
    "    print(\"The Accuracy is : \",accuracy)\n",
    "    print(\"=\"*50)\n",
    "    \n",
    "    clf_report = classification_report(y_test,y_pred_test)\n",
    "    print(\"The Classification report is :\\n\",clf_report)\n",
    "    \n",
    "    testing_accuracy_list.append(accuracy)\n",
    "    \n",
    "    \n",
    "def model_evaluation_training(model,x_train,y_train):\n",
    "    y_pred_train = model.predict(x_train)\n",
    "    print(\"*\"*50,\"Training Data\",\"*\"*50)\n",
    "    \n",
    "    cnf_matrix = confusion_matrix(y_train,y_pred_train)\n",
    "    print(\"The confusion matrix is :\\n\",cnf_matrix)\n",
    "    cmd = ConfusionMatrixDisplay(cnf_matrix)\n",
    "    cmd.plot()\n",
    "    plt.show()\n",
    "    print(\"=\"*50)\n",
    "    \n",
    "    accuracy = accuracy_score(y_train,y_pred_train)\n",
    "    print(\"The accuracy is : \",accuracy)\n",
    "    print(\"=\"*50)\n",
    "    \n",
    "    clf_report = classification_report(y_train,y_pred_train)\n",
    "    print(\"The classification Report is :\\n\",clf_report)\n",
    "    \n",
    "    training_accuracy_list.append(accuracy)\n",
    "    \n",
    "def get_auc_roc_curve(model,x_train,y_train):\n",
    "    y_pred_prob = model.predict_proba(x_train)\n",
    "    pred_prob = y_pred_prob[:,1]\n",
    "    \n",
    "    fpr, tpr, thresh = roc_curve(y_train,pred_prob)\n",
    "    \n",
    "    plt.plot(fpr,tpr)\n",
    "    plt.xlabel(\"False Positive Rate (FPR)\")\n",
    "    plt.ylabel(\"True Positive Rate (TPR)\")\n",
    "    plt.title(\"Receiver Operating Characteristic Curve\")\n",
    "    plt.show()\n",
    "    \n",
    "    auc_value =auc(fpr,tpr)\n",
    "    print(\"The AUC is : \",auc_value)\n",
    "    \n",
    "def dt_gscv_best_estimator(x_tarin,y_train):\n",
    "    dt_clf = DecisionTreeClassifier()\n",
    "    par_grid = {\"criterion\":['gini', 'entropy'], \n",
    "                 \"max_depth\": np.arange(3,8),\n",
    "                 \"min_samples_split\": np.arange(8,13),\n",
    "                 \"min_samples_leaf\": np.arange(5,10)}\n",
    "    \n",
    "    gscv_dt_clf = GridSearchCV(dt_clf,par_grid,cv=5,n_jobs=-1)\n",
    "    gscv_dt_clf.fit(x_tarin,y_train)\n",
    "    \n",
    "    model_details.append(\"Hyperparameter Tunned GSCV model\")\n",
    "#     best_parameters.append(gscv_adb_clf.best_params_)\n",
    "    \n",
    "    return gscv_dt_clf.best_estimator_\n",
    "\n",
    "def dt_rscv_best_estimator(x_train,y_train):\n",
    "    dt_clf = DecisionTreeClassifier()\n",
    "    par_grid = {\"criterion\":['gini', 'entropy'], \n",
    "                 \"max_depth\": np.arange(3,8),\n",
    "                 \"min_samples_split\": np.arange(2,20),\n",
    "                 \"min_samples_leaf\": np.arange(2,15)}\n",
    "    \n",
    "    rscv_dt_clf = RandomizedSearchCV(dt_clf,par_grid,cv=5,n_jobs=-1)\n",
    "    rscv_dt_clf.fit(x_train,y_train)\n",
    "    \n",
    "    model_details.append(\"Hyperparameter Tunned RSCV model\")\n",
    "#     best_parameters.append(rscv_adb_clf.best_params_)\n",
    "    \n",
    "    return rscv_dt_clf.best_estimator_\n",
    "    \n",
    "def adb_gscv_best_estimator(x_tarin,y_train):\n",
    "    adb_clf = AdaBoostClassifier()\n",
    "    par_grid = {\"n_estimators\":np.arange(50,51),\n",
    "               \"learning_rate\":np.arange(0,1,0.001)}\n",
    "    \n",
    "    gscv_adb_clf = GridSearchCV(adb_clf,par_grid,cv=5,n_jobs=-1)\n",
    "    gscv_adb_clf.fit(x_tarin,y_train)\n",
    "    \n",
    "    model_details.append(\"Hyperparameter Tunned GSCV model\")\n",
    "#     best_parameters.append(gscv_adb_clf.best_params_)\n",
    "    \n",
    "    return gscv_adb_clf.best_estimator_\n",
    "\n",
    "def adb_rscv_best_estimator(x_train,y_train):\n",
    "    adb_clf = AdaBoostClassifier()\n",
    "    par_grid = {\"n_estimators\":np.arange(50,100),\n",
    "               \"learning_rate\":np.arange(0,1,0.001)}\n",
    "    \n",
    "    rscv_adb_clf = RandomizedSearchCV(adb_clf,par_grid,cv=5,n_jobs=-1)\n",
    "    rscv_adb_clf.fit(x_train,y_train)\n",
    "    \n",
    "    model_details.append(\"Hyperparameter Tunned RSCV model\")\n",
    "#     best_parameters.append(rscv_adb_clf.best_params_)\n",
    "    \n",
    "    return rscv_adb_clf.best_estimator_"
   ]
  },
  {
   "cell_type": "markdown",
   "id": "068d1ec0",
   "metadata": {},
   "source": [
    "# Problem Statement"
   ]
  },
  {
   "cell_type": "code",
   "execution_count": 529,
   "id": "1315d8a3",
   "metadata": {},
   "outputs": [],
   "source": [
    "\n",
    "# \"Predicting the Approval of Credit Card for customers using Classification Model:\n",
    "\n",
    "# Using a dataset of Credit Card of customers from csv file the goal of this project is to build a Classification Model by using supervised machine learning.that can accurately predict the medical_insurance based on various \n",
    "# factors such as age,sex,bmi,childrens,region.The model will be evaluated based on its ability to predict sales \n",
    "# revenue on a held-out test dataset, using metrics such as mean squared error and R-squared value.\""
   ]
  },
  {
   "cell_type": "markdown",
   "id": "ed8aaf26",
   "metadata": {},
   "source": [
    "# Data Gathering"
   ]
  },
  {
   "cell_type": "code",
   "execution_count": 3,
   "id": "82863d0a",
   "metadata": {},
   "outputs": [
    {
     "data": {
      "text/html": [
       "<div>\n",
       "<style scoped>\n",
       "    .dataframe tbody tr th:only-of-type {\n",
       "        vertical-align: middle;\n",
       "    }\n",
       "\n",
       "    .dataframe tbody tr th {\n",
       "        vertical-align: top;\n",
       "    }\n",
       "\n",
       "    .dataframe thead th {\n",
       "        text-align: right;\n",
       "    }\n",
       "</style>\n",
       "<table border=\"1\" class=\"dataframe\">\n",
       "  <thead>\n",
       "    <tr style=\"text-align: right;\">\n",
       "      <th></th>\n",
       "      <th>Age</th>\n",
       "      <th>Gender</th>\n",
       "      <th>Income</th>\n",
       "      <th>Education</th>\n",
       "      <th>Marital Status</th>\n",
       "      <th>Number of Children</th>\n",
       "      <th>Home Ownership</th>\n",
       "      <th>Credit Score</th>\n",
       "      <th>Loan amount</th>\n",
       "      <th>EMI</th>\n",
       "      <th>Inhand Sallary</th>\n",
       "      <th>Eligibility</th>\n",
       "      <th>Credit card limit (T)</th>\n",
       "      <th>Range</th>\n",
       "    </tr>\n",
       "  </thead>\n",
       "  <tbody>\n",
       "    <tr>\n",
       "      <th>0</th>\n",
       "      <td>25</td>\n",
       "      <td>Female</td>\n",
       "      <td>50000</td>\n",
       "      <td>Bachelor's Degree</td>\n",
       "      <td>Single</td>\n",
       "      <td>0</td>\n",
       "      <td>Rented</td>\n",
       "      <td>High</td>\n",
       "      <td>6000000.0</td>\n",
       "      <td>16666.67</td>\n",
       "      <td>33333</td>\n",
       "      <td>Approved</td>\n",
       "      <td>125000</td>\n",
       "      <td>1 - 1.5</td>\n",
       "    </tr>\n",
       "    <tr>\n",
       "      <th>1</th>\n",
       "      <td>30</td>\n",
       "      <td>Male</td>\n",
       "      <td>100000</td>\n",
       "      <td>Master's Degree</td>\n",
       "      <td>Married</td>\n",
       "      <td>2</td>\n",
       "      <td>Owned</td>\n",
       "      <td>High</td>\n",
       "      <td>10000000.0</td>\n",
       "      <td>33333.33</td>\n",
       "      <td>66667</td>\n",
       "      <td>Approved</td>\n",
       "      <td>250000</td>\n",
       "      <td>1.5 - 3</td>\n",
       "    </tr>\n",
       "    <tr>\n",
       "      <th>2</th>\n",
       "      <td>35</td>\n",
       "      <td>Female</td>\n",
       "      <td>75000</td>\n",
       "      <td>Doctorate</td>\n",
       "      <td>Married</td>\n",
       "      <td>1</td>\n",
       "      <td>Owned</td>\n",
       "      <td>High</td>\n",
       "      <td>6000000.0</td>\n",
       "      <td>25000.00</td>\n",
       "      <td>50000</td>\n",
       "      <td>Approved</td>\n",
       "      <td>187500</td>\n",
       "      <td>1.5 - 3</td>\n",
       "    </tr>\n",
       "    <tr>\n",
       "      <th>3</th>\n",
       "      <td>40</td>\n",
       "      <td>Male</td>\n",
       "      <td>125000</td>\n",
       "      <td>High School Diploma</td>\n",
       "      <td>Single</td>\n",
       "      <td>0</td>\n",
       "      <td>Owned</td>\n",
       "      <td>High</td>\n",
       "      <td>7500000.0</td>\n",
       "      <td>41666.67</td>\n",
       "      <td>83333</td>\n",
       "      <td>Approved</td>\n",
       "      <td>312500</td>\n",
       "      <td>3 - 4.5</td>\n",
       "    </tr>\n",
       "    <tr>\n",
       "      <th>4</th>\n",
       "      <td>45</td>\n",
       "      <td>Female</td>\n",
       "      <td>100000</td>\n",
       "      <td>Bachelor's Degree</td>\n",
       "      <td>Married</td>\n",
       "      <td>3</td>\n",
       "      <td>Owned</td>\n",
       "      <td>High</td>\n",
       "      <td>4000000.0</td>\n",
       "      <td>33333.33</td>\n",
       "      <td>66667</td>\n",
       "      <td>Approved</td>\n",
       "      <td>250000</td>\n",
       "      <td>1.5 - 3</td>\n",
       "    </tr>\n",
       "    <tr>\n",
       "      <th>...</th>\n",
       "      <td>...</td>\n",
       "      <td>...</td>\n",
       "      <td>...</td>\n",
       "      <td>...</td>\n",
       "      <td>...</td>\n",
       "      <td>...</td>\n",
       "      <td>...</td>\n",
       "      <td>...</td>\n",
       "      <td>...</td>\n",
       "      <td>...</td>\n",
       "      <td>...</td>\n",
       "      <td>...</td>\n",
       "      <td>...</td>\n",
       "      <td>...</td>\n",
       "    </tr>\n",
       "    <tr>\n",
       "      <th>159</th>\n",
       "      <td>29</td>\n",
       "      <td>Female</td>\n",
       "      <td>27500</td>\n",
       "      <td>High School Diploma</td>\n",
       "      <td>Single</td>\n",
       "      <td>0</td>\n",
       "      <td>Rented</td>\n",
       "      <td>Low</td>\n",
       "      <td>NaN</td>\n",
       "      <td>NaN</td>\n",
       "      <td>27500</td>\n",
       "      <td>Rejected</td>\n",
       "      <td>0</td>\n",
       "      <td>0</td>\n",
       "    </tr>\n",
       "    <tr>\n",
       "      <th>160</th>\n",
       "      <td>34</td>\n",
       "      <td>Male</td>\n",
       "      <td>47500</td>\n",
       "      <td>Associate's Degree</td>\n",
       "      <td>Single</td>\n",
       "      <td>0</td>\n",
       "      <td>Rented</td>\n",
       "      <td>Average</td>\n",
       "      <td>3990000.0</td>\n",
       "      <td>15833.33</td>\n",
       "      <td>31667</td>\n",
       "      <td>Rejected</td>\n",
       "      <td>0</td>\n",
       "      <td>0</td>\n",
       "    </tr>\n",
       "    <tr>\n",
       "      <th>161</th>\n",
       "      <td>39</td>\n",
       "      <td>Female</td>\n",
       "      <td>62500</td>\n",
       "      <td>Bachelor's Degree</td>\n",
       "      <td>Married</td>\n",
       "      <td>2</td>\n",
       "      <td>Owned</td>\n",
       "      <td>High</td>\n",
       "      <td>4000000.0</td>\n",
       "      <td>20833.33</td>\n",
       "      <td>41667</td>\n",
       "      <td>Approved</td>\n",
       "      <td>156250</td>\n",
       "      <td>1.5 - 3</td>\n",
       "    </tr>\n",
       "    <tr>\n",
       "      <th>162</th>\n",
       "      <td>44</td>\n",
       "      <td>Male</td>\n",
       "      <td>87500</td>\n",
       "      <td>Master's Degree</td>\n",
       "      <td>Single</td>\n",
       "      <td>0</td>\n",
       "      <td>Owned</td>\n",
       "      <td>High</td>\n",
       "      <td>3850000.0</td>\n",
       "      <td>29166.67</td>\n",
       "      <td>58333</td>\n",
       "      <td>Approved</td>\n",
       "      <td>218750</td>\n",
       "      <td>1.5 - 3</td>\n",
       "    </tr>\n",
       "    <tr>\n",
       "      <th>163</th>\n",
       "      <td>49</td>\n",
       "      <td>Female</td>\n",
       "      <td>77500</td>\n",
       "      <td>Doctorate</td>\n",
       "      <td>Married</td>\n",
       "      <td>1</td>\n",
       "      <td>Owned</td>\n",
       "      <td>High</td>\n",
       "      <td>1860000.0</td>\n",
       "      <td>25833.33</td>\n",
       "      <td>51667</td>\n",
       "      <td>Approved</td>\n",
       "      <td>193750</td>\n",
       "      <td>1.5 - 3</td>\n",
       "    </tr>\n",
       "  </tbody>\n",
       "</table>\n",
       "<p>164 rows × 14 columns</p>\n",
       "</div>"
      ],
      "text/plain": [
       "     Age  Gender  Income            Education Marital Status  \\\n",
       "0     25  Female   50000    Bachelor's Degree         Single   \n",
       "1     30    Male  100000      Master's Degree        Married   \n",
       "2     35  Female   75000            Doctorate        Married   \n",
       "3     40    Male  125000  High School Diploma         Single   \n",
       "4     45  Female  100000    Bachelor's Degree        Married   \n",
       "..   ...     ...     ...                  ...            ...   \n",
       "159   29  Female   27500  High School Diploma         Single   \n",
       "160   34    Male   47500   Associate's Degree         Single   \n",
       "161   39  Female   62500    Bachelor's Degree        Married   \n",
       "162   44    Male   87500      Master's Degree         Single   \n",
       "163   49  Female   77500            Doctorate        Married   \n",
       "\n",
       "     Number of Children Home Ownership Credit Score  Loan amount       EMI  \\\n",
       "0                     0         Rented         High    6000000.0  16666.67   \n",
       "1                     2          Owned         High   10000000.0  33333.33   \n",
       "2                     1          Owned         High    6000000.0  25000.00   \n",
       "3                     0          Owned         High    7500000.0  41666.67   \n",
       "4                     3          Owned         High    4000000.0  33333.33   \n",
       "..                  ...            ...          ...          ...       ...   \n",
       "159                   0         Rented          Low          NaN       NaN   \n",
       "160                   0         Rented      Average    3990000.0  15833.33   \n",
       "161                   2          Owned         High    4000000.0  20833.33   \n",
       "162                   0          Owned         High    3850000.0  29166.67   \n",
       "163                   1          Owned         High    1860000.0  25833.33   \n",
       "\n",
       "     Inhand Sallary Eligibility  Credit card limit (T)    Range  \n",
       "0             33333    Approved                 125000  1 - 1.5  \n",
       "1             66667    Approved                 250000  1.5 - 3  \n",
       "2             50000    Approved                 187500  1.5 - 3  \n",
       "3             83333    Approved                 312500  3 - 4.5  \n",
       "4             66667    Approved                 250000  1.5 - 3  \n",
       "..              ...         ...                    ...      ...  \n",
       "159           27500    Rejected                      0        0  \n",
       "160           31667    Rejected                      0        0  \n",
       "161           41667    Approved                 156250  1.5 - 3  \n",
       "162           58333    Approved                 218750  1.5 - 3  \n",
       "163           51667    Approved                 193750  1.5 - 3  \n",
       "\n",
       "[164 rows x 14 columns]"
      ]
     },
     "execution_count": 3,
     "metadata": {},
     "output_type": "execute_result"
    }
   ],
   "source": [
    "df = pd.read_csv(\"Credit Score Classification Dataset - Credit Score Classification Dataset.csv\")\n",
    "df"
   ]
  },
  {
   "cell_type": "code",
   "execution_count": 9,
   "id": "01237c96",
   "metadata": {},
   "outputs": [],
   "source": [
    "df22 = df[['Age','Gender','Education']]\n",
    "df[['Age','Gender','Education']] = df22"
   ]
  },
  {
   "cell_type": "code",
   "execution_count": 531,
   "id": "afa4aaf7",
   "metadata": {},
   "outputs": [],
   "source": [
    "x = df.drop([\"Eligibility\",\"Credit card limit (T)\",\"Range\"],axis = 1)\n",
    "y = df[\"Eligibility\"]"
   ]
  },
  {
   "cell_type": "code",
   "execution_count": 532,
   "id": "ce7f83af",
   "metadata": {},
   "outputs": [
    {
     "data": {
      "text/plain": [
       "Approved    138\n",
       "Rejected     26\n",
       "Name: Eligibility, dtype: int64"
      ]
     },
     "execution_count": 532,
     "metadata": {},
     "output_type": "execute_result"
    }
   ],
   "source": [
    "y.value_counts()"
   ]
  },
  {
   "cell_type": "raw",
   "id": "27057339",
   "metadata": {},
   "source": [
    "x_sample, y_sample = SMOTEN(k_neighbors=1).fit_resample(x,y)"
   ]
  },
  {
   "cell_type": "code",
   "execution_count": 533,
   "id": "0a68ca8f",
   "metadata": {},
   "outputs": [],
   "source": [
    "# train test split\n",
    "\n",
    "x_train, x_test, y_train, y_test = train_test_split(x,y,test_size=0.25,random_state=13,stratify=y)\n"
   ]
  },
  {
   "cell_type": "markdown",
   "id": "605dacf5",
   "metadata": {},
   "source": [
    "# Exploratory Data Analysis"
   ]
  },
  {
   "cell_type": "code",
   "execution_count": 534,
   "id": "4a7b07ec",
   "metadata": {},
   "outputs": [
    {
     "name": "stdout",
     "output_type": "stream",
     "text": [
      "<class 'pandas.core.frame.DataFrame'>\n",
      "Int64Index: 123 entries, 11 to 29\n",
      "Data columns (total 11 columns):\n",
      " #   Column              Non-Null Count  Dtype  \n",
      "---  ------              --------------  -----  \n",
      " 0   Age                 123 non-null    int64  \n",
      " 1   Gender              123 non-null    object \n",
      " 2   Income              123 non-null    int64  \n",
      " 3   Education           123 non-null    object \n",
      " 4   Marital Status      113 non-null    object \n",
      " 5   Number of Children  123 non-null    int64  \n",
      " 6   Home Ownership      117 non-null    object \n",
      " 7   Credit Score        123 non-null    object \n",
      " 8   Loan amount         119 non-null    float64\n",
      " 9   EMI                 119 non-null    float64\n",
      " 10  Inhand Sallary      123 non-null    int64  \n",
      "dtypes: float64(2), int64(4), object(5)\n",
      "memory usage: 11.5+ KB\n",
      "None\n",
      "==================================================\n",
      "<class 'pandas.core.frame.DataFrame'>\n",
      "Int64Index: 41 entries, 28 to 163\n",
      "Data columns (total 11 columns):\n",
      " #   Column              Non-Null Count  Dtype  \n",
      "---  ------              --------------  -----  \n",
      " 0   Age                 41 non-null     int64  \n",
      " 1   Gender              41 non-null     object \n",
      " 2   Income              41 non-null     int64  \n",
      " 3   Education           41 non-null     object \n",
      " 4   Marital Status      38 non-null     object \n",
      " 5   Number of Children  41 non-null     int64  \n",
      " 6   Home Ownership      37 non-null     object \n",
      " 7   Credit Score        41 non-null     object \n",
      " 8   Loan amount         40 non-null     float64\n",
      " 9   EMI                 40 non-null     float64\n",
      " 10  Inhand Sallary      41 non-null     int64  \n",
      "dtypes: float64(2), int64(4), object(5)\n",
      "memory usage: 3.8+ KB\n",
      "None\n"
     ]
    }
   ],
   "source": [
    "print(x_train.info())\n",
    "print(\"=\"*50)\n",
    "print(x_test.info())"
   ]
  },
  {
   "cell_type": "code",
   "execution_count": 535,
   "id": "030d06ab",
   "metadata": {},
   "outputs": [
    {
     "data": {
      "image/png": "[encoded data removed]",
      "text/plain": [
       "<Figure size 640x480 with 1 Axes>"
      ]
     },
     "metadata": {},
     "output_type": "display_data"
    }
   ],
   "source": [
    "x_train.boxplot()\n",
    "plt.show()"
   ]
  },
  {
   "cell_type": "markdown",
   "id": "97586e4c",
   "metadata": {},
   "source": [
    "# Feature Engineering"
   ]
  },
  {
   "cell_type": "markdown",
   "id": "4cc8955c",
   "metadata": {},
   "source": [
    "### Training Data"
   ]
  },
  {
   "cell_type": "code",
   "execution_count": 536,
   "id": "865dd38b",
   "metadata": {},
   "outputs": [
    {
     "name": "stdout",
     "output_type": "stream",
     "text": [
      "<class 'pandas.core.frame.DataFrame'>\n",
      "Int64Index: 123 entries, 11 to 29\n",
      "Data columns (total 11 columns):\n",
      " #   Column              Non-Null Count  Dtype  \n",
      "---  ------              --------------  -----  \n",
      " 0   Age                 123 non-null    int64  \n",
      " 1   Gender              123 non-null    object \n",
      " 2   Income              123 non-null    int64  \n",
      " 3   Education           123 non-null    object \n",
      " 4   Marital Status      113 non-null    object \n",
      " 5   Number of Children  123 non-null    int64  \n",
      " 6   Home Ownership      117 non-null    object \n",
      " 7   Credit Score        123 non-null    object \n",
      " 8   Loan amount         119 non-null    float64\n",
      " 9   EMI                 119 non-null    float64\n",
      " 10  Inhand Sallary      123 non-null    int64  \n",
      "dtypes: float64(2), int64(4), object(5)\n",
      "memory usage: 11.5+ KB\n"
     ]
    }
   ],
   "source": [
    "x_train.info()"
   ]
  },
  {
   "cell_type": "code",
   "execution_count": 537,
   "id": "51c08b0e",
   "metadata": {},
   "outputs": [
    {
     "data": {
      "text/plain": [
       "Female    62\n",
       "Male      61\n",
       "Name: Gender, dtype: int64"
      ]
     },
     "execution_count": 537,
     "metadata": {},
     "output_type": "execute_result"
    }
   ],
   "source": [
    "x_train[\"Gender\"].value_counts()"
   ]
  },
  {
   "cell_type": "code",
   "execution_count": 538,
   "id": "911c4a27",
   "metadata": {},
   "outputs": [],
   "source": [
    "x_train[\"Gender\"].replace({\"Male\":0,\"Female\":1},inplace=True)\n",
    "Gender_values = {\"Male\":0,\"Female\":1}"
   ]
  },
  {
   "cell_type": "code",
   "execution_count": 539,
   "id": "81ac0dc2",
   "metadata": {},
   "outputs": [
    {
     "name": "stdout",
     "output_type": "stream",
     "text": [
      "<class 'pandas.core.frame.DataFrame'>\n",
      "Int64Index: 123 entries, 11 to 29\n",
      "Data columns (total 11 columns):\n",
      " #   Column              Non-Null Count  Dtype  \n",
      "---  ------              --------------  -----  \n",
      " 0   Age                 123 non-null    int64  \n",
      " 1   Gender              123 non-null    int64  \n",
      " 2   Income              123 non-null    int64  \n",
      " 3   Education           123 non-null    object \n",
      " 4   Marital Status      113 non-null    object \n",
      " 5   Number of Children  123 non-null    int64  \n",
      " 6   Home Ownership      117 non-null    object \n",
      " 7   Credit Score        123 non-null    object \n",
      " 8   Loan amount         119 non-null    float64\n",
      " 9   EMI                 119 non-null    float64\n",
      " 10  Inhand Sallary      123 non-null    int64  \n",
      "dtypes: float64(2), int64(5), object(4)\n",
      "memory usage: 11.5+ KB\n"
     ]
    }
   ],
   "source": [
    "x_train.info()"
   ]
  },
  {
   "cell_type": "code",
   "execution_count": 540,
   "id": "9bbb1ae2",
   "metadata": {},
   "outputs": [
    {
     "data": {
      "text/plain": [
       "{\"Bachelor's Degree\": 34,\n",
       " \"Master's Degree\": 27,\n",
       " 'High School Diploma': 25,\n",
       " 'Doctorate': 19,\n",
       " \"Associate's Degree\": 18}"
      ]
     },
     "execution_count": 540,
     "metadata": {},
     "output_type": "execute_result"
    }
   ],
   "source": [
    "x_train[\"Education\"].value_counts().to_dict()"
   ]
  },
  {
   "cell_type": "code",
   "execution_count": 541,
   "id": "da26a03c",
   "metadata": {},
   "outputs": [],
   "source": [
    "x_train[\"Education\"].replace({\"Bachelor's Degree\": 2,\"Master's Degree\": 3,'High School Diploma': 0,\n",
    "                              'Doctorate': 4,\"Associate's Degree\": 1},inplace=True)\n",
    "\n",
    "Education_values = {\"Bachelor's Degree\": 2,\"Master's Degree\": 3,'High School Diploma': 0,\n",
    "                              'Doctorate': 4,\"Associate's Degree\": 1}"
   ]
  },
  {
   "cell_type": "code",
   "execution_count": 542,
   "id": "24d1a0ae",
   "metadata": {},
   "outputs": [
    {
     "name": "stdout",
     "output_type": "stream",
     "text": [
      "<class 'pandas.core.frame.DataFrame'>\n",
      "Int64Index: 123 entries, 11 to 29\n",
      "Data columns (total 11 columns):\n",
      " #   Column              Non-Null Count  Dtype  \n",
      "---  ------              --------------  -----  \n",
      " 0   Age                 123 non-null    int64  \n",
      " 1   Gender              123 non-null    int64  \n",
      " 2   Income              123 non-null    int64  \n",
      " 3   Education           123 non-null    int64  \n",
      " 4   Marital Status      113 non-null    object \n",
      " 5   Number of Children  123 non-null    int64  \n",
      " 6   Home Ownership      117 non-null    object \n",
      " 7   Credit Score        123 non-null    object \n",
      " 8   Loan amount         119 non-null    float64\n",
      " 9   EMI                 119 non-null    float64\n",
      " 10  Inhand Sallary      123 non-null    int64  \n",
      "dtypes: float64(2), int64(6), object(3)\n",
      "memory usage: 11.5+ KB\n"
     ]
    }
   ],
   "source": [
    "x_train.info()"
   ]
  },
  {
   "cell_type": "code",
   "execution_count": 543,
   "id": "e1fe6c10",
   "metadata": {
    "scrolled": true
   },
   "outputs": [
    {
     "data": {
      "text/plain": [
       "10"
      ]
     },
     "execution_count": 543,
     "metadata": {},
     "output_type": "execute_result"
    }
   ],
   "source": [
    "x_train[\"Marital Status\"].isna().sum()"
   ]
  },
  {
   "cell_type": "code",
   "execution_count": 544,
   "id": "0319c984",
   "metadata": {},
   "outputs": [
    {
     "data": {
      "text/plain": [
       "Married    57\n",
       "Single     56\n",
       "Name: Marital Status, dtype: int64"
      ]
     },
     "execution_count": 544,
     "metadata": {},
     "output_type": "execute_result"
    }
   ],
   "source": [
    "x_train[\"Marital Status\"].value_counts()"
   ]
  },
  {
   "cell_type": "code",
   "execution_count": 545,
   "id": "ab508730",
   "metadata": {},
   "outputs": [],
   "source": [
    "x_train[\"Marital Status\"].fillna(x_train[\"Marital Status\"].mode()[0],inplace=True)"
   ]
  },
  {
   "cell_type": "code",
   "execution_count": 546,
   "id": "e2b3de73",
   "metadata": {},
   "outputs": [
    {
     "data": {
      "text/plain": [
       "0"
      ]
     },
     "execution_count": 546,
     "metadata": {},
     "output_type": "execute_result"
    }
   ],
   "source": [
    "x_train[\"Marital Status\"].isna().sum()"
   ]
  },
  {
   "cell_type": "code",
   "execution_count": 547,
   "id": "6faf5b2a",
   "metadata": {},
   "outputs": [
    {
     "data": {
      "text/plain": [
       "Married    67\n",
       "Single     56\n",
       "Name: Marital Status, dtype: int64"
      ]
     },
     "execution_count": 547,
     "metadata": {},
     "output_type": "execute_result"
    }
   ],
   "source": [
    "x_train[\"Marital Status\"].value_counts()"
   ]
  },
  {
   "cell_type": "code",
   "execution_count": 548,
   "id": "70c7a71c",
   "metadata": {},
   "outputs": [],
   "source": [
    "x_train[\"Marital Status\"].replace({\"Married\":1,\"Single\":0},inplace=True)\n",
    "Marital_Status_values = {\"Married\":1,\"Single\":0}"
   ]
  },
  {
   "cell_type": "code",
   "execution_count": 549,
   "id": "2c6c7ca0",
   "metadata": {},
   "outputs": [
    {
     "data": {
      "text/plain": [
       "6"
      ]
     },
     "execution_count": 549,
     "metadata": {},
     "output_type": "execute_result"
    }
   ],
   "source": [
    "x_train[\"Home Ownership\"].isna().sum()"
   ]
  },
  {
   "cell_type": "code",
   "execution_count": 550,
   "id": "5bf4d1e8",
   "metadata": {},
   "outputs": [
    {
     "data": {
      "text/plain": [
       "Owned     79\n",
       "Rented    38\n",
       "Name: Home Ownership, dtype: int64"
      ]
     },
     "execution_count": 550,
     "metadata": {},
     "output_type": "execute_result"
    }
   ],
   "source": [
    "x_train[\"Home Ownership\"].value_counts()"
   ]
  },
  {
   "cell_type": "code",
   "execution_count": 551,
   "id": "c78c8094",
   "metadata": {},
   "outputs": [],
   "source": [
    "x_train[\"Home Ownership\"].fillna(x_train[\"Home Ownership\"].mode()[0],inplace=True)"
   ]
  },
  {
   "cell_type": "code",
   "execution_count": 552,
   "id": "70527a27",
   "metadata": {},
   "outputs": [
    {
     "data": {
      "text/plain": [
       "Owned     85\n",
       "Rented    38\n",
       "Name: Home Ownership, dtype: int64"
      ]
     },
     "execution_count": 552,
     "metadata": {},
     "output_type": "execute_result"
    }
   ],
   "source": [
    "x_train[\"Home Ownership\"].value_counts()"
   ]
  },
  {
   "cell_type": "code",
   "execution_count": 553,
   "id": "6ae13fec",
   "metadata": {},
   "outputs": [],
   "source": [
    "x_train[\"Home Ownership\"].replace({\"Owned\":1,\"Rented\":0},inplace=True)\n",
    "Home_Owneship_values = {\"Owned\":1,\"Rented\":0}"
   ]
  },
  {
   "cell_type": "code",
   "execution_count": 554,
   "id": "f463a333",
   "metadata": {},
   "outputs": [
    {
     "data": {
      "text/plain": [
       "High       85\n",
       "Average    27\n",
       "Low        11\n",
       "Name: Credit Score, dtype: int64"
      ]
     },
     "execution_count": 554,
     "metadata": {},
     "output_type": "execute_result"
    }
   ],
   "source": [
    "x_train[\"Credit Score\"].value_counts()"
   ]
  },
  {
   "cell_type": "code",
   "execution_count": 555,
   "id": "ae4f6dde",
   "metadata": {},
   "outputs": [],
   "source": [
    "x_train[\"Credit Score\"].replace({'High': 2, 'Average': 1, 'Low': 0},inplace=True)\n",
    "Credit_Score_values = {'High': 2, 'Average': 1, 'Low': 0}"
   ]
  },
  {
   "cell_type": "code",
   "execution_count": 556,
   "id": "43951fc6",
   "metadata": {},
   "outputs": [
    {
     "data": {
      "text/plain": [
       "4"
      ]
     },
     "execution_count": 556,
     "metadata": {},
     "output_type": "execute_result"
    }
   ],
   "source": [
    "x_train[\"Loan amount\"].isna().sum()"
   ]
  },
  {
   "cell_type": "code",
   "execution_count": 557,
   "id": "18ae14b8",
   "metadata": {},
   "outputs": [],
   "source": [
    "x_train[\"Loan amount\"].fillna(x_train[\"Loan amount\"].mean(),inplace=True)"
   ]
  },
  {
   "cell_type": "code",
   "execution_count": 558,
   "id": "f5c13a15",
   "metadata": {},
   "outputs": [
    {
     "data": {
      "text/plain": [
       "0"
      ]
     },
     "execution_count": 558,
     "metadata": {},
     "output_type": "execute_result"
    }
   ],
   "source": [
    "x_train[\"Loan amount\"].isna().sum()"
   ]
  },
  {
   "cell_type": "code",
   "execution_count": 559,
   "id": "9703fd3c",
   "metadata": {},
   "outputs": [
    {
     "data": {
      "text/plain": [
       "4"
      ]
     },
     "execution_count": 559,
     "metadata": {},
     "output_type": "execute_result"
    }
   ],
   "source": [
    "x_train[\"EMI\"].isna().sum()"
   ]
  },
  {
   "cell_type": "code",
   "execution_count": 560,
   "id": "204176c3",
   "metadata": {},
   "outputs": [],
   "source": [
    "x_train[\"EMI\"].fillna(x_train[\"EMI\"].mean(),inplace=True)"
   ]
  },
  {
   "cell_type": "code",
   "execution_count": 561,
   "id": "8cfdc77e",
   "metadata": {
    "scrolled": true
   },
   "outputs": [
    {
     "data": {
      "text/plain": [
       "0"
      ]
     },
     "execution_count": 561,
     "metadata": {},
     "output_type": "execute_result"
    }
   ],
   "source": [
    "x_train[\"EMI\"].isna().sum()"
   ]
  },
  {
   "cell_type": "code",
   "execution_count": 562,
   "id": "c92fe904",
   "metadata": {},
   "outputs": [
    {
     "name": "stdout",
     "output_type": "stream",
     "text": [
      "<class 'pandas.core.frame.DataFrame'>\n",
      "Int64Index: 123 entries, 11 to 29\n",
      "Data columns (total 11 columns):\n",
      " #   Column              Non-Null Count  Dtype  \n",
      "---  ------              --------------  -----  \n",
      " 0   Age                 123 non-null    int64  \n",
      " 1   Gender              123 non-null    int64  \n",
      " 2   Income              123 non-null    int64  \n",
      " 3   Education           123 non-null    int64  \n",
      " 4   Marital Status      123 non-null    int64  \n",
      " 5   Number of Children  123 non-null    int64  \n",
      " 6   Home Ownership      123 non-null    int64  \n",
      " 7   Credit Score        123 non-null    int64  \n",
      " 8   Loan amount         123 non-null    float64\n",
      " 9   EMI                 123 non-null    float64\n",
      " 10  Inhand Sallary      123 non-null    int64  \n",
      "dtypes: float64(2), int64(9)\n",
      "memory usage: 11.5 KB\n"
     ]
    }
   ],
   "source": [
    "x_train.info()"
   ]
  },
  {
   "cell_type": "code",
   "execution_count": 563,
   "id": "c081b531",
   "metadata": {},
   "outputs": [
    {
     "data": {
      "image/png": "[encoded data removed]",
      "text/plain": [
       "<Figure size 2000x1000 with 1 Axes>"
      ]
     },
     "metadata": {},
     "output_type": "display_data"
    }
   ],
   "source": [
    "plt.figure(figsize=(20,10))\n",
    "x_train.boxplot()\n",
    "plt.show()"
   ]
  },
  {
   "cell_type": "code",
   "execution_count": 564,
   "id": "a35e3a30",
   "metadata": {},
   "outputs": [
    {
     "data": {
      "image/png": "[encoded data removed]",
      "text/plain": [
       "<Figure size 640x480 with 1 Axes>"
      ]
     },
     "metadata": {},
     "output_type": "display_data"
    }
   ],
   "source": [
    "outlier_imputation(x_train[\"Number of Children\"])\n",
    "plt.show()"
   ]
  },
  {
   "cell_type": "code",
   "execution_count": 565,
   "id": "28bfd77e",
   "metadata": {},
   "outputs": [
    {
     "data": {
      "image/png": "[encoded data removed]",
      "text/plain": [
       "<Figure size 640x480 with 1 Axes>"
      ]
     },
     "metadata": {},
     "output_type": "display_data"
    }
   ],
   "source": [
    "outlier_imputation(x_train[\"Loan amount\"])\n",
    "plt.show()"
   ]
  },
  {
   "cell_type": "code",
   "execution_count": 566,
   "id": "158c4080",
   "metadata": {},
   "outputs": [],
   "source": [
    "y_train.replace({\"Approved\":1,\"Rejected\":0},inplace=True)"
   ]
  },
  {
   "cell_type": "markdown",
   "id": "54e65d1b",
   "metadata": {},
   "source": [
    "### Testing Data"
   ]
  },
  {
   "cell_type": "code",
   "execution_count": 567,
   "id": "30548889",
   "metadata": {},
   "outputs": [
    {
     "name": "stdout",
     "output_type": "stream",
     "text": [
      "<class 'pandas.core.frame.DataFrame'>\n",
      "Int64Index: 41 entries, 28 to 163\n",
      "Data columns (total 11 columns):\n",
      " #   Column              Non-Null Count  Dtype  \n",
      "---  ------              --------------  -----  \n",
      " 0   Age                 41 non-null     int64  \n",
      " 1   Gender              41 non-null     object \n",
      " 2   Income              41 non-null     int64  \n",
      " 3   Education           41 non-null     object \n",
      " 4   Marital Status      38 non-null     object \n",
      " 5   Number of Children  41 non-null     int64  \n",
      " 6   Home Ownership      37 non-null     object \n",
      " 7   Credit Score        41 non-null     object \n",
      " 8   Loan amount         40 non-null     float64\n",
      " 9   EMI                 40 non-null     float64\n",
      " 10  Inhand Sallary      41 non-null     int64  \n",
      "dtypes: float64(2), int64(4), object(5)\n",
      "memory usage: 3.8+ KB\n"
     ]
    }
   ],
   "source": [
    "x_test.info()"
   ]
  },
  {
   "cell_type": "code",
   "execution_count": 568,
   "id": "fcd3fa54",
   "metadata": {},
   "outputs": [
    {
     "data": {
      "text/plain": [
       "Female    24\n",
       "Male      17\n",
       "Name: Gender, dtype: int64"
      ]
     },
     "execution_count": 568,
     "metadata": {},
     "output_type": "execute_result"
    }
   ],
   "source": [
    "x_test[\"Gender\"].value_counts()"
   ]
  },
  {
   "cell_type": "code",
   "execution_count": 569,
   "id": "a0d246b4",
   "metadata": {},
   "outputs": [],
   "source": [
    "x_test[\"Gender\"].replace({\"Male\":0,\"Female\":1},inplace=True)\n",
    "Gender_values = {\"Male\":0,\"Female\":1}"
   ]
  },
  {
   "cell_type": "code",
   "execution_count": 570,
   "id": "7c99b242",
   "metadata": {},
   "outputs": [
    {
     "data": {
      "text/plain": [
       "{'Doctorate': 12,\n",
       " \"Master's Degree\": 9,\n",
       " \"Bachelor's Degree\": 8,\n",
       " \"Associate's Degree\": 7,\n",
       " 'High School Diploma': 5}"
      ]
     },
     "execution_count": 570,
     "metadata": {},
     "output_type": "execute_result"
    }
   ],
   "source": [
    "x_test[\"Education\"].value_counts().to_dict()"
   ]
  },
  {
   "cell_type": "code",
   "execution_count": 571,
   "id": "03b6b97e",
   "metadata": {},
   "outputs": [],
   "source": [
    "x_test[\"Education\"].replace({\"Bachelor's Degree\": 2,\"Master's Degree\": 3,'High School Diploma': 0,\n",
    "                              'Doctorate': 4,\"Associate's Degree\": 1},inplace=True)\n",
    "\n",
    "Education_values = {\"Bachelor's Degree\": 2,\"Master's Degree\": 3,'High School Diploma': 0,\n",
    "                              'Doctorate': 4,\"Associate's Degree\": 1}"
   ]
  },
  {
   "cell_type": "code",
   "execution_count": 572,
   "id": "1b4e6ac4",
   "metadata": {},
   "outputs": [
    {
     "name": "stdout",
     "output_type": "stream",
     "text": [
      "<class 'pandas.core.frame.DataFrame'>\n",
      "Int64Index: 41 entries, 28 to 163\n",
      "Data columns (total 11 columns):\n",
      " #   Column              Non-Null Count  Dtype  \n",
      "---  ------              --------------  -----  \n",
      " 0   Age                 41 non-null     int64  \n",
      " 1   Gender              41 non-null     int64  \n",
      " 2   Income              41 non-null     int64  \n",
      " 3   Education           41 non-null     int64  \n",
      " 4   Marital Status      38 non-null     object \n",
      " 5   Number of Children  41 non-null     int64  \n",
      " 6   Home Ownership      37 non-null     object \n",
      " 7   Credit Score        41 non-null     object \n",
      " 8   Loan amount         40 non-null     float64\n",
      " 9   EMI                 40 non-null     float64\n",
      " 10  Inhand Sallary      41 non-null     int64  \n",
      "dtypes: float64(2), int64(6), object(3)\n",
      "memory usage: 3.8+ KB\n"
     ]
    }
   ],
   "source": [
    "x_test.info()"
   ]
  },
  {
   "cell_type": "code",
   "execution_count": 573,
   "id": "a5879efb",
   "metadata": {
    "scrolled": true
   },
   "outputs": [
    {
     "data": {
      "text/plain": [
       "3"
      ]
     },
     "execution_count": 573,
     "metadata": {},
     "output_type": "execute_result"
    }
   ],
   "source": [
    "x_test[\"Marital Status\"].isna().sum()"
   ]
  },
  {
   "cell_type": "code",
   "execution_count": 574,
   "id": "e2cd1b4d",
   "metadata": {},
   "outputs": [
    {
     "data": {
      "text/plain": [
       "Married    22\n",
       "Single     16\n",
       "Name: Marital Status, dtype: int64"
      ]
     },
     "execution_count": 574,
     "metadata": {},
     "output_type": "execute_result"
    }
   ],
   "source": [
    "x_test[\"Marital Status\"].value_counts()"
   ]
  },
  {
   "cell_type": "code",
   "execution_count": 575,
   "id": "ccee646f",
   "metadata": {},
   "outputs": [],
   "source": [
    "x_test[\"Marital Status\"].fillna(x_test[\"Marital Status\"].mode()[0],inplace=True)"
   ]
  },
  {
   "cell_type": "code",
   "execution_count": 576,
   "id": "a589e020",
   "metadata": {},
   "outputs": [
    {
     "data": {
      "text/plain": [
       "0"
      ]
     },
     "execution_count": 576,
     "metadata": {},
     "output_type": "execute_result"
    }
   ],
   "source": [
    "x_test[\"Marital Status\"].isna().sum()"
   ]
  },
  {
   "cell_type": "code",
   "execution_count": 577,
   "id": "6c82d211",
   "metadata": {},
   "outputs": [
    {
     "data": {
      "text/plain": [
       "Married    25\n",
       "Single     16\n",
       "Name: Marital Status, dtype: int64"
      ]
     },
     "execution_count": 577,
     "metadata": {},
     "output_type": "execute_result"
    }
   ],
   "source": [
    "x_test[\"Marital Status\"].value_counts()"
   ]
  },
  {
   "cell_type": "code",
   "execution_count": 578,
   "id": "206a7117",
   "metadata": {},
   "outputs": [],
   "source": [
    "x_test[\"Marital Status\"].replace({\"Married\":1,\"Single\":0},inplace=True)\n",
    "Marital_Status_values = {\"Married\":1,\"Single\":0}"
   ]
  },
  {
   "cell_type": "code",
   "execution_count": 579,
   "id": "68a8fac4",
   "metadata": {},
   "outputs": [
    {
     "data": {
      "text/plain": [
       "4"
      ]
     },
     "execution_count": 579,
     "metadata": {},
     "output_type": "execute_result"
    }
   ],
   "source": [
    "x_test[\"Home Ownership\"].isna().sum()"
   ]
  },
  {
   "cell_type": "code",
   "execution_count": 580,
   "id": "cb29bc74",
   "metadata": {},
   "outputs": [
    {
     "data": {
      "text/plain": [
       "Owned     26\n",
       "Rented    11\n",
       "Name: Home Ownership, dtype: int64"
      ]
     },
     "execution_count": 580,
     "metadata": {},
     "output_type": "execute_result"
    }
   ],
   "source": [
    "x_test[\"Home Ownership\"].value_counts()"
   ]
  },
  {
   "cell_type": "code",
   "execution_count": 581,
   "id": "d8b93e09",
   "metadata": {},
   "outputs": [],
   "source": [
    "x_test[\"Home Ownership\"].fillna(x_test[\"Home Ownership\"].mode()[0],inplace=True)"
   ]
  },
  {
   "cell_type": "code",
   "execution_count": 582,
   "id": "48e0e879",
   "metadata": {},
   "outputs": [
    {
     "data": {
      "text/plain": [
       "Owned     30\n",
       "Rented    11\n",
       "Name: Home Ownership, dtype: int64"
      ]
     },
     "execution_count": 582,
     "metadata": {},
     "output_type": "execute_result"
    }
   ],
   "source": [
    "x_test[\"Home Ownership\"].value_counts()"
   ]
  },
  {
   "cell_type": "code",
   "execution_count": 583,
   "id": "d2d4b313",
   "metadata": {},
   "outputs": [],
   "source": [
    "x_test[\"Home Ownership\"].replace({\"Owned\":1,\"Rented\":0},inplace=True)\n",
    "Home_Owneship_values = {\"Owned\":1,\"Rented\":0}"
   ]
  },
  {
   "cell_type": "code",
   "execution_count": 584,
   "id": "40b983fd",
   "metadata": {},
   "outputs": [
    {
     "data": {
      "text/plain": [
       "High       28\n",
       "Average     9\n",
       "Low         4\n",
       "Name: Credit Score, dtype: int64"
      ]
     },
     "execution_count": 584,
     "metadata": {},
     "output_type": "execute_result"
    }
   ],
   "source": [
    "x_test[\"Credit Score\"].value_counts()"
   ]
  },
  {
   "cell_type": "code",
   "execution_count": 585,
   "id": "6bca4d89",
   "metadata": {},
   "outputs": [],
   "source": [
    "x_test[\"Credit Score\"].replace({'High': 2, 'Average': 1, 'Low': 0},inplace=True)\n",
    "Credit_Score_values = {'High': 2, 'Average': 1, 'Low': 0}"
   ]
  },
  {
   "cell_type": "code",
   "execution_count": 586,
   "id": "4f3670c1",
   "metadata": {},
   "outputs": [
    {
     "data": {
      "text/plain": [
       "1"
      ]
     },
     "execution_count": 586,
     "metadata": {},
     "output_type": "execute_result"
    }
   ],
   "source": [
    "x_test[\"Loan amount\"].isna().sum()"
   ]
  },
  {
   "cell_type": "code",
   "execution_count": 587,
   "id": "fd2e1c6f",
   "metadata": {},
   "outputs": [],
   "source": [
    "x_test[\"Loan amount\"].fillna(x_test[\"Loan amount\"].mean(),inplace=True)"
   ]
  },
  {
   "cell_type": "code",
   "execution_count": 588,
   "id": "b3443712",
   "metadata": {},
   "outputs": [
    {
     "data": {
      "text/plain": [
       "0"
      ]
     },
     "execution_count": 588,
     "metadata": {},
     "output_type": "execute_result"
    }
   ],
   "source": [
    "x_test[\"Loan amount\"].isna().sum()"
   ]
  },
  {
   "cell_type": "code",
   "execution_count": 589,
   "id": "f335c303",
   "metadata": {},
   "outputs": [
    {
     "data": {
      "text/plain": [
       "1"
      ]
     },
     "execution_count": 589,
     "metadata": {},
     "output_type": "execute_result"
    }
   ],
   "source": [
    "x_test[\"EMI\"].isna().sum()"
   ]
  },
  {
   "cell_type": "code",
   "execution_count": 590,
   "id": "ac18cfc8",
   "metadata": {},
   "outputs": [],
   "source": [
    "x_test[\"EMI\"].fillna(x_test[\"EMI\"].mean(),inplace=True)"
   ]
  },
  {
   "cell_type": "code",
   "execution_count": 591,
   "id": "f4557a37",
   "metadata": {},
   "outputs": [
    {
     "data": {
      "text/plain": [
       "0"
      ]
     },
     "execution_count": 591,
     "metadata": {},
     "output_type": "execute_result"
    }
   ],
   "source": [
    "x_test[\"EMI\"].isna().sum()"
   ]
  },
  {
   "cell_type": "code",
   "execution_count": 592,
   "id": "56cc3078",
   "metadata": {},
   "outputs": [
    {
     "name": "stdout",
     "output_type": "stream",
     "text": [
      "<class 'pandas.core.frame.DataFrame'>\n",
      "Int64Index: 41 entries, 28 to 163\n",
      "Data columns (total 11 columns):\n",
      " #   Column              Non-Null Count  Dtype  \n",
      "---  ------              --------------  -----  \n",
      " 0   Age                 41 non-null     int64  \n",
      " 1   Gender              41 non-null     int64  \n",
      " 2   Income              41 non-null     int64  \n",
      " 3   Education           41 non-null     int64  \n",
      " 4   Marital Status      41 non-null     int64  \n",
      " 5   Number of Children  41 non-null     int64  \n",
      " 6   Home Ownership      41 non-null     int64  \n",
      " 7   Credit Score        41 non-null     int64  \n",
      " 8   Loan amount         41 non-null     float64\n",
      " 9   EMI                 41 non-null     float64\n",
      " 10  Inhand Sallary      41 non-null     int64  \n",
      "dtypes: float64(2), int64(9)\n",
      "memory usage: 3.8 KB\n"
     ]
    }
   ],
   "source": [
    "x_test.info()"
   ]
  },
  {
   "cell_type": "code",
   "execution_count": 593,
   "id": "094ad6c5",
   "metadata": {},
   "outputs": [
    {
     "data": {
      "image/png": "[encoded data removed]",
      "text/plain": [
       "<Figure size 2000x1000 with 1 Axes>"
      ]
     },
     "metadata": {},
     "output_type": "display_data"
    }
   ],
   "source": [
    "plt.figure(figsize=(20,10))\n",
    "x_test.boxplot()\n",
    "plt.show()"
   ]
  },
  {
   "cell_type": "code",
   "execution_count": 594,
   "id": "ff31411d",
   "metadata": {},
   "outputs": [
    {
     "data": {
      "image/png": "[encoded data removed]",
      "text/plain": [
       "<Figure size 640x480 with 1 Axes>"
      ]
     },
     "metadata": {},
     "output_type": "display_data"
    }
   ],
   "source": [
    "outlier_imputation(x_test[\"Income\"])\n",
    "plt.show()"
   ]
  },
  {
   "cell_type": "code",
   "execution_count": 595,
   "id": "170e969b",
   "metadata": {},
   "outputs": [
    {
     "data": {
      "image/png": "[encoded data removed]",
      "text/plain": [
       "<Figure size 640x480 with 1 Axes>"
      ]
     },
     "metadata": {},
     "output_type": "display_data"
    }
   ],
   "source": [
    "outlier_imputation(x_test[\"Loan amount\"])\n",
    "plt.show()"
   ]
  },
  {
   "cell_type": "code",
   "execution_count": 596,
   "id": "feed9ce5",
   "metadata": {},
   "outputs": [
    {
     "data": {
      "image/png": "[encoded data removed]",
      "text/plain": [
       "<Figure size 640x480 with 1 Axes>"
      ]
     },
     "metadata": {},
     "output_type": "display_data"
    }
   ],
   "source": [
    "outlier_imputation(x_test[\"Loan amount\"])\n",
    "plt.show()"
   ]
  },
  {
   "cell_type": "code",
   "execution_count": 597,
   "id": "a0ef5414",
   "metadata": {},
   "outputs": [
    {
     "data": {
      "image/png": "[encoded data removed]",
      "text/plain": [
       "<Figure size 640x480 with 1 Axes>"
      ]
     },
     "metadata": {},
     "output_type": "display_data"
    }
   ],
   "source": [
    "outlier_imputation(x_test[\"EMI\"])\n",
    "plt.show()"
   ]
  },
  {
   "cell_type": "code",
   "execution_count": 598,
   "id": "d3abeaec",
   "metadata": {},
   "outputs": [
    {
     "data": {
      "image/png": "[encoded data removed]",
      "text/plain": [
       "<Figure size 640x480 with 1 Axes>"
      ]
     },
     "metadata": {},
     "output_type": "display_data"
    }
   ],
   "source": [
    "outlier_imputation(x_test[\"Inhand Sallary\"])\n",
    "plt.show()"
   ]
  },
  {
   "cell_type": "code",
   "execution_count": 599,
   "id": "9449f46c",
   "metadata": {},
   "outputs": [],
   "source": [
    "y_test.replace({\"Approved\":1,\"Rejected\":0},inplace=True)"
   ]
  },
  {
   "cell_type": "code",
   "execution_count": 600,
   "id": "9935fa84",
   "metadata": {},
   "outputs": [
    {
     "data": {
      "text/plain": [
       "1    103\n",
       "0    103\n",
       "Name: Eligibility, dtype: int64"
      ]
     },
     "execution_count": 600,
     "metadata": {},
     "output_type": "execute_result"
    }
   ],
   "source": [
    "x_train, y_train = SMOTEN(k_neighbors=1).fit_resample(x_train,y_train)\n",
    "y_train.value_counts()"
   ]
  },
  {
   "cell_type": "code",
   "execution_count": 601,
   "id": "db853250",
   "metadata": {},
   "outputs": [
    {
     "data": {
      "text/plain": [
       "1    35\n",
       "0    35\n",
       "Name: Eligibility, dtype: int64"
      ]
     },
     "execution_count": 601,
     "metadata": {},
     "output_type": "execute_result"
    }
   ],
   "source": [
    "x_test, y_test = SMOTEN(k_neighbors=1).fit_resample(x_test,y_test)\n",
    "y_test.value_counts()"
   ]
  },
  {
   "cell_type": "markdown",
   "id": "80c30520",
   "metadata": {},
   "source": [
    "# Feature Selection"
   ]
  },
  {
   "cell_type": "markdown",
   "id": "5ec7c1e5",
   "metadata": {},
   "source": [
    "#### 1.kendall coc"
   ]
  },
  {
   "cell_type": "code",
   "execution_count": 602,
   "id": "e5bfab05",
   "metadata": {},
   "outputs": [
    {
     "data": {
      "text/html": [
       "<div>\n",
       "<style scoped>\n",
       "    .dataframe tbody tr th:only-of-type {\n",
       "        vertical-align: middle;\n",
       "    }\n",
       "\n",
       "    .dataframe tbody tr th {\n",
       "        vertical-align: top;\n",
       "    }\n",
       "\n",
       "    .dataframe thead th {\n",
       "        text-align: right;\n",
       "    }\n",
       "</style>\n",
       "<table border=\"1\" class=\"dataframe\">\n",
       "  <thead>\n",
       "    <tr style=\"text-align: right;\">\n",
       "      <th></th>\n",
       "      <th>Age</th>\n",
       "      <th>Gender</th>\n",
       "      <th>Income</th>\n",
       "      <th>Education</th>\n",
       "      <th>Marital Status</th>\n",
       "      <th>Number of Children</th>\n",
       "      <th>Home Ownership</th>\n",
       "      <th>Credit Score</th>\n",
       "      <th>Loan amount</th>\n",
       "      <th>EMI</th>\n",
       "      <th>Inhand Sallary</th>\n",
       "      <th>Eligibility</th>\n",
       "    </tr>\n",
       "  </thead>\n",
       "  <tbody>\n",
       "    <tr>\n",
       "      <th>Eligibility</th>\n",
       "      <td>-0.006651</td>\n",
       "      <td>-0.130367</td>\n",
       "      <td>-0.044954</td>\n",
       "      <td>-0.056762</td>\n",
       "      <td>-0.030459</td>\n",
       "      <td>-0.063854</td>\n",
       "      <td>-0.068591</td>\n",
       "      <td>-0.084547</td>\n",
       "      <td>-0.031343</td>\n",
       "      <td>-0.01337</td>\n",
       "      <td>-0.038036</td>\n",
       "      <td>1.0</td>\n",
       "    </tr>\n",
       "  </tbody>\n",
       "</table>\n",
       "</div>"
      ],
      "text/plain": [
       "                  Age    Gender    Income  Education  Marital Status  \\\n",
       "Eligibility -0.006651 -0.130367 -0.044954  -0.056762       -0.030459   \n",
       "\n",
       "             Number of Children  Home Ownership  Credit Score  Loan amount  \\\n",
       "Eligibility           -0.063854       -0.068591     -0.084547    -0.031343   \n",
       "\n",
       "                 EMI  Inhand Sallary  Eligibility  \n",
       "Eligibility -0.01337       -0.038036          1.0  "
      ]
     },
     "execution_count": 602,
     "metadata": {},
     "output_type": "execute_result"
    }
   ],
   "source": [
    "cor_df = x_train.copy()\n",
    "cor_df[\"Eligibility\"] = y\n",
    "\n",
    "cor_df[\"Eligibility\"].replace({\"Approved\":1,\"Rejected\":0},inplace=True)\n",
    "cor_df.corr('kendall').tail(1)"
   ]
  },
  {
   "cell_type": "code",
   "execution_count": 603,
   "id": "60688786",
   "metadata": {},
   "outputs": [
    {
     "data": {
      "image/png": "[encoded data removed]",
      "text/plain": [
       "<Figure size 1000x100 with 2 Axes>"
      ]
     },
     "metadata": {},
     "output_type": "display_data"
    }
   ],
   "source": [
    "plt.figure(figsize=(10,1))\n",
    "sns.heatmap(cor_df.corr('kendall').tail(1),annot=True)\n",
    "plt.show()"
   ]
  },
  {
   "cell_type": "markdown",
   "id": "acb5f395",
   "metadata": {},
   "source": [
    "#### 2. ANOVA Test"
   ]
  },
  {
   "cell_type": "code",
   "execution_count": 604,
   "id": "17f16da2",
   "metadata": {},
   "outputs": [],
   "source": [
    "from sklearn.feature_selection import f_classif\n",
    "\n",
    "f_val,p_val = f_classif(x_train,y_train)"
   ]
  },
  {
   "cell_type": "code",
   "execution_count": 605,
   "id": "f582e6cd",
   "metadata": {},
   "outputs": [
    {
     "data": {
      "text/html": [
       "<div>\n",
       "<style scoped>\n",
       "    .dataframe tbody tr th:only-of-type {\n",
       "        vertical-align: middle;\n",
       "    }\n",
       "\n",
       "    .dataframe tbody tr th {\n",
       "        vertical-align: top;\n",
       "    }\n",
       "\n",
       "    .dataframe thead th {\n",
       "        text-align: right;\n",
       "    }\n",
       "</style>\n",
       "<table border=\"1\" class=\"dataframe\">\n",
       "  <thead>\n",
       "    <tr style=\"text-align: right;\">\n",
       "      <th></th>\n",
       "      <th>f_val</th>\n",
       "      <th>p_val</th>\n",
       "    </tr>\n",
       "  </thead>\n",
       "  <tbody>\n",
       "    <tr>\n",
       "      <th>Age</th>\n",
       "      <td>163.444517</td>\n",
       "      <td>0.00000</td>\n",
       "    </tr>\n",
       "    <tr>\n",
       "      <th>Gender</th>\n",
       "      <td>9.917236</td>\n",
       "      <td>0.00188</td>\n",
       "    </tr>\n",
       "    <tr>\n",
       "      <th>Income</th>\n",
       "      <td>376.027919</td>\n",
       "      <td>0.00000</td>\n",
       "    </tr>\n",
       "    <tr>\n",
       "      <th>Education</th>\n",
       "      <td>137.046258</td>\n",
       "      <td>0.00000</td>\n",
       "    </tr>\n",
       "    <tr>\n",
       "      <th>Marital Status</th>\n",
       "      <td>65.029740</td>\n",
       "      <td>0.00000</td>\n",
       "    </tr>\n",
       "    <tr>\n",
       "      <th>Number of Children</th>\n",
       "      <td>54.541014</td>\n",
       "      <td>0.00000</td>\n",
       "    </tr>\n",
       "    <tr>\n",
       "      <th>Home Ownership</th>\n",
       "      <td>237.086777</td>\n",
       "      <td>0.00000</td>\n",
       "    </tr>\n",
       "    <tr>\n",
       "      <th>Credit Score</th>\n",
       "      <td>432.680576</td>\n",
       "      <td>0.00000</td>\n",
       "    </tr>\n",
       "    <tr>\n",
       "      <th>Loan amount</th>\n",
       "      <td>26.203184</td>\n",
       "      <td>0.00000</td>\n",
       "    </tr>\n",
       "    <tr>\n",
       "      <th>EMI</th>\n",
       "      <td>214.832550</td>\n",
       "      <td>0.00000</td>\n",
       "    </tr>\n",
       "    <tr>\n",
       "      <th>Inhand Sallary</th>\n",
       "      <td>361.761804</td>\n",
       "      <td>0.00000</td>\n",
       "    </tr>\n",
       "  </tbody>\n",
       "</table>\n",
       "</div>"
      ],
      "text/plain": [
       "                         f_val    p_val\n",
       "Age                 163.444517  0.00000\n",
       "Gender                9.917236  0.00188\n",
       "Income              376.027919  0.00000\n",
       "Education           137.046258  0.00000\n",
       "Marital Status       65.029740  0.00000\n",
       "Number of Children   54.541014  0.00000\n",
       "Home Ownership      237.086777  0.00000\n",
       "Credit Score        432.680576  0.00000\n",
       "Loan amount          26.203184  0.00000\n",
       "EMI                 214.832550  0.00000\n",
       "Inhand Sallary      361.761804  0.00000"
      ]
     },
     "execution_count": 605,
     "metadata": {},
     "output_type": "execute_result"
    }
   ],
   "source": [
    "df4 = pd.DataFrame({\"f_val\":f_val, \"p_val\":np.around(p_val,5)}, index=x_train.columns)\n",
    "df4"
   ]
  },
  {
   "cell_type": "markdown",
   "id": "65610187",
   "metadata": {},
   "source": [
    "#### Feature Scaling"
   ]
  },
  {
   "cell_type": "code",
   "execution_count": 606,
   "id": "030a3804",
   "metadata": {},
   "outputs": [
    {
     "data": {
      "text/html": [
       "<div>\n",
       "<style scoped>\n",
       "    .dataframe tbody tr th:only-of-type {\n",
       "        vertical-align: middle;\n",
       "    }\n",
       "\n",
       "    .dataframe tbody tr th {\n",
       "        vertical-align: top;\n",
       "    }\n",
       "\n",
       "    .dataframe thead th {\n",
       "        text-align: right;\n",
       "    }\n",
       "</style>\n",
       "<table border=\"1\" class=\"dataframe\">\n",
       "  <thead>\n",
       "    <tr style=\"text-align: right;\">\n",
       "      <th></th>\n",
       "      <th>Age</th>\n",
       "      <th>Gender</th>\n",
       "      <th>Income</th>\n",
       "      <th>Education</th>\n",
       "      <th>Marital Status</th>\n",
       "      <th>Number of Children</th>\n",
       "      <th>Home Ownership</th>\n",
       "      <th>Credit Score</th>\n",
       "      <th>Loan amount</th>\n",
       "      <th>EMI</th>\n",
       "      <th>Inhand Sallary</th>\n",
       "    </tr>\n",
       "  </thead>\n",
       "  <tbody>\n",
       "    <tr>\n",
       "      <th>0</th>\n",
       "      <td>0.928571</td>\n",
       "      <td>0.0</td>\n",
       "      <td>0.800000</td>\n",
       "      <td>0.50</td>\n",
       "      <td>1.0</td>\n",
       "      <td>0.0</td>\n",
       "      <td>1.0</td>\n",
       "      <td>1.0</td>\n",
       "      <td>0.141643</td>\n",
       "      <td>0.796296</td>\n",
       "      <td>0.796300</td>\n",
       "    </tr>\n",
       "    <tr>\n",
       "      <th>1</th>\n",
       "      <td>0.500000</td>\n",
       "      <td>1.0</td>\n",
       "      <td>0.272727</td>\n",
       "      <td>0.50</td>\n",
       "      <td>1.0</td>\n",
       "      <td>1.0</td>\n",
       "      <td>1.0</td>\n",
       "      <td>1.0</td>\n",
       "      <td>0.315392</td>\n",
       "      <td>0.259259</td>\n",
       "      <td>0.259267</td>\n",
       "    </tr>\n",
       "    <tr>\n",
       "      <th>2</th>\n",
       "      <td>0.750000</td>\n",
       "      <td>1.0</td>\n",
       "      <td>0.509091</td>\n",
       "      <td>0.00</td>\n",
       "      <td>1.0</td>\n",
       "      <td>0.5</td>\n",
       "      <td>1.0</td>\n",
       "      <td>1.0</td>\n",
       "      <td>0.260623</td>\n",
       "      <td>0.500000</td>\n",
       "      <td>0.500000</td>\n",
       "    </tr>\n",
       "    <tr>\n",
       "      <th>3</th>\n",
       "      <td>0.821429</td>\n",
       "      <td>1.0</td>\n",
       "      <td>0.454545</td>\n",
       "      <td>1.00</td>\n",
       "      <td>1.0</td>\n",
       "      <td>0.5</td>\n",
       "      <td>1.0</td>\n",
       "      <td>1.0</td>\n",
       "      <td>0.169027</td>\n",
       "      <td>0.444444</td>\n",
       "      <td>0.444444</td>\n",
       "    </tr>\n",
       "    <tr>\n",
       "      <th>4</th>\n",
       "      <td>0.357143</td>\n",
       "      <td>1.0</td>\n",
       "      <td>0.472727</td>\n",
       "      <td>1.00</td>\n",
       "      <td>1.0</td>\n",
       "      <td>0.5</td>\n",
       "      <td>1.0</td>\n",
       "      <td>1.0</td>\n",
       "      <td>0.617564</td>\n",
       "      <td>0.462963</td>\n",
       "      <td>0.462967</td>\n",
       "    </tr>\n",
       "    <tr>\n",
       "      <th>...</th>\n",
       "      <td>...</td>\n",
       "      <td>...</td>\n",
       "      <td>...</td>\n",
       "      <td>...</td>\n",
       "      <td>...</td>\n",
       "      <td>...</td>\n",
       "      <td>...</td>\n",
       "      <td>...</td>\n",
       "      <td>...</td>\n",
       "      <td>...</td>\n",
       "      <td>...</td>\n",
       "    </tr>\n",
       "    <tr>\n",
       "      <th>201</th>\n",
       "      <td>0.071429</td>\n",
       "      <td>1.0</td>\n",
       "      <td>0.072727</td>\n",
       "      <td>0.00</td>\n",
       "      <td>0.0</td>\n",
       "      <td>0.0</td>\n",
       "      <td>0.0</td>\n",
       "      <td>0.0</td>\n",
       "      <td>0.043437</td>\n",
       "      <td>0.055556</td>\n",
       "      <td>0.055556</td>\n",
       "    </tr>\n",
       "    <tr>\n",
       "      <th>202</th>\n",
       "      <td>0.142857</td>\n",
       "      <td>1.0</td>\n",
       "      <td>0.000000</td>\n",
       "      <td>0.00</td>\n",
       "      <td>1.0</td>\n",
       "      <td>0.0</td>\n",
       "      <td>0.0</td>\n",
       "      <td>0.0</td>\n",
       "      <td>0.383609</td>\n",
       "      <td>0.447557</td>\n",
       "      <td>0.074078</td>\n",
       "    </tr>\n",
       "    <tr>\n",
       "      <th>203</th>\n",
       "      <td>0.035714</td>\n",
       "      <td>1.0</td>\n",
       "      <td>0.109091</td>\n",
       "      <td>0.25</td>\n",
       "      <td>0.0</td>\n",
       "      <td>0.0</td>\n",
       "      <td>0.0</td>\n",
       "      <td>0.5</td>\n",
       "      <td>0.375826</td>\n",
       "      <td>0.092592</td>\n",
       "      <td>0.092600</td>\n",
       "    </tr>\n",
       "    <tr>\n",
       "      <th>204</th>\n",
       "      <td>0.035714</td>\n",
       "      <td>1.0</td>\n",
       "      <td>0.163636</td>\n",
       "      <td>0.25</td>\n",
       "      <td>0.0</td>\n",
       "      <td>0.0</td>\n",
       "      <td>0.0</td>\n",
       "      <td>0.5</td>\n",
       "      <td>0.457979</td>\n",
       "      <td>0.148148</td>\n",
       "      <td>0.148156</td>\n",
       "    </tr>\n",
       "    <tr>\n",
       "      <th>205</th>\n",
       "      <td>0.035714</td>\n",
       "      <td>0.0</td>\n",
       "      <td>0.181818</td>\n",
       "      <td>0.00</td>\n",
       "      <td>0.0</td>\n",
       "      <td>0.0</td>\n",
       "      <td>0.0</td>\n",
       "      <td>0.5</td>\n",
       "      <td>0.353163</td>\n",
       "      <td>0.166667</td>\n",
       "      <td>0.166667</td>\n",
       "    </tr>\n",
       "  </tbody>\n",
       "</table>\n",
       "<p>206 rows × 11 columns</p>\n",
       "</div>"
      ],
      "text/plain": [
       "          Age  Gender    Income  Education  Marital Status  \\\n",
       "0    0.928571     0.0  0.800000       0.50             1.0   \n",
       "1    0.500000     1.0  0.272727       0.50             1.0   \n",
       "2    0.750000     1.0  0.509091       0.00             1.0   \n",
       "3    0.821429     1.0  0.454545       1.00             1.0   \n",
       "4    0.357143     1.0  0.472727       1.00             1.0   \n",
       "..        ...     ...       ...        ...             ...   \n",
       "201  0.071429     1.0  0.072727       0.00             0.0   \n",
       "202  0.142857     1.0  0.000000       0.00             1.0   \n",
       "203  0.035714     1.0  0.109091       0.25             0.0   \n",
       "204  0.035714     1.0  0.163636       0.25             0.0   \n",
       "205  0.035714     0.0  0.181818       0.00             0.0   \n",
       "\n",
       "     Number of Children  Home Ownership  Credit Score  Loan amount       EMI  \\\n",
       "0                   0.0             1.0           1.0     0.141643  0.796296   \n",
       "1                   1.0             1.0           1.0     0.315392  0.259259   \n",
       "2                   0.5             1.0           1.0     0.260623  0.500000   \n",
       "3                   0.5             1.0           1.0     0.169027  0.444444   \n",
       "4                   0.5             1.0           1.0     0.617564  0.462963   \n",
       "..                  ...             ...           ...          ...       ...   \n",
       "201                 0.0             0.0           0.0     0.043437  0.055556   \n",
       "202                 0.0             0.0           0.0     0.383609  0.447557   \n",
       "203                 0.0             0.0           0.5     0.375826  0.092592   \n",
       "204                 0.0             0.0           0.5     0.457979  0.148148   \n",
       "205                 0.0             0.0           0.5     0.353163  0.166667   \n",
       "\n",
       "     Inhand Sallary  \n",
       "0          0.796300  \n",
       "1          0.259267  \n",
       "2          0.500000  \n",
       "3          0.444444  \n",
       "4          0.462967  \n",
       "..              ...  \n",
       "201        0.055556  \n",
       "202        0.074078  \n",
       "203        0.092600  \n",
       "204        0.148156  \n",
       "205        0.166667  \n",
       "\n",
       "[206 rows x 11 columns]"
      ]
     },
     "execution_count": 606,
     "metadata": {},
     "output_type": "execute_result"
    }
   ],
   "source": [
    "x_train_normal = normalization(x_train)\n",
    "x_train_normal"
   ]
  },
  {
   "cell_type": "code",
   "execution_count": 607,
   "id": "f35c3b29",
   "metadata": {
    "scrolled": true
   },
   "outputs": [
    {
     "data": {
      "text/html": [
       "<div>\n",
       "<style scoped>\n",
       "    .dataframe tbody tr th:only-of-type {\n",
       "        vertical-align: middle;\n",
       "    }\n",
       "\n",
       "    .dataframe tbody tr th {\n",
       "        vertical-align: top;\n",
       "    }\n",
       "\n",
       "    .dataframe thead th {\n",
       "        text-align: right;\n",
       "    }\n",
       "</style>\n",
       "<table border=\"1\" class=\"dataframe\">\n",
       "  <thead>\n",
       "    <tr style=\"text-align: right;\">\n",
       "      <th></th>\n",
       "      <th>Age</th>\n",
       "      <th>Gender</th>\n",
       "      <th>Income</th>\n",
       "      <th>Education</th>\n",
       "      <th>Marital Status</th>\n",
       "      <th>Number of Children</th>\n",
       "      <th>Home Ownership</th>\n",
       "      <th>Credit Score</th>\n",
       "      <th>Loan amount</th>\n",
       "      <th>EMI</th>\n",
       "      <th>Inhand Sallary</th>\n",
       "    </tr>\n",
       "  </thead>\n",
       "  <tbody>\n",
       "    <tr>\n",
       "      <th>0</th>\n",
       "      <td>0.96</td>\n",
       "      <td>1.0</td>\n",
       "      <td>0.405405</td>\n",
       "      <td>1.00</td>\n",
       "      <td>1.0</td>\n",
       "      <td>0.5</td>\n",
       "      <td>1.0</td>\n",
       "      <td>1.0</td>\n",
       "      <td>0.103339</td>\n",
       "      <td>0.371429</td>\n",
       "      <td>0.371419</td>\n",
       "    </tr>\n",
       "    <tr>\n",
       "      <th>1</th>\n",
       "      <td>0.40</td>\n",
       "      <td>1.0</td>\n",
       "      <td>0.513514</td>\n",
       "      <td>1.00</td>\n",
       "      <td>1.0</td>\n",
       "      <td>0.5</td>\n",
       "      <td>1.0</td>\n",
       "      <td>1.0</td>\n",
       "      <td>0.809221</td>\n",
       "      <td>0.485714</td>\n",
       "      <td>0.485711</td>\n",
       "    </tr>\n",
       "    <tr>\n",
       "      <th>2</th>\n",
       "      <td>0.76</td>\n",
       "      <td>0.0</td>\n",
       "      <td>0.648649</td>\n",
       "      <td>0.75</td>\n",
       "      <td>0.0</td>\n",
       "      <td>0.0</td>\n",
       "      <td>1.0</td>\n",
       "      <td>1.0</td>\n",
       "      <td>0.467409</td>\n",
       "      <td>0.628572</td>\n",
       "      <td>0.628564</td>\n",
       "    </tr>\n",
       "    <tr>\n",
       "      <th>3</th>\n",
       "      <td>0.64</td>\n",
       "      <td>0.0</td>\n",
       "      <td>1.000000</td>\n",
       "      <td>1.00</td>\n",
       "      <td>0.0</td>\n",
       "      <td>0.0</td>\n",
       "      <td>1.0</td>\n",
       "      <td>1.0</td>\n",
       "      <td>0.923688</td>\n",
       "      <td>1.000000</td>\n",
       "      <td>1.000000</td>\n",
       "    </tr>\n",
       "    <tr>\n",
       "      <th>4</th>\n",
       "      <td>0.28</td>\n",
       "      <td>0.0</td>\n",
       "      <td>0.324324</td>\n",
       "      <td>0.25</td>\n",
       "      <td>0.0</td>\n",
       "      <td>0.0</td>\n",
       "      <td>0.0</td>\n",
       "      <td>0.5</td>\n",
       "      <td>0.696343</td>\n",
       "      <td>0.285714</td>\n",
       "      <td>0.285704</td>\n",
       "    </tr>\n",
       "    <tr>\n",
       "      <th>...</th>\n",
       "      <td>...</td>\n",
       "      <td>...</td>\n",
       "      <td>...</td>\n",
       "      <td>...</td>\n",
       "      <td>...</td>\n",
       "      <td>...</td>\n",
       "      <td>...</td>\n",
       "      <td>...</td>\n",
       "      <td>...</td>\n",
       "      <td>...</td>\n",
       "      <td>...</td>\n",
       "    </tr>\n",
       "    <tr>\n",
       "      <th>65</th>\n",
       "      <td>0.08</td>\n",
       "      <td>1.0</td>\n",
       "      <td>0.000000</td>\n",
       "      <td>0.00</td>\n",
       "      <td>0.0</td>\n",
       "      <td>0.0</td>\n",
       "      <td>0.0</td>\n",
       "      <td>0.0</td>\n",
       "      <td>0.046105</td>\n",
       "      <td>0.057143</td>\n",
       "      <td>0.057137</td>\n",
       "    </tr>\n",
       "    <tr>\n",
       "      <th>66</th>\n",
       "      <td>0.04</td>\n",
       "      <td>0.0</td>\n",
       "      <td>0.189189</td>\n",
       "      <td>0.25</td>\n",
       "      <td>0.0</td>\n",
       "      <td>0.0</td>\n",
       "      <td>0.0</td>\n",
       "      <td>0.5</td>\n",
       "      <td>0.456280</td>\n",
       "      <td>0.142857</td>\n",
       "      <td>0.142852</td>\n",
       "    </tr>\n",
       "    <tr>\n",
       "      <th>67</th>\n",
       "      <td>0.04</td>\n",
       "      <td>0.0</td>\n",
       "      <td>0.189189</td>\n",
       "      <td>0.25</td>\n",
       "      <td>0.0</td>\n",
       "      <td>0.0</td>\n",
       "      <td>0.0</td>\n",
       "      <td>0.5</td>\n",
       "      <td>0.456280</td>\n",
       "      <td>0.142857</td>\n",
       "      <td>0.142852</td>\n",
       "    </tr>\n",
       "    <tr>\n",
       "      <th>68</th>\n",
       "      <td>0.08</td>\n",
       "      <td>1.0</td>\n",
       "      <td>0.000000</td>\n",
       "      <td>0.00</td>\n",
       "      <td>0.0</td>\n",
       "      <td>0.0</td>\n",
       "      <td>0.0</td>\n",
       "      <td>0.0</td>\n",
       "      <td>0.046105</td>\n",
       "      <td>0.057143</td>\n",
       "      <td>0.057137</td>\n",
       "    </tr>\n",
       "    <tr>\n",
       "      <th>69</th>\n",
       "      <td>0.08</td>\n",
       "      <td>1.0</td>\n",
       "      <td>0.054054</td>\n",
       "      <td>0.00</td>\n",
       "      <td>0.0</td>\n",
       "      <td>0.0</td>\n",
       "      <td>1.0</td>\n",
       "      <td>0.0</td>\n",
       "      <td>0.000000</td>\n",
       "      <td>0.000000</td>\n",
       "      <td>0.000000</td>\n",
       "    </tr>\n",
       "  </tbody>\n",
       "</table>\n",
       "<p>70 rows × 11 columns</p>\n",
       "</div>"
      ],
      "text/plain": [
       "     Age  Gender    Income  Education  Marital Status  Number of Children  \\\n",
       "0   0.96     1.0  0.405405       1.00             1.0                 0.5   \n",
       "1   0.40     1.0  0.513514       1.00             1.0                 0.5   \n",
       "2   0.76     0.0  0.648649       0.75             0.0                 0.0   \n",
       "3   0.64     0.0  1.000000       1.00             0.0                 0.0   \n",
       "4   0.28     0.0  0.324324       0.25             0.0                 0.0   \n",
       "..   ...     ...       ...        ...             ...                 ...   \n",
       "65  0.08     1.0  0.000000       0.00             0.0                 0.0   \n",
       "66  0.04     0.0  0.189189       0.25             0.0                 0.0   \n",
       "67  0.04     0.0  0.189189       0.25             0.0                 0.0   \n",
       "68  0.08     1.0  0.000000       0.00             0.0                 0.0   \n",
       "69  0.08     1.0  0.054054       0.00             0.0                 0.0   \n",
       "\n",
       "    Home Ownership  Credit Score  Loan amount       EMI  Inhand Sallary  \n",
       "0              1.0           1.0     0.103339  0.371429        0.371419  \n",
       "1              1.0           1.0     0.809221  0.485714        0.485711  \n",
       "2              1.0           1.0     0.467409  0.628572        0.628564  \n",
       "3              1.0           1.0     0.923688  1.000000        1.000000  \n",
       "4              0.0           0.5     0.696343  0.285714        0.285704  \n",
       "..             ...           ...          ...       ...             ...  \n",
       "65             0.0           0.0     0.046105  0.057143        0.057137  \n",
       "66             0.0           0.5     0.456280  0.142857        0.142852  \n",
       "67             0.0           0.5     0.456280  0.142857        0.142852  \n",
       "68             0.0           0.0     0.046105  0.057143        0.057137  \n",
       "69             1.0           0.0     0.000000  0.000000        0.000000  \n",
       "\n",
       "[70 rows x 11 columns]"
      ]
     },
     "execution_count": 607,
     "metadata": {},
     "output_type": "execute_result"
    }
   ],
   "source": [
    "x_test_normal = normalization(x_test)\n",
    "x_test_normal"
   ]
  },
  {
   "cell_type": "markdown",
   "id": "6353c71a",
   "metadata": {},
   "source": [
    "# Model Building"
   ]
  },
  {
   "cell_type": "markdown",
   "id": "efd52935",
   "metadata": {},
   "source": [
    "### Adaptive Boosting Classifier"
   ]
  },
  {
   "cell_type": "code",
   "execution_count": 630,
   "id": "ca0edb3d",
   "metadata": {},
   "outputs": [
    {
     "data": {
      "text/html": [
       "<style>#sk-container-id-19 {color: black;background-color: white;}#sk-container-id-19 pre{padding: 0;}#sk-container-id-19 div.sk-toggleable {background-color: white;}#sk-container-id-19 label.sk-toggleable__label {cursor: pointer;display: block;width: 100%;margin-bottom: 0;padding: 0.3em;box-sizing: border-box;text-align: center;}#sk-container-id-19 label.sk-toggleable__label-arrow:before {content: \"▸\";float: left;margin-right: 0.25em;color: #696969;}#sk-container-id-19 label.sk-toggleable__label-arrow:hover:before {color: black;}#sk-container-id-19 div.sk-estimator:hover label.sk-toggleable__label-arrow:before {color: black;}#sk-container-id-19 div.sk-toggleable__content {max-height: 0;max-width: 0;overflow: hidden;text-align: left;background-color: #f0f8ff;}#sk-container-id-19 div.sk-toggleable__content pre {margin: 0.2em;color: black;border-radius: 0.25em;background-color: #f0f8ff;}#sk-container-id-19 input.sk-toggleable__control:checked~div.sk-toggleable__content {max-height: 200px;max-width: 100%;overflow: auto;}#sk-container-id-19 input.sk-toggleable__control:checked~label.sk-toggleable__label-arrow:before {content: \"▾\";}#sk-container-id-19 div.sk-estimator input.sk-toggleable__control:checked~label.sk-toggleable__label {background-color: #d4ebff;}#sk-container-id-19 div.sk-label input.sk-toggleable__control:checked~label.sk-toggleable__label {background-color: #d4ebff;}#sk-container-id-19 input.sk-hidden--visually {border: 0;clip: rect(1px 1px 1px 1px);clip: rect(1px, 1px, 1px, 1px);height: 1px;margin: -1px;overflow: hidden;padding: 0;position: absolute;width: 1px;}#sk-container-id-19 div.sk-estimator {font-family: monospace;background-color: #f0f8ff;border: 1px dotted black;border-radius: 0.25em;box-sizing: border-box;margin-bottom: 0.5em;}#sk-container-id-19 div.sk-estimator:hover {background-color: #d4ebff;}#sk-container-id-19 div.sk-parallel-item::after {content: \"\";width: 100%;border-bottom: 1px solid gray;flex-grow: 1;}#sk-container-id-19 div.sk-label:hover label.sk-toggleable__label {background-color: #d4ebff;}#sk-container-id-19 div.sk-serial::before {content: \"\";position: absolute;border-left: 1px solid gray;box-sizing: border-box;top: 0;bottom: 0;left: 50%;z-index: 0;}#sk-container-id-19 div.sk-serial {display: flex;flex-direction: column;align-items: center;background-color: white;padding-right: 0.2em;padding-left: 0.2em;position: relative;}#sk-container-id-19 div.sk-item {position: relative;z-index: 1;}#sk-container-id-19 div.sk-parallel {display: flex;align-items: stretch;justify-content: center;background-color: white;position: relative;}#sk-container-id-19 div.sk-item::before, #sk-container-id-19 div.sk-parallel-item::before {content: \"\";position: absolute;border-left: 1px solid gray;box-sizing: border-box;top: 0;bottom: 0;left: 50%;z-index: -1;}#sk-container-id-19 div.sk-parallel-item {display: flex;flex-direction: column;z-index: 1;position: relative;background-color: white;}#sk-container-id-19 div.sk-parallel-item:first-child::after {align-self: flex-end;width: 50%;}#sk-container-id-19 div.sk-parallel-item:last-child::after {align-self: flex-start;width: 50%;}#sk-container-id-19 div.sk-parallel-item:only-child::after {width: 0;}#sk-container-id-19 div.sk-dashed-wrapped {border: 1px dashed gray;margin: 0 0.4em 0.5em 0.4em;box-sizing: border-box;padding-bottom: 0.4em;background-color: white;}#sk-container-id-19 div.sk-label label {font-family: monospace;font-weight: bold;display: inline-block;line-height: 1.2em;}#sk-container-id-19 div.sk-label-container {text-align: center;}#sk-container-id-19 div.sk-container {/* jupyter's `normalize.less` sets `[hidden] { display: none; }` but bootstrap.min.css set `[hidden] { display: none !important; }` so we also need the `!important` here to be able to override the default hidden behavior on the sphinx rendered scikit-learn.org. See: https://github.com/scikit-learn/scikit-learn/issues/21755 */display: inline-block !important;position: relative;}#sk-container-id-19 div.sk-text-repr-fallback {display: none;}</style><div id=\"sk-container-id-19\" class=\"sk-top-container\"><div class=\"sk-text-repr-fallback\"><pre>AdaBoostClassifier(estimator=LogisticRegression(), random_state=39)</pre><b>In a Jupyter environment, please rerun this cell to show the HTML representation or trust the notebook. <br />On GitHub, the HTML representation is unable to render, please try loading this page with nbviewer.org.</b></div><div class=\"sk-container\" hidden><div class=\"sk-item sk-dashed-wrapped\"><div class=\"sk-label-container\"><div class=\"sk-label sk-toggleable\"><input class=\"sk-toggleable__control sk-hidden--visually\" id=\"sk-estimator-id-19\" type=\"checkbox\" ><label for=\"sk-estimator-id-19\" class=\"sk-toggleable__label sk-toggleable__label-arrow\">AdaBoostClassifier</label><div class=\"sk-toggleable__content\"><pre>AdaBoostClassifier(estimator=LogisticRegression(), random_state=39)</pre></div></div></div><div class=\"sk-parallel\"><div class=\"sk-parallel-item\"><div class=\"sk-item\"><div class=\"sk-label-container\"><div class=\"sk-label sk-toggleable\"><input class=\"sk-toggleable__control sk-hidden--visually\" id=\"sk-estimator-id-20\" type=\"checkbox\" ><label for=\"sk-estimator-id-20\" class=\"sk-toggleable__label sk-toggleable__label-arrow\">estimator: LogisticRegression</label><div class=\"sk-toggleable__content\"><pre>LogisticRegression()</pre></div></div></div><div class=\"sk-serial\"><div class=\"sk-item\"><div class=\"sk-estimator sk-toggleable\"><input class=\"sk-toggleable__control sk-hidden--visually\" id=\"sk-estimator-id-21\" type=\"checkbox\" ><label for=\"sk-estimator-id-21\" class=\"sk-toggleable__label sk-toggleable__label-arrow\">LogisticRegression</label><div class=\"sk-toggleable__content\"><pre>LogisticRegression()</pre></div></div></div></div></div></div></div></div></div></div>"
      ],
      "text/plain": [
       "AdaBoostClassifier(estimator=LogisticRegression(), random_state=39)"
      ]
     },
     "execution_count": 630,
     "metadata": {},
     "output_type": "execute_result"
    }
   ],
   "source": [
    "model_name = 'Adaptive Boosting Classifier'\n",
    "adb_clf = adaboost_clf_training(x_train_normal,y_train)\n",
    "adb_clf"
   ]
  },
  {
   "cell_type": "markdown",
   "id": "a567e130",
   "metadata": {},
   "source": [
    "# Model Evaluation"
   ]
  },
  {
   "cell_type": "code",
   "execution_count": 631,
   "id": "6b536bd6",
   "metadata": {},
   "outputs": [
    {
     "name": "stdout",
     "output_type": "stream",
     "text": [
      "************************************************** Testing Data **************************************************\n",
      "The confusion Matrix is :\n",
      " [[35  0]\n",
      " [ 2 33]]\n"
     ]
    },
    {
     "data": {
      "image/png": "[encoded data removed]",
      "text/plain": [
       "<Figure size 640x480 with 2 Axes>"
      ]
     },
     "metadata": {},
     "output_type": "display_data"
    },
    {
     "name": "stdout",
     "output_type": "stream",
     "text": [
      "==================================================\n",
      "The Accuracy is :  0.9714285714285714\n",
      "==================================================\n",
      "The Classification report is :\n",
      "               precision    recall  f1-score   support\n",
      "\n",
      "           0       0.95      1.00      0.97        35\n",
      "           1       1.00      0.94      0.97        35\n",
      "\n",
      "    accuracy                           0.97        70\n",
      "   macro avg       0.97      0.97      0.97        70\n",
      "weighted avg       0.97      0.97      0.97        70\n",
      "\n",
      "************************************************** Training Data **************************************************\n",
      "The confusion matrix is :\n",
      " [[103   0]\n",
      " [ 11  92]]\n"
     ]
    },
    {
     "data": {
      "image/png": "[encoded data removed]",
      "text/plain": [
       "<Figure size 640x480 with 2 Axes>"
      ]
     },
     "metadata": {},
     "output_type": "display_data"
    },
    {
     "name": "stdout",
     "output_type": "stream",
     "text": [
      "==================================================\n",
      "The accuracy is :  0.9466019417475728\n",
      "==================================================\n",
      "The classification Report is :\n",
      "               precision    recall  f1-score   support\n",
      "\n",
      "           0       0.90      1.00      0.95       103\n",
      "           1       1.00      0.89      0.94       103\n",
      "\n",
      "    accuracy                           0.95       206\n",
      "   macro avg       0.95      0.95      0.95       206\n",
      "weighted avg       0.95      0.95      0.95       206\n",
      "\n"
     ]
    }
   ],
   "source": [
    "# evaluation for testing data\n",
    "\n",
    "model_evaluation_testing(adb_clf,x_test_normal,y_test)\n",
    "\n",
    "# evaluation for training data\n",
    "\n",
    "model_evaluation_training(adb_clf,x_train_normal,y_train)"
   ]
  },
  {
   "cell_type": "code",
   "execution_count": 632,
   "id": "fd961cf9",
   "metadata": {},
   "outputs": [
    {
     "data": {
      "image/png": "[encoded data removed]",
      "text/plain": [
       "<Figure size 640x480 with 1 Axes>"
      ]
     },
     "metadata": {},
     "output_type": "display_data"
    },
    {
     "name": "stdout",
     "output_type": "stream",
     "text": [
      "The AUC is :  0.9920821943632764\n"
     ]
    }
   ],
   "source": [
    "get_auc_roc_curve(adb_clf,x_train_normal,y_train)"
   ]
  },
  {
   "cell_type": "raw",
   "id": "5908bec6",
   "metadata": {},
   "source": [
    "s1 = pd.Series(adb_clf.feature_importances_,index=x_train.columns)\n",
    "s1.sort_values().plot(kind='barh')\n",
    "plt.show()"
   ]
  },
  {
   "cell_type": "markdown",
   "id": "402ef536",
   "metadata": {},
   "source": [
    "# Hyper-parameter Tunning"
   ]
  },
  {
   "cell_type": "code",
   "execution_count": 635,
   "id": "6cc886a2",
   "metadata": {},
   "outputs": [
    {
     "data": {
      "text/html": [
       "<style>#sk-container-id-20 {color: black;background-color: white;}#sk-container-id-20 pre{padding: 0;}#sk-container-id-20 div.sk-toggleable {background-color: white;}#sk-container-id-20 label.sk-toggleable__label {cursor: pointer;display: block;width: 100%;margin-bottom: 0;padding: 0.3em;box-sizing: border-box;text-align: center;}#sk-container-id-20 label.sk-toggleable__label-arrow:before {content: \"▸\";float: left;margin-right: 0.25em;color: #696969;}#sk-container-id-20 label.sk-toggleable__label-arrow:hover:before {color: black;}#sk-container-id-20 div.sk-estimator:hover label.sk-toggleable__label-arrow:before {color: black;}#sk-container-id-20 div.sk-toggleable__content {max-height: 0;max-width: 0;overflow: hidden;text-align: left;background-color: #f0f8ff;}#sk-container-id-20 div.sk-toggleable__content pre {margin: 0.2em;color: black;border-radius: 0.25em;background-color: #f0f8ff;}#sk-container-id-20 input.sk-toggleable__control:checked~div.sk-toggleable__content {max-height: 200px;max-width: 100%;overflow: auto;}#sk-container-id-20 input.sk-toggleable__control:checked~label.sk-toggleable__label-arrow:before {content: \"▾\";}#sk-container-id-20 div.sk-estimator input.sk-toggleable__control:checked~label.sk-toggleable__label {background-color: #d4ebff;}#sk-container-id-20 div.sk-label input.sk-toggleable__control:checked~label.sk-toggleable__label {background-color: #d4ebff;}#sk-container-id-20 input.sk-hidden--visually {border: 0;clip: rect(1px 1px 1px 1px);clip: rect(1px, 1px, 1px, 1px);height: 1px;margin: -1px;overflow: hidden;padding: 0;position: absolute;width: 1px;}#sk-container-id-20 div.sk-estimator {font-family: monospace;background-color: #f0f8ff;border: 1px dotted black;border-radius: 0.25em;box-sizing: border-box;margin-bottom: 0.5em;}#sk-container-id-20 div.sk-estimator:hover {background-color: #d4ebff;}#sk-container-id-20 div.sk-parallel-item::after {content: \"\";width: 100%;border-bottom: 1px solid gray;flex-grow: 1;}#sk-container-id-20 div.sk-label:hover label.sk-toggleable__label {background-color: #d4ebff;}#sk-container-id-20 div.sk-serial::before {content: \"\";position: absolute;border-left: 1px solid gray;box-sizing: border-box;top: 0;bottom: 0;left: 50%;z-index: 0;}#sk-container-id-20 div.sk-serial {display: flex;flex-direction: column;align-items: center;background-color: white;padding-right: 0.2em;padding-left: 0.2em;position: relative;}#sk-container-id-20 div.sk-item {position: relative;z-index: 1;}#sk-container-id-20 div.sk-parallel {display: flex;align-items: stretch;justify-content: center;background-color: white;position: relative;}#sk-container-id-20 div.sk-item::before, #sk-container-id-20 div.sk-parallel-item::before {content: \"\";position: absolute;border-left: 1px solid gray;box-sizing: border-box;top: 0;bottom: 0;left: 50%;z-index: -1;}#sk-container-id-20 div.sk-parallel-item {display: flex;flex-direction: column;z-index: 1;position: relative;background-color: white;}#sk-container-id-20 div.sk-parallel-item:first-child::after {align-self: flex-end;width: 50%;}#sk-container-id-20 div.sk-parallel-item:last-child::after {align-self: flex-start;width: 50%;}#sk-container-id-20 div.sk-parallel-item:only-child::after {width: 0;}#sk-container-id-20 div.sk-dashed-wrapped {border: 1px dashed gray;margin: 0 0.4em 0.5em 0.4em;box-sizing: border-box;padding-bottom: 0.4em;background-color: white;}#sk-container-id-20 div.sk-label label {font-family: monospace;font-weight: bold;display: inline-block;line-height: 1.2em;}#sk-container-id-20 div.sk-label-container {text-align: center;}#sk-container-id-20 div.sk-container {/* jupyter's `normalize.less` sets `[hidden] { display: none; }` but bootstrap.min.css set `[hidden] { display: none !important; }` so we also need the `!important` here to be able to override the default hidden behavior on the sphinx rendered scikit-learn.org. See: https://github.com/scikit-learn/scikit-learn/issues/21755 */display: inline-block !important;position: relative;}#sk-container-id-20 div.sk-text-repr-fallback {display: none;}</style><div id=\"sk-container-id-20\" class=\"sk-top-container\"><div class=\"sk-text-repr-fallback\"><pre>AdaBoostClassifier(learning_rate=0.039)</pre><b>In a Jupyter environment, please rerun this cell to show the HTML representation or trust the notebook. <br />On GitHub, the HTML representation is unable to render, please try loading this page with nbviewer.org.</b></div><div class=\"sk-container\" hidden><div class=\"sk-item\"><div class=\"sk-estimator sk-toggleable\"><input class=\"sk-toggleable__control sk-hidden--visually\" id=\"sk-estimator-id-22\" type=\"checkbox\" checked><label for=\"sk-estimator-id-22\" class=\"sk-toggleable__label sk-toggleable__label-arrow\">AdaBoostClassifier</label><div class=\"sk-toggleable__content\"><pre>AdaBoostClassifier(learning_rate=0.039)</pre></div></div></div></div></div>"
      ],
      "text/plain": [
       "AdaBoostClassifier(learning_rate=0.039)"
      ]
     },
     "execution_count": 635,
     "metadata": {},
     "output_type": "execute_result"
    }
   ],
   "source": [
    "gscv_adb_clf = adb_gscv_best_estimator(x_train_normal,y_train)\n",
    "gscv_adb_clf"
   ]
  },
  {
   "cell_type": "code",
   "execution_count": 636,
   "id": "5442d083",
   "metadata": {},
   "outputs": [
    {
     "name": "stdout",
     "output_type": "stream",
     "text": [
      "************************************************** Testing Data **************************************************\n",
      "The confusion Matrix is :\n",
      " [[35  0]\n",
      " [ 0 35]]\n"
     ]
    },
    {
     "data": {
      "image/png": "[encoded data removed]",
      "text/plain": [
       "<Figure size 640x480 with 2 Axes>"
      ]
     },
     "metadata": {},
     "output_type": "display_data"
    },
    {
     "name": "stdout",
     "output_type": "stream",
     "text": [
      "==================================================\n",
      "The Accuracy is :  1.0\n",
      "==================================================\n",
      "The Classification report is :\n",
      "               precision    recall  f1-score   support\n",
      "\n",
      "           0       1.00      1.00      1.00        35\n",
      "           1       1.00      1.00      1.00        35\n",
      "\n",
      "    accuracy                           1.00        70\n",
      "   macro avg       1.00      1.00      1.00        70\n",
      "weighted avg       1.00      1.00      1.00        70\n",
      "\n",
      "************************************************** Training Data **************************************************\n",
      "The confusion matrix is :\n",
      " [[103   0]\n",
      " [  0 103]]\n"
     ]
    },
    {
     "data": {
      "image/png": "[encoded data removed]",
      "text/plain": [
       "<Figure size 640x480 with 2 Axes>"
      ]
     },
     "metadata": {},
     "output_type": "display_data"
    },
    {
     "name": "stdout",
     "output_type": "stream",
     "text": [
      "==================================================\n",
      "The accuracy is :  1.0\n",
      "==================================================\n",
      "The classification Report is :\n",
      "               precision    recall  f1-score   support\n",
      "\n",
      "           0       1.00      1.00      1.00       103\n",
      "           1       1.00      1.00      1.00       103\n",
      "\n",
      "    accuracy                           1.00       206\n",
      "   macro avg       1.00      1.00      1.00       206\n",
      "weighted avg       1.00      1.00      1.00       206\n",
      "\n"
     ]
    }
   ],
   "source": [
    "# evaluation for testing data\n",
    "\n",
    "model_evaluation_testing(gscv_adb_clf,x_test_normal,y_test)\n",
    "\n",
    "# evaluation for training data\n",
    "\n",
    "model_evaluation_training(gscv_adb_clf,x_train_normal,y_train)"
   ]
  },
  {
   "cell_type": "code",
   "execution_count": 637,
   "id": "ac3b7774",
   "metadata": {},
   "outputs": [
    {
     "data": {
      "text/html": [
       "<style>#sk-container-id-21 {color: black;background-color: white;}#sk-container-id-21 pre{padding: 0;}#sk-container-id-21 div.sk-toggleable {background-color: white;}#sk-container-id-21 label.sk-toggleable__label {cursor: pointer;display: block;width: 100%;margin-bottom: 0;padding: 0.3em;box-sizing: border-box;text-align: center;}#sk-container-id-21 label.sk-toggleable__label-arrow:before {content: \"▸\";float: left;margin-right: 0.25em;color: #696969;}#sk-container-id-21 label.sk-toggleable__label-arrow:hover:before {color: black;}#sk-container-id-21 div.sk-estimator:hover label.sk-toggleable__label-arrow:before {color: black;}#sk-container-id-21 div.sk-toggleable__content {max-height: 0;max-width: 0;overflow: hidden;text-align: left;background-color: #f0f8ff;}#sk-container-id-21 div.sk-toggleable__content pre {margin: 0.2em;color: black;border-radius: 0.25em;background-color: #f0f8ff;}#sk-container-id-21 input.sk-toggleable__control:checked~div.sk-toggleable__content {max-height: 200px;max-width: 100%;overflow: auto;}#sk-container-id-21 input.sk-toggleable__control:checked~label.sk-toggleable__label-arrow:before {content: \"▾\";}#sk-container-id-21 div.sk-estimator input.sk-toggleable__control:checked~label.sk-toggleable__label {background-color: #d4ebff;}#sk-container-id-21 div.sk-label input.sk-toggleable__control:checked~label.sk-toggleable__label {background-color: #d4ebff;}#sk-container-id-21 input.sk-hidden--visually {border: 0;clip: rect(1px 1px 1px 1px);clip: rect(1px, 1px, 1px, 1px);height: 1px;margin: -1px;overflow: hidden;padding: 0;position: absolute;width: 1px;}#sk-container-id-21 div.sk-estimator {font-family: monospace;background-color: #f0f8ff;border: 1px dotted black;border-radius: 0.25em;box-sizing: border-box;margin-bottom: 0.5em;}#sk-container-id-21 div.sk-estimator:hover {background-color: #d4ebff;}#sk-container-id-21 div.sk-parallel-item::after {content: \"\";width: 100%;border-bottom: 1px solid gray;flex-grow: 1;}#sk-container-id-21 div.sk-label:hover label.sk-toggleable__label {background-color: #d4ebff;}#sk-container-id-21 div.sk-serial::before {content: \"\";position: absolute;border-left: 1px solid gray;box-sizing: border-box;top: 0;bottom: 0;left: 50%;z-index: 0;}#sk-container-id-21 div.sk-serial {display: flex;flex-direction: column;align-items: center;background-color: white;padding-right: 0.2em;padding-left: 0.2em;position: relative;}#sk-container-id-21 div.sk-item {position: relative;z-index: 1;}#sk-container-id-21 div.sk-parallel {display: flex;align-items: stretch;justify-content: center;background-color: white;position: relative;}#sk-container-id-21 div.sk-item::before, #sk-container-id-21 div.sk-parallel-item::before {content: \"\";position: absolute;border-left: 1px solid gray;box-sizing: border-box;top: 0;bottom: 0;left: 50%;z-index: -1;}#sk-container-id-21 div.sk-parallel-item {display: flex;flex-direction: column;z-index: 1;position: relative;background-color: white;}#sk-container-id-21 div.sk-parallel-item:first-child::after {align-self: flex-end;width: 50%;}#sk-container-id-21 div.sk-parallel-item:last-child::after {align-self: flex-start;width: 50%;}#sk-container-id-21 div.sk-parallel-item:only-child::after {width: 0;}#sk-container-id-21 div.sk-dashed-wrapped {border: 1px dashed gray;margin: 0 0.4em 0.5em 0.4em;box-sizing: border-box;padding-bottom: 0.4em;background-color: white;}#sk-container-id-21 div.sk-label label {font-family: monospace;font-weight: bold;display: inline-block;line-height: 1.2em;}#sk-container-id-21 div.sk-label-container {text-align: center;}#sk-container-id-21 div.sk-container {/* jupyter's `normalize.less` sets `[hidden] { display: none; }` but bootstrap.min.css set `[hidden] { display: none !important; }` so we also need the `!important` here to be able to override the default hidden behavior on the sphinx rendered scikit-learn.org. See: https://github.com/scikit-learn/scikit-learn/issues/21755 */display: inline-block !important;position: relative;}#sk-container-id-21 div.sk-text-repr-fallback {display: none;}</style><div id=\"sk-container-id-21\" class=\"sk-top-container\"><div class=\"sk-text-repr-fallback\"><pre>AdaBoostClassifier(learning_rate=0.41000000000000003, n_estimators=90)</pre><b>In a Jupyter environment, please rerun this cell to show the HTML representation or trust the notebook. <br />On GitHub, the HTML representation is unable to render, please try loading this page with nbviewer.org.</b></div><div class=\"sk-container\" hidden><div class=\"sk-item\"><div class=\"sk-estimator sk-toggleable\"><input class=\"sk-toggleable__control sk-hidden--visually\" id=\"sk-estimator-id-23\" type=\"checkbox\" checked><label for=\"sk-estimator-id-23\" class=\"sk-toggleable__label sk-toggleable__label-arrow\">AdaBoostClassifier</label><div class=\"sk-toggleable__content\"><pre>AdaBoostClassifier(learning_rate=0.41000000000000003, n_estimators=90)</pre></div></div></div></div></div>"
      ],
      "text/plain": [
       "AdaBoostClassifier(learning_rate=0.41000000000000003, n_estimators=90)"
      ]
     },
     "execution_count": 637,
     "metadata": {},
     "output_type": "execute_result"
    }
   ],
   "source": [
    "rscv_adb_clf = adb_rscv_best_estimator(x_train_normal,y_train)\n",
    "rscv_adb_clf"
   ]
  },
  {
   "cell_type": "code",
   "execution_count": 638,
   "id": "e41ac3fd",
   "metadata": {},
   "outputs": [
    {
     "name": "stdout",
     "output_type": "stream",
     "text": [
      "************************************************** Testing Data **************************************************\n",
      "The confusion Matrix is :\n",
      " [[35  0]\n",
      " [ 0 35]]\n"
     ]
    },
    {
     "data": {
      "image/png": "[encoded data removed]",
      "text/plain": [
       "<Figure size 640x480 with 2 Axes>"
      ]
     },
     "metadata": {},
     "output_type": "display_data"
    },
    {
     "name": "stdout",
     "output_type": "stream",
     "text": [
      "==================================================\n",
      "The Accuracy is :  1.0\n",
      "==================================================\n",
      "The Classification report is :\n",
      "               precision    recall  f1-score   support\n",
      "\n",
      "           0       1.00      1.00      1.00        35\n",
      "           1       1.00      1.00      1.00        35\n",
      "\n",
      "    accuracy                           1.00        70\n",
      "   macro avg       1.00      1.00      1.00        70\n",
      "weighted avg       1.00      1.00      1.00        70\n",
      "\n",
      "************************************************** Training Data **************************************************\n",
      "The confusion matrix is :\n",
      " [[103   0]\n",
      " [  0 103]]\n"
     ]
    },
    {
     "data": {
      "image/png": "[encoded data removed]",
      "text/plain": [
       "<Figure size 640x480 with 2 Axes>"
      ]
     },
     "metadata": {},
     "output_type": "display_data"
    },
    {
     "name": "stdout",
     "output_type": "stream",
     "text": [
      "==================================================\n",
      "The accuracy is :  1.0\n",
      "==================================================\n",
      "The classification Report is :\n",
      "               precision    recall  f1-score   support\n",
      "\n",
      "           0       1.00      1.00      1.00       103\n",
      "           1       1.00      1.00      1.00       103\n",
      "\n",
      "    accuracy                           1.00       206\n",
      "   macro avg       1.00      1.00      1.00       206\n",
      "weighted avg       1.00      1.00      1.00       206\n",
      "\n"
     ]
    }
   ],
   "source": [
    "# evaluation for testing data\n",
    "\n",
    "model_evaluation_testing(rscv_adb_clf,x_test_normal,y_test)\n",
    "\n",
    "# evaluation for training data\n",
    "\n",
    "model_evaluation_training(rscv_adb_clf,x_train_normal,y_train)"
   ]
  },
  {
   "cell_type": "markdown",
   "id": "fe036f39",
   "metadata": {},
   "source": [
    "### Decision Tree Classifier"
   ]
  },
  {
   "cell_type": "code",
   "execution_count": 619,
   "id": "98e9ea6b",
   "metadata": {},
   "outputs": [
    {
     "data": {
      "text/html": [
       "<style>#sk-container-id-16 {color: black;background-color: white;}#sk-container-id-16 pre{padding: 0;}#sk-container-id-16 div.sk-toggleable {background-color: white;}#sk-container-id-16 label.sk-toggleable__label {cursor: pointer;display: block;width: 100%;margin-bottom: 0;padding: 0.3em;box-sizing: border-box;text-align: center;}#sk-container-id-16 label.sk-toggleable__label-arrow:before {content: \"▸\";float: left;margin-right: 0.25em;color: #696969;}#sk-container-id-16 label.sk-toggleable__label-arrow:hover:before {color: black;}#sk-container-id-16 div.sk-estimator:hover label.sk-toggleable__label-arrow:before {color: black;}#sk-container-id-16 div.sk-toggleable__content {max-height: 0;max-width: 0;overflow: hidden;text-align: left;background-color: #f0f8ff;}#sk-container-id-16 div.sk-toggleable__content pre {margin: 0.2em;color: black;border-radius: 0.25em;background-color: #f0f8ff;}#sk-container-id-16 input.sk-toggleable__control:checked~div.sk-toggleable__content {max-height: 200px;max-width: 100%;overflow: auto;}#sk-container-id-16 input.sk-toggleable__control:checked~label.sk-toggleable__label-arrow:before {content: \"▾\";}#sk-container-id-16 div.sk-estimator input.sk-toggleable__control:checked~label.sk-toggleable__label {background-color: #d4ebff;}#sk-container-id-16 div.sk-label input.sk-toggleable__control:checked~label.sk-toggleable__label {background-color: #d4ebff;}#sk-container-id-16 input.sk-hidden--visually {border: 0;clip: rect(1px 1px 1px 1px);clip: rect(1px, 1px, 1px, 1px);height: 1px;margin: -1px;overflow: hidden;padding: 0;position: absolute;width: 1px;}#sk-container-id-16 div.sk-estimator {font-family: monospace;background-color: #f0f8ff;border: 1px dotted black;border-radius: 0.25em;box-sizing: border-box;margin-bottom: 0.5em;}#sk-container-id-16 div.sk-estimator:hover {background-color: #d4ebff;}#sk-container-id-16 div.sk-parallel-item::after {content: \"\";width: 100%;border-bottom: 1px solid gray;flex-grow: 1;}#sk-container-id-16 div.sk-label:hover label.sk-toggleable__label {background-color: #d4ebff;}#sk-container-id-16 div.sk-serial::before {content: \"\";position: absolute;border-left: 1px solid gray;box-sizing: border-box;top: 0;bottom: 0;left: 50%;z-index: 0;}#sk-container-id-16 div.sk-serial {display: flex;flex-direction: column;align-items: center;background-color: white;padding-right: 0.2em;padding-left: 0.2em;position: relative;}#sk-container-id-16 div.sk-item {position: relative;z-index: 1;}#sk-container-id-16 div.sk-parallel {display: flex;align-items: stretch;justify-content: center;background-color: white;position: relative;}#sk-container-id-16 div.sk-item::before, #sk-container-id-16 div.sk-parallel-item::before {content: \"\";position: absolute;border-left: 1px solid gray;box-sizing: border-box;top: 0;bottom: 0;left: 50%;z-index: -1;}#sk-container-id-16 div.sk-parallel-item {display: flex;flex-direction: column;z-index: 1;position: relative;background-color: white;}#sk-container-id-16 div.sk-parallel-item:first-child::after {align-self: flex-end;width: 50%;}#sk-container-id-16 div.sk-parallel-item:last-child::after {align-self: flex-start;width: 50%;}#sk-container-id-16 div.sk-parallel-item:only-child::after {width: 0;}#sk-container-id-16 div.sk-dashed-wrapped {border: 1px dashed gray;margin: 0 0.4em 0.5em 0.4em;box-sizing: border-box;padding-bottom: 0.4em;background-color: white;}#sk-container-id-16 div.sk-label label {font-family: monospace;font-weight: bold;display: inline-block;line-height: 1.2em;}#sk-container-id-16 div.sk-label-container {text-align: center;}#sk-container-id-16 div.sk-container {/* jupyter's `normalize.less` sets `[hidden] { display: none; }` but bootstrap.min.css set `[hidden] { display: none !important; }` so we also need the `!important` here to be able to override the default hidden behavior on the sphinx rendered scikit-learn.org. See: https://github.com/scikit-learn/scikit-learn/issues/21755 */display: inline-block !important;position: relative;}#sk-container-id-16 div.sk-text-repr-fallback {display: none;}</style><div id=\"sk-container-id-16\" class=\"sk-top-container\"><div class=\"sk-text-repr-fallback\"><pre>DecisionTreeClassifier(random_state=18)</pre><b>In a Jupyter environment, please rerun this cell to show the HTML representation or trust the notebook. <br />On GitHub, the HTML representation is unable to render, please try loading this page with nbviewer.org.</b></div><div class=\"sk-container\" hidden><div class=\"sk-item\"><div class=\"sk-estimator sk-toggleable\"><input class=\"sk-toggleable__control sk-hidden--visually\" id=\"sk-estimator-id-16\" type=\"checkbox\" checked><label for=\"sk-estimator-id-16\" class=\"sk-toggleable__label sk-toggleable__label-arrow\">DecisionTreeClassifier</label><div class=\"sk-toggleable__content\"><pre>DecisionTreeClassifier(random_state=18)</pre></div></div></div></div></div>"
      ],
      "text/plain": [
       "DecisionTreeClassifier(random_state=18)"
      ]
     },
     "execution_count": 619,
     "metadata": {},
     "output_type": "execute_result"
    }
   ],
   "source": [
    "model_name = 'Decision Tree Classifier'\n",
    "dt_clf = dt_clf_training(x_train_normal,y_train)\n",
    "dt_clf"
   ]
  },
  {
   "cell_type": "code",
   "execution_count": 615,
   "id": "433819e2",
   "metadata": {},
   "outputs": [
    {
     "name": "stdout",
     "output_type": "stream",
     "text": [
      "************************************************** Testing Data **************************************************\n",
      "The confusion Matrix is :\n",
      " [[35  0]\n",
      " [ 0 35]]\n"
     ]
    },
    {
     "data": {
      "image/png": "[encoded data removed]",
      "text/plain": [
       "<Figure size 640x480 with 2 Axes>"
      ]
     },
     "metadata": {},
     "output_type": "display_data"
    },
    {
     "name": "stdout",
     "output_type": "stream",
     "text": [
      "==================================================\n",
      "The Accuracy is :  1.0\n",
      "==================================================\n",
      "The Classification report is :\n",
      "               precision    recall  f1-score   support\n",
      "\n",
      "           0       1.00      1.00      1.00        35\n",
      "           1       1.00      1.00      1.00        35\n",
      "\n",
      "    accuracy                           1.00        70\n",
      "   macro avg       1.00      1.00      1.00        70\n",
      "weighted avg       1.00      1.00      1.00        70\n",
      "\n",
      "************************************************** Training Data **************************************************\n",
      "The confusion matrix is :\n",
      " [[103   0]\n",
      " [  0 103]]\n"
     ]
    },
    {
     "data": {
      "image/png": "[encoded data removed]",
      "text/plain": [
       "<Figure size 640x480 with 2 Axes>"
      ]
     },
     "metadata": {},
     "output_type": "display_data"
    },
    {
     "name": "stdout",
     "output_type": "stream",
     "text": [
      "==================================================\n",
      "The accuracy is :  1.0\n",
      "==================================================\n",
      "The classification Report is :\n",
      "               precision    recall  f1-score   support\n",
      "\n",
      "           0       1.00      1.00      1.00       103\n",
      "           1       1.00      1.00      1.00       103\n",
      "\n",
      "    accuracy                           1.00       206\n",
      "   macro avg       1.00      1.00      1.00       206\n",
      "weighted avg       1.00      1.00      1.00       206\n",
      "\n"
     ]
    }
   ],
   "source": [
    "# evaluation for testing data\n",
    "\n",
    "model_evaluation_testing(dt_clf,x_test_normal,y_test)\n",
    "\n",
    "# evaluation for training data\n",
    "\n",
    "model_evaluation_training(dt_clf,x_train_normal,y_train)"
   ]
  },
  {
   "cell_type": "markdown",
   "id": "f0bb9561",
   "metadata": {},
   "source": [
    "# Hyper-parameter Tunniong"
   ]
  },
  {
   "cell_type": "code",
   "execution_count": 625,
   "id": "af20fc18",
   "metadata": {},
   "outputs": [
    {
     "data": {
      "text/html": [
       "<style>#sk-container-id-18 {color: black;background-color: white;}#sk-container-id-18 pre{padding: 0;}#sk-container-id-18 div.sk-toggleable {background-color: white;}#sk-container-id-18 label.sk-toggleable__label {cursor: pointer;display: block;width: 100%;margin-bottom: 0;padding: 0.3em;box-sizing: border-box;text-align: center;}#sk-container-id-18 label.sk-toggleable__label-arrow:before {content: \"▸\";float: left;margin-right: 0.25em;color: #696969;}#sk-container-id-18 label.sk-toggleable__label-arrow:hover:before {color: black;}#sk-container-id-18 div.sk-estimator:hover label.sk-toggleable__label-arrow:before {color: black;}#sk-container-id-18 div.sk-toggleable__content {max-height: 0;max-width: 0;overflow: hidden;text-align: left;background-color: #f0f8ff;}#sk-container-id-18 div.sk-toggleable__content pre {margin: 0.2em;color: black;border-radius: 0.25em;background-color: #f0f8ff;}#sk-container-id-18 input.sk-toggleable__control:checked~div.sk-toggleable__content {max-height: 200px;max-width: 100%;overflow: auto;}#sk-container-id-18 input.sk-toggleable__control:checked~label.sk-toggleable__label-arrow:before {content: \"▾\";}#sk-container-id-18 div.sk-estimator input.sk-toggleable__control:checked~label.sk-toggleable__label {background-color: #d4ebff;}#sk-container-id-18 div.sk-label input.sk-toggleable__control:checked~label.sk-toggleable__label {background-color: #d4ebff;}#sk-container-id-18 input.sk-hidden--visually {border: 0;clip: rect(1px 1px 1px 1px);clip: rect(1px, 1px, 1px, 1px);height: 1px;margin: -1px;overflow: hidden;padding: 0;position: absolute;width: 1px;}#sk-container-id-18 div.sk-estimator {font-family: monospace;background-color: #f0f8ff;border: 1px dotted black;border-radius: 0.25em;box-sizing: border-box;margin-bottom: 0.5em;}#sk-container-id-18 div.sk-estimator:hover {background-color: #d4ebff;}#sk-container-id-18 div.sk-parallel-item::after {content: \"\";width: 100%;border-bottom: 1px solid gray;flex-grow: 1;}#sk-container-id-18 div.sk-label:hover label.sk-toggleable__label {background-color: #d4ebff;}#sk-container-id-18 div.sk-serial::before {content: \"\";position: absolute;border-left: 1px solid gray;box-sizing: border-box;top: 0;bottom: 0;left: 50%;z-index: 0;}#sk-container-id-18 div.sk-serial {display: flex;flex-direction: column;align-items: center;background-color: white;padding-right: 0.2em;padding-left: 0.2em;position: relative;}#sk-container-id-18 div.sk-item {position: relative;z-index: 1;}#sk-container-id-18 div.sk-parallel {display: flex;align-items: stretch;justify-content: center;background-color: white;position: relative;}#sk-container-id-18 div.sk-item::before, #sk-container-id-18 div.sk-parallel-item::before {content: \"\";position: absolute;border-left: 1px solid gray;box-sizing: border-box;top: 0;bottom: 0;left: 50%;z-index: -1;}#sk-container-id-18 div.sk-parallel-item {display: flex;flex-direction: column;z-index: 1;position: relative;background-color: white;}#sk-container-id-18 div.sk-parallel-item:first-child::after {align-self: flex-end;width: 50%;}#sk-container-id-18 div.sk-parallel-item:last-child::after {align-self: flex-start;width: 50%;}#sk-container-id-18 div.sk-parallel-item:only-child::after {width: 0;}#sk-container-id-18 div.sk-dashed-wrapped {border: 1px dashed gray;margin: 0 0.4em 0.5em 0.4em;box-sizing: border-box;padding-bottom: 0.4em;background-color: white;}#sk-container-id-18 div.sk-label label {font-family: monospace;font-weight: bold;display: inline-block;line-height: 1.2em;}#sk-container-id-18 div.sk-label-container {text-align: center;}#sk-container-id-18 div.sk-container {/* jupyter's `normalize.less` sets `[hidden] { display: none; }` but bootstrap.min.css set `[hidden] { display: none !important; }` so we also need the `!important` here to be able to override the default hidden behavior on the sphinx rendered scikit-learn.org. See: https://github.com/scikit-learn/scikit-learn/issues/21755 */display: inline-block !important;position: relative;}#sk-container-id-18 div.sk-text-repr-fallback {display: none;}</style><div id=\"sk-container-id-18\" class=\"sk-top-container\"><div class=\"sk-text-repr-fallback\"><pre>DecisionTreeClassifier(max_depth=3, min_samples_leaf=5, min_samples_split=8)</pre><b>In a Jupyter environment, please rerun this cell to show the HTML representation or trust the notebook. <br />On GitHub, the HTML representation is unable to render, please try loading this page with nbviewer.org.</b></div><div class=\"sk-container\" hidden><div class=\"sk-item\"><div class=\"sk-estimator sk-toggleable\"><input class=\"sk-toggleable__control sk-hidden--visually\" id=\"sk-estimator-id-18\" type=\"checkbox\" checked><label for=\"sk-estimator-id-18\" class=\"sk-toggleable__label sk-toggleable__label-arrow\">DecisionTreeClassifier</label><div class=\"sk-toggleable__content\"><pre>DecisionTreeClassifier(max_depth=3, min_samples_leaf=5, min_samples_split=8)</pre></div></div></div></div></div>"
      ],
      "text/plain": [
       "DecisionTreeClassifier(max_depth=3, min_samples_leaf=5, min_samples_split=8)"
      ]
     },
     "execution_count": 625,
     "metadata": {},
     "output_type": "execute_result"
    }
   ],
   "source": [
    "gscv_dt_clf = dt_gscv_best_estimator(x_train_normal,y_train)\n",
    "gscv_dt_clf"
   ]
  },
  {
   "cell_type": "code",
   "execution_count": 626,
   "id": "6f19c04f",
   "metadata": {},
   "outputs": [
    {
     "name": "stdout",
     "output_type": "stream",
     "text": [
      "************************************************** Testing Data **************************************************\n",
      "The confusion Matrix is :\n",
      " [[35  0]\n",
      " [ 0 35]]\n"
     ]
    },
    {
     "data": {
      "image/png": "[encoded data removed]",
      "text/plain": [
       "<Figure size 640x480 with 2 Axes>"
      ]
     },
     "metadata": {},
     "output_type": "display_data"
    },
    {
     "name": "stdout",
     "output_type": "stream",
     "text": [
      "==================================================\n",
      "The Accuracy is :  1.0\n",
      "==================================================\n",
      "The Classification report is :\n",
      "               precision    recall  f1-score   support\n",
      "\n",
      "           0       1.00      1.00      1.00        35\n",
      "           1       1.00      1.00      1.00        35\n",
      "\n",
      "    accuracy                           1.00        70\n",
      "   macro avg       1.00      1.00      1.00        70\n",
      "weighted avg       1.00      1.00      1.00        70\n",
      "\n",
      "************************************************** Training Data **************************************************\n",
      "The confusion matrix is :\n",
      " [[103   0]\n",
      " [  1 102]]\n"
     ]
    },
    {
     "data": {
      "image/png": "[encoded data removed]",
      "text/plain": [
       "<Figure size 640x480 with 2 Axes>"
      ]
     },
     "metadata": {},
     "output_type": "display_data"
    },
    {
     "name": "stdout",
     "output_type": "stream",
     "text": [
      "==================================================\n",
      "The accuracy is :  0.9951456310679612\n",
      "==================================================\n",
      "The classification Report is :\n",
      "               precision    recall  f1-score   support\n",
      "\n",
      "           0       0.99      1.00      1.00       103\n",
      "           1       1.00      0.99      1.00       103\n",
      "\n",
      "    accuracy                           1.00       206\n",
      "   macro avg       1.00      1.00      1.00       206\n",
      "weighted avg       1.00      1.00      1.00       206\n",
      "\n"
     ]
    }
   ],
   "source": [
    "# evaluation for testing data\n",
    "\n",
    "model_evaluation_testing(gscv_dt_clf,x_test_normal,y_test)\n",
    "\n",
    "# evaluation for training data\n",
    "\n",
    "model_evaluation_training(gscv_dt_clf,x_train_normal,y_train)"
   ]
  },
  {
   "cell_type": "code",
   "execution_count": 620,
   "id": "79fb0b3c",
   "metadata": {},
   "outputs": [
    {
     "data": {
      "text/html": [
       "<style>#sk-container-id-17 {color: black;background-color: white;}#sk-container-id-17 pre{padding: 0;}#sk-container-id-17 div.sk-toggleable {background-color: white;}#sk-container-id-17 label.sk-toggleable__label {cursor: pointer;display: block;width: 100%;margin-bottom: 0;padding: 0.3em;box-sizing: border-box;text-align: center;}#sk-container-id-17 label.sk-toggleable__label-arrow:before {content: \"▸\";float: left;margin-right: 0.25em;color: #696969;}#sk-container-id-17 label.sk-toggleable__label-arrow:hover:before {color: black;}#sk-container-id-17 div.sk-estimator:hover label.sk-toggleable__label-arrow:before {color: black;}#sk-container-id-17 div.sk-toggleable__content {max-height: 0;max-width: 0;overflow: hidden;text-align: left;background-color: #f0f8ff;}#sk-container-id-17 div.sk-toggleable__content pre {margin: 0.2em;color: black;border-radius: 0.25em;background-color: #f0f8ff;}#sk-container-id-17 input.sk-toggleable__control:checked~div.sk-toggleable__content {max-height: 200px;max-width: 100%;overflow: auto;}#sk-container-id-17 input.sk-toggleable__control:checked~label.sk-toggleable__label-arrow:before {content: \"▾\";}#sk-container-id-17 div.sk-estimator input.sk-toggleable__control:checked~label.sk-toggleable__label {background-color: #d4ebff;}#sk-container-id-17 div.sk-label input.sk-toggleable__control:checked~label.sk-toggleable__label {background-color: #d4ebff;}#sk-container-id-17 input.sk-hidden--visually {border: 0;clip: rect(1px 1px 1px 1px);clip: rect(1px, 1px, 1px, 1px);height: 1px;margin: -1px;overflow: hidden;padding: 0;position: absolute;width: 1px;}#sk-container-id-17 div.sk-estimator {font-family: monospace;background-color: #f0f8ff;border: 1px dotted black;border-radius: 0.25em;box-sizing: border-box;margin-bottom: 0.5em;}#sk-container-id-17 div.sk-estimator:hover {background-color: #d4ebff;}#sk-container-id-17 div.sk-parallel-item::after {content: \"\";width: 100%;border-bottom: 1px solid gray;flex-grow: 1;}#sk-container-id-17 div.sk-label:hover label.sk-toggleable__label {background-color: #d4ebff;}#sk-container-id-17 div.sk-serial::before {content: \"\";position: absolute;border-left: 1px solid gray;box-sizing: border-box;top: 0;bottom: 0;left: 50%;z-index: 0;}#sk-container-id-17 div.sk-serial {display: flex;flex-direction: column;align-items: center;background-color: white;padding-right: 0.2em;padding-left: 0.2em;position: relative;}#sk-container-id-17 div.sk-item {position: relative;z-index: 1;}#sk-container-id-17 div.sk-parallel {display: flex;align-items: stretch;justify-content: center;background-color: white;position: relative;}#sk-container-id-17 div.sk-item::before, #sk-container-id-17 div.sk-parallel-item::before {content: \"\";position: absolute;border-left: 1px solid gray;box-sizing: border-box;top: 0;bottom: 0;left: 50%;z-index: -1;}#sk-container-id-17 div.sk-parallel-item {display: flex;flex-direction: column;z-index: 1;position: relative;background-color: white;}#sk-container-id-17 div.sk-parallel-item:first-child::after {align-self: flex-end;width: 50%;}#sk-container-id-17 div.sk-parallel-item:last-child::after {align-self: flex-start;width: 50%;}#sk-container-id-17 div.sk-parallel-item:only-child::after {width: 0;}#sk-container-id-17 div.sk-dashed-wrapped {border: 1px dashed gray;margin: 0 0.4em 0.5em 0.4em;box-sizing: border-box;padding-bottom: 0.4em;background-color: white;}#sk-container-id-17 div.sk-label label {font-family: monospace;font-weight: bold;display: inline-block;line-height: 1.2em;}#sk-container-id-17 div.sk-label-container {text-align: center;}#sk-container-id-17 div.sk-container {/* jupyter's `normalize.less` sets `[hidden] { display: none; }` but bootstrap.min.css set `[hidden] { display: none !important; }` so we also need the `!important` here to be able to override the default hidden behavior on the sphinx rendered scikit-learn.org. See: https://github.com/scikit-learn/scikit-learn/issues/21755 */display: inline-block !important;position: relative;}#sk-container-id-17 div.sk-text-repr-fallback {display: none;}</style><div id=\"sk-container-id-17\" class=\"sk-top-container\"><div class=\"sk-text-repr-fallback\"><pre>DecisionTreeClassifier(max_depth=6, min_samples_leaf=5, min_samples_split=10,\n",
       "                       random_state=46)</pre><b>In a Jupyter environment, please rerun this cell to show the HTML representation or trust the notebook. <br />On GitHub, the HTML representation is unable to render, please try loading this page with nbviewer.org.</b></div><div class=\"sk-container\" hidden><div class=\"sk-item\"><div class=\"sk-estimator sk-toggleable\"><input class=\"sk-toggleable__control sk-hidden--visually\" id=\"sk-estimator-id-17\" type=\"checkbox\" checked><label for=\"sk-estimator-id-17\" class=\"sk-toggleable__label sk-toggleable__label-arrow\">DecisionTreeClassifier</label><div class=\"sk-toggleable__content\"><pre>DecisionTreeClassifier(max_depth=6, min_samples_leaf=5, min_samples_split=10,\n",
       "                       random_state=46)</pre></div></div></div></div></div>"
      ],
      "text/plain": [
       "DecisionTreeClassifier(max_depth=6, min_samples_leaf=5, min_samples_split=10,\n",
       "                       random_state=46)"
      ]
     },
     "execution_count": 620,
     "metadata": {},
     "output_type": "execute_result"
    }
   ],
   "source": [
    "rscv_dt_clf = dt_rscv_best_estimator(x_train_normal,y_train)\n",
    "rscv_dt_clf"
   ]
  },
  {
   "cell_type": "code",
   "execution_count": 621,
   "id": "03a345f0",
   "metadata": {},
   "outputs": [
    {
     "name": "stdout",
     "output_type": "stream",
     "text": [
      "************************************************** Testing Data **************************************************\n",
      "The confusion Matrix is :\n",
      " [[35  0]\n",
      " [ 0 35]]\n"
     ]
    },
    {
     "data": {
      "image/png": "[encoded data removed]",
      "text/plain": [
       "<Figure size 640x480 with 2 Axes>"
      ]
     },
     "metadata": {},
     "output_type": "display_data"
    },
    {
     "name": "stdout",
     "output_type": "stream",
     "text": [
      "==================================================\n",
      "The Accuracy is :  1.0\n",
      "==================================================\n",
      "The Classification report is :\n",
      "               precision    recall  f1-score   support\n",
      "\n",
      "           0       1.00      1.00      1.00        35\n",
      "           1       1.00      1.00      1.00        35\n",
      "\n",
      "    accuracy                           1.00        70\n",
      "   macro avg       1.00      1.00      1.00        70\n",
      "weighted avg       1.00      1.00      1.00        70\n",
      "\n",
      "************************************************** Training Data **************************************************\n",
      "The confusion matrix is :\n",
      " [[103   0]\n",
      " [  1 102]]\n"
     ]
    },
    {
     "data": {
      "image/png": "[encoded data removed]",
      "text/plain": [
       "<Figure size 640x480 with 2 Axes>"
      ]
     },
     "metadata": {},
     "output_type": "display_data"
    },
    {
     "name": "stdout",
     "output_type": "stream",
     "text": [
      "==================================================\n",
      "The accuracy is :  0.9951456310679612\n",
      "==================================================\n",
      "The classification Report is :\n",
      "               precision    recall  f1-score   support\n",
      "\n",
      "           0       0.99      1.00      1.00       103\n",
      "           1       1.00      0.99      1.00       103\n",
      "\n",
      "    accuracy                           1.00       206\n",
      "   macro avg       1.00      1.00      1.00       206\n",
      "weighted avg       1.00      1.00      1.00       206\n",
      "\n"
     ]
    }
   ],
   "source": [
    "# evaluation for testing data\n",
    "\n",
    "model_evaluation_testing(rscv_dt_clf,x_test_normal,y_test)\n",
    "\n",
    "# evaluation for training data\n",
    "\n",
    "model_evaluation_training(rscv_dt_clf,x_train_normal,y_train)"
   ]
  },
  {
   "cell_type": "code",
   "execution_count": null,
   "id": "47a63d83",
   "metadata": {},
   "outputs": [],
   "source": []
  }
 ],
 "metadata": {
  "kernelspec": {
   "display_name": "Python 3 (ipykernel)",
   "language": "python",
   "name": "python3"
  },
  "language_info": {
   "codemirror_mode": {
    "name": "ipython",
    "version": 3
   },
   "file_extension": ".py",
   "mimetype": "text/x-python",
   "name": "python",
   "nbconvert_exporter": "python",
   "pygments_lexer": "ipython3",
   "version": "3.11.1"
  }
 },
 "nbformat": 4,
 "nbformat_minor": 5
}
